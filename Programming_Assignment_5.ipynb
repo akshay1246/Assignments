{
  "nbformat": 4,
  "nbformat_minor": 0,
  "metadata": {
    "colab": {
      "provenance": []
    },
    "kernelspec": {
      "name": "python3",
      "display_name": "Python 3"
    },
    "language_info": {
      "name": "python"
    }
  },
  "cells": [
    {
      "cell_type": "markdown",
      "source": [
        "#1. Write a Python Program to Find LCM?"
      ],
      "metadata": {
        "id": "NfW7ixOqqqvc"
      }
    },
    {
      "cell_type": "code",
      "source": [
        "num1=4\n",
        "num2=6\n",
        "\n",
        "new=range(1,100)\n",
        "set1=[]\n",
        "set2=[]\n",
        "\n",
        "\n",
        "\n",
        "for i in new:\n",
        "  set1.append(i*num1)\n",
        "\n",
        "for i in new:\n",
        "  set2.append(i*num2)\n",
        "\n",
        "\n",
        "set1=set(set1)\n",
        "set2=set(set2)\n",
        "\n",
        "\n",
        "print('The LCM of 4 & 6 is', min(set1.intersection(set2)))"
      ],
      "metadata": {
        "colab": {
          "base_uri": "https://localhost:8080/"
        },
        "id": "fUu8lb3lqsCs",
        "outputId": "804c1b90-ef37-47ef-a307-67358e8773d7"
      },
      "execution_count": 1,
      "outputs": [
        {
          "output_type": "stream",
          "name": "stdout",
          "text": [
            "The LCM of 4 & 6 is 12\n"
          ]
        }
      ]
    },
    {
      "cell_type": "code",
      "source": [
        "num1=9\n",
        "num2=5\n",
        "\n",
        "new=range(1,100)\n",
        "set1=[]\n",
        "set2=[]\n",
        "\n",
        "\n",
        "\n",
        "for i in new:\n",
        "  set1.append(i*num1)\n",
        "\n",
        "for i in new:\n",
        "  set2.append(i*num2)\n",
        "\n",
        "\n",
        "set1=set(set1)\n",
        "set2=set(set2)\n",
        "\n",
        "\n",
        "print('The LCM of 9 & 5 is', min(set1.intersection(set2)))"
      ],
      "metadata": {
        "colab": {
          "base_uri": "https://localhost:8080/"
        },
        "id": "JfkvI64buhwM",
        "outputId": "317a6348-8282-4068-8a8a-0d0a76b93d4d"
      },
      "execution_count": 2,
      "outputs": [
        {
          "output_type": "stream",
          "name": "stdout",
          "text": [
            "The LCM of 9 & 5 is 45\n"
          ]
        }
      ]
    },
    {
      "cell_type": "markdown",
      "source": [
        "#2. Write a Python Program to Find HCF?"
      ],
      "metadata": {
        "id": "FM-9M2vGvVt8"
      }
    },
    {
      "cell_type": "code",
      "source": [
        "num1=21\n",
        "num2=12\n",
        "\n",
        "new=range(2,100)\n",
        "set1=[]\n",
        "set2=[]\n",
        "\n",
        "\n",
        "for i in new:\n",
        "  if num1%i==0:\n",
        "    set1.append(i)\n",
        "\n",
        "for i in new:\n",
        "  if num2%i==0:\n",
        "    set2.append(i)\n",
        "\n",
        "\n",
        "set1=set(set1)\n",
        "set2=set(set2)\n",
        "\n",
        "\n",
        "print('The HCF of 21 & 12 is', min(set1.intersection(set2)))"
      ],
      "metadata": {
        "colab": {
          "base_uri": "https://localhost:8080/"
        },
        "id": "YOViWZt_vW5E",
        "outputId": "753dcf2b-6a5e-49f8-8041-76f16e927c66"
      },
      "execution_count": 3,
      "outputs": [
        {
          "output_type": "stream",
          "name": "stdout",
          "text": [
            "The HCF of 21 & 12 is 3\n"
          ]
        }
      ]
    },
    {
      "cell_type": "code",
      "source": [
        "num1=12\n",
        "num2=14\n",
        "\n",
        "new=range(2,100)\n",
        "set1=[]\n",
        "set2=[]\n",
        "\n",
        "\n",
        "for i in new:\n",
        "  if num1%i==0:\n",
        "    set1.append(i)\n",
        "\n",
        "for i in new:\n",
        "  if num2%i==0:\n",
        "    set2.append(i)\n",
        "\n",
        "\n",
        "set1=set(set1)\n",
        "set2=set(set2)\n",
        "\n",
        "\n",
        "print('The HCF of 14 & 12 is', min(set1.intersection(set2)))"
      ],
      "metadata": {
        "colab": {
          "base_uri": "https://localhost:8080/"
        },
        "id": "iHWxA-F_3CBA",
        "outputId": "609bd515-dff2-4d92-c1b6-c1c433c3e226"
      },
      "execution_count": 4,
      "outputs": [
        {
          "output_type": "stream",
          "name": "stdout",
          "text": [
            "The HCF of 14 & 12 is 2\n"
          ]
        }
      ]
    },
    {
      "cell_type": "markdown",
      "source": [
        "# 3. Write a Python Program to Convert Decimal to Binary, Octal and Hexadecimal?"
      ],
      "metadata": {
        "id": "nWJQxVq53MgP"
      }
    },
    {
      "cell_type": "code",
      "source": [
        "num=int(input('Enter a number: '))\n",
        "\n",
        "print('The original decimal number is',num )\n",
        "print('The binary number is',bin(num))\n",
        "print('The octal number is',oct(num))\n",
        "print('The hexadecimal number is',hex(num))"
      ],
      "metadata": {
        "colab": {
          "base_uri": "https://localhost:8080/"
        },
        "id": "0Y-AqH2J3Pwn",
        "outputId": "dee20df8-0849-4b73-955b-89356c3be19a"
      },
      "execution_count": 5,
      "outputs": [
        {
          "output_type": "stream",
          "name": "stdout",
          "text": [
            "Enter a number: 356\n",
            "The original decimal number is 356\n",
            "The binary number is 0b101100100\n",
            "The octal number is 0o544\n",
            "The hexadecimal number is 0x164\n"
          ]
        }
      ]
    },
    {
      "cell_type": "markdown",
      "source": [
        "#4. Write a Python Program To Find ASCII value of a character?"
      ],
      "metadata": {
        "id": "36u3JdTH4Fth"
      }
    },
    {
      "cell_type": "code",
      "source": [
        "name1='A'\n",
        "name2 ='Z'\n",
        "\n",
        "print('The ASCII value of A is', ord(name1))\n",
        "\n",
        "print('The ASCII value of Z is', ord(name2))"
      ],
      "metadata": {
        "colab": {
          "base_uri": "https://localhost:8080/"
        },
        "id": "fxDP3ArJ3Ucp",
        "outputId": "dfd52f26-079a-4b40-fa93-69d39231010c"
      },
      "execution_count": 6,
      "outputs": [
        {
          "output_type": "stream",
          "name": "stdout",
          "text": [
            "The ASCII value of A is 65\n",
            "The ASCII value of Z is 90\n"
          ]
        }
      ]
    },
    {
      "cell_type": "markdown",
      "source": [
        "#5. Write a Python Program to Make a Simple Calculator with 4 basic mathematical operations?"
      ],
      "metadata": {
        "id": "REgI8k3Rqov0"
      }
    },
    {
      "cell_type": "code",
      "source": [
        "choice=input(\"\"\"Input your choice \n",
        "a - Addition\n",
        "b - Subtraction\n",
        "c - Multiplication\n",
        "d - Division :\"\"\")\n",
        "\n",
        "\n",
        "A=int(input('Enter the first number:'))\n",
        "B=int(input('Enter the first number:'))\n",
        "\n",
        "if choice=='a':\n",
        "  Addition =A+B\n",
        "  print(f'The sum of {A} & {B} is', Addition)\n",
        "\n",
        "elif choice=='b':\n",
        "  Subtraction=A-B\n",
        "  print(f'The subtraction of {A} & {B} is', Subtraction)\n",
        "\n",
        "elif choice=='c':\n",
        "  Multiplication =A*B\n",
        "  print(f'The multiplication of {A} & {B} is', Multiplication)\n",
        "\n",
        "elif choice=='d':\n",
        "  Division =A/B\n",
        "  print(f'The division of {A} & {B} is', Division)\n",
        "\n",
        "else:\n",
        "  print('Invalid input')"
      ],
      "metadata": {
        "colab": {
          "base_uri": "https://localhost:8080/"
        },
        "id": "WMf21wPM6orn",
        "outputId": "7cabedc3-5e68-4536-9da5-6b01e17c40aa"
      },
      "execution_count": 26,
      "outputs": [
        {
          "output_type": "stream",
          "name": "stdout",
          "text": [
            "Input your choice \n",
            "a - Addition\n",
            "b - Subtraction\n",
            "c - Multiplication\n",
            "d - Division :a\n",
            "Enter the first number:34\n",
            "Enter the first number:87\n",
            "The sum of 34 & 87 is 121\n"
          ]
        }
      ]
    },
    {
      "cell_type": "code",
      "source": [
        "choice=input(\"\"\"Input your choice \n",
        "a - Addition\n",
        "b - Subtraction\n",
        "c - Multiplication\n",
        "d - Division :\"\"\")\n",
        "\n",
        "\n",
        "A=int(input('Enter the first number:'))\n",
        "B=int(input('Enter the first number:'))\n",
        "\n",
        "if choice=='a':\n",
        "  Addition =A+B\n",
        "  print(f'The sum of {A} & {B} is', Addition)\n",
        "\n",
        "elif choice=='b':\n",
        "  Subtraction=A-B\n",
        "  print(f'The subtraction of {A} & {B} is', Subtraction)\n",
        "\n",
        "elif choice=='c':\n",
        "  Multiplication =A*B\n",
        "  print(f'The multiplication of {A} & {B} is', Multiplication)\n",
        "\n",
        "elif choice=='d':\n",
        "  Division =A/B\n",
        "  print(f'The division of {A} & {B} is', Division)\n",
        "\n",
        "else:\n",
        "  print('Invalid input')"
      ],
      "metadata": {
        "colab": {
          "base_uri": "https://localhost:8080/"
        },
        "id": "yb8lW36o-kph",
        "outputId": "5bba9964-d245-4dd7-e2c1-926ea1743091"
      },
      "execution_count": 28,
      "outputs": [
        {
          "output_type": "stream",
          "name": "stdout",
          "text": [
            "Input your choice \n",
            "a - Addition\n",
            "b - Subtraction\n",
            "c - Multiplication\n",
            "d - Division :c\n",
            "Enter the first number:45\n",
            "Enter the first number:4\n",
            "The multiplication of 45 & 4 is 180\n"
          ]
        }
      ]
    }
  ]
}