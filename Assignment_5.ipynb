{
  "nbformat": 4,
  "nbformat_minor": 0,
  "metadata": {
    "colab": {
      "provenance": []
    },
    "kernelspec": {
      "name": "python3",
      "display_name": "Python 3"
    },
    "language_info": {
      "name": "python"
    }
  },
  "cells": [
    {
      "cell_type": "markdown",
      "source": [
        "#1. What does an empty dictionary's code look like?"
      ],
      "metadata": {
        "id": "cGBqmTJS-Fa9"
      }
    },
    {
      "cell_type": "code",
      "source": [
        "d={}\n",
        "\n",
        "type(d)"
      ],
      "metadata": {
        "colab": {
          "base_uri": "https://localhost:8080/"
        },
        "id": "nya7aFoS-DQV",
        "outputId": "808ee315-6048-4895-a200-d2d21d160619"
      },
      "execution_count": 52,
      "outputs": [
        {
          "output_type": "execute_result",
          "data": {
            "text/plain": [
              "dict"
            ]
          },
          "metadata": {},
          "execution_count": 52
        }
      ]
    },
    {
      "cell_type": "markdown",
      "source": [
        "#2. What is the value of a dictionary value with the key 'foo' and the value 42?"
      ],
      "metadata": {
        "id": "En3XrPWs-PZk"
      }
    },
    {
      "cell_type": "code",
      "source": [
        "new={'foo':42}\n",
        "\n",
        "print(new.keys())\n",
        "print(new.values())"
      ],
      "metadata": {
        "colab": {
          "base_uri": "https://localhost:8080/"
        },
        "id": "V0GZHicr-YC7",
        "outputId": "ceab6ffe-17b7-4b6b-fb5f-512093bbe51e"
      },
      "execution_count": 3,
      "outputs": [
        {
          "output_type": "stream",
          "name": "stdout",
          "text": [
            "dict_keys(['foo'])\n",
            "dict_values([42])\n"
          ]
        }
      ]
    },
    {
      "cell_type": "markdown",
      "source": [
        "#3. What is the most significant distinction between a dictionary and a list?"
      ],
      "metadata": {
        "id": "oQzvyjvP-iak"
      }
    },
    {
      "cell_type": "code",
      "source": [
        "# List contains a list of element of various dataypes whereas in dictionary values are present in key value pair.\n",
        "#Lists is ordered and dictionary is unordered"
      ],
      "metadata": {
        "id": "GogMaMPj-jqF"
      },
      "execution_count": null,
      "outputs": []
    },
    {
      "cell_type": "markdown",
      "source": [
        "#4. What happens if you try to access spam['foo'] if spam is {'bar': 100}?"
      ],
      "metadata": {
        "id": "j9-b60Ga-uoU"
      }
    },
    {
      "cell_type": "code",
      "source": [
        "spam={'bar':100}\n",
        "\n",
        "spam['foo'] #we will get an error, since 'foo' is not a key in spam"
      ],
      "metadata": {
        "colab": {
          "base_uri": "https://localhost:8080/",
          "height": 201
        },
        "id": "beuDacG3-3D7",
        "outputId": "da462220-753b-41c0-fef9-e9c440b675e9"
      },
      "execution_count": 6,
      "outputs": [
        {
          "output_type": "error",
          "ename": "KeyError",
          "evalue": "ignored",
          "traceback": [
            "\u001b[0;31m---------------------------------------------------------------------------\u001b[0m",
            "\u001b[0;31mKeyError\u001b[0m                                  Traceback (most recent call last)",
            "\u001b[0;32m<ipython-input-6-42528b2a1589>\u001b[0m in \u001b[0;36m<module>\u001b[0;34m\u001b[0m\n\u001b[1;32m      1\u001b[0m \u001b[0mspam\u001b[0m\u001b[0;34m=\u001b[0m\u001b[0;34m{\u001b[0m\u001b[0;34m'bar'\u001b[0m\u001b[0;34m:\u001b[0m\u001b[0;36m100\u001b[0m\u001b[0;34m}\u001b[0m\u001b[0;34m\u001b[0m\u001b[0;34m\u001b[0m\u001b[0m\n\u001b[1;32m      2\u001b[0m \u001b[0;34m\u001b[0m\u001b[0m\n\u001b[0;32m----> 3\u001b[0;31m \u001b[0mspam\u001b[0m\u001b[0;34m[\u001b[0m\u001b[0;34m'foo'\u001b[0m\u001b[0;34m]\u001b[0m \u001b[0;31m#we will get an error, since 'foo' is not a key in spam\u001b[0m\u001b[0;34m\u001b[0m\u001b[0;34m\u001b[0m\u001b[0m\n\u001b[0m",
            "\u001b[0;31mKeyError\u001b[0m: 'foo'"
          ]
        }
      ]
    },
    {
      "cell_type": "markdown",
      "source": [
        "# 5. If a dictionary is stored in spam, what is the difference between the expressions cat in spam and cat in spam.keys()?"
      ],
      "metadata": {
        "id": "--iFRnhZ_J67"
      }
    },
    {
      "cell_type": "code",
      "source": [
        "spam={'cat':100}\n",
        "\n",
        "print(spam.keys())     #Keys will give the name of all the keys present in the dictionary\n",
        "print(spam['cat'])       # cat in spam will give the value of key 'cat'"
      ],
      "metadata": {
        "colab": {
          "base_uri": "https://localhost:8080/"
        },
        "id": "q6mALy5k_Qv8",
        "outputId": "67becfdc-8f6b-4a4c-bdaf-a346859c4658"
      },
      "execution_count": 8,
      "outputs": [
        {
          "output_type": "stream",
          "name": "stdout",
          "text": [
            "dict_keys(['cat'])\n",
            "100\n"
          ]
        }
      ]
    },
    {
      "cell_type": "markdown",
      "source": [
        "#6. If a dictionary is stored in spam, what is the difference between the expressions cat in spam and cat in spam.values()?"
      ],
      "metadata": {
        "id": "4UmEjr_tBMSp"
      }
    },
    {
      "cell_type": "code",
      "source": [
        "spam={'cat':100}\n",
        "\n",
        "print(spam.values())     #values will give all the the values present in the dictionary \n",
        "print(spam['cat'])       #cat in spam will give the value of key 'cat'"
      ],
      "metadata": {
        "colab": {
          "base_uri": "https://localhost:8080/"
        },
        "id": "LL-KP2ujBRYk",
        "outputId": "c0130fb4-891d-4d4f-866f-bb0840d6ab8f"
      },
      "execution_count": 9,
      "outputs": [
        {
          "output_type": "stream",
          "name": "stdout",
          "text": [
            "dict_values([100])\n",
            "100\n"
          ]
        }
      ]
    },
    {
      "cell_type": "markdown",
      "source": [
        "# 7. What is a shortcut for the following code? if &#39;color&#39; not in spam: spam[&#39;color&#39;] = &#39;black&#39;"
      ],
      "metadata": {
        "id": "P-ou1kamBkBE"
      }
    },
    {
      "cell_type": "code",
      "source": [
        "spam={'num':45}\n",
        "\n",
        "\n",
        "spam.setdefault('color', 'black')\n",
        "\n",
        "print(spam) #new key value pair is added\n",
        "\n"
      ],
      "metadata": {
        "colab": {
          "base_uri": "https://localhost:8080/"
        },
        "id": "XrScqfppBl6z",
        "outputId": "80b2476c-befd-4f32-d5c3-dc699dd361fc"
      },
      "execution_count": 15,
      "outputs": [
        {
          "output_type": "stream",
          "name": "stdout",
          "text": [
            "{'num': 45, 'color': 'black'}\n"
          ]
        }
      ]
    },
    {
      "cell_type": "markdown",
      "source": [
        "# 8. How do you &quot;pretty print&quot; dictionary values using which module and function?"
      ],
      "metadata": {
        "id": "MTia9w26-DkM"
      }
    },
    {
      "cell_type": "code",
      "source": [
        "import pprint\n",
        "\n",
        "\n",
        "sample_dict = {'name': 'Nik', 'age': 31, 'gender': 'male','books': ['Harry Potter', 'Lord of the Rings']}\n",
        "\n",
        "print(sample_dict)\n",
        "\n"
      ],
      "metadata": {
        "colab": {
          "base_uri": "https://localhost:8080/"
        },
        "id": "L0uiD_cFDARh",
        "outputId": "179f20b0-604c-4156-da96-adf57f447f6e"
      },
      "execution_count": 44,
      "outputs": [
        {
          "output_type": "stream",
          "name": "stdout",
          "text": [
            "{'name': 'Nik', 'age': 31, 'gender': 'male', 'books': ['Harry Potter', 'Lord of the Rings']}\n"
          ]
        }
      ]
    },
    {
      "cell_type": "code",
      "source": [
        "pprint.pprint(sample_dict)"
      ],
      "metadata": {
        "colab": {
          "base_uri": "https://localhost:8080/"
        },
        "id": "WInVItTTDHVB",
        "outputId": "b89ea714-df00-4548-84cf-0cb127875ab2"
      },
      "execution_count": 45,
      "outputs": [
        {
          "output_type": "stream",
          "name": "stdout",
          "text": [
            "{'age': 31,\n",
            " 'books': ['Harry Potter', 'Lord of the Rings'],\n",
            " 'gender': 'male',\n",
            " 'name': 'Nik'}\n"
          ]
        }
      ]
    },
    {
      "cell_type": "code",
      "source": [],
      "metadata": {
        "id": "kWVOrMShEx2p"
      },
      "execution_count": null,
      "outputs": []
    }
  ]
}