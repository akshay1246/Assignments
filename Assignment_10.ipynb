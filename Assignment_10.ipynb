{
  "nbformat": 4,
  "nbformat_minor": 0,
  "metadata": {
    "colab": {
      "provenance": []
    },
    "kernelspec": {
      "name": "python3",
      "display_name": "Python 3"
    },
    "language_info": {
      "name": "python"
    }
  },
  "cells": [
    {
      "cell_type": "markdown",
      "source": [
        "1. How do you distinguish between shutil.copy() and shutil.copytree()?"
      ],
      "metadata": {
        "id": "VmIniQuC1kza"
      }
    },
    {
      "cell_type": "markdown",
      "source": [
        "While shutil. copy() will copy a single file, shutil. copytree() will copy an entire folder and every folder and file contained in it."
      ],
      "metadata": {
        "id": "i6ZpJvKy1mH3"
      }
    },
    {
      "cell_type": "markdown",
      "source": [
        "2. What function is used to rename files??"
      ],
      "metadata": {
        "id": "K8K6lJu61pII"
      }
    },
    {
      "cell_type": "markdown",
      "source": [
        "use the rename() method of the os module"
      ],
      "metadata": {
        "id": "9lS41VH01or5"
      }
    },
    {
      "cell_type": "markdown",
      "source": [
        "3. What is the difference between the delete functions in the send2trash and shutil modules?"
      ],
      "metadata": {
        "id": "F9b6Fe3p1uzY"
      }
    },
    {
      "cell_type": "markdown",
      "source": [
        "The send2trash functions will move a file or folder to the recycle bin, while shutil functions will permanently delete files and folders"
      ],
      "metadata": {
        "id": "59rXuXCl1wuI"
      }
    },
    {
      "cell_type": "markdown",
      "source": [
        "\n",
        "4.ZipFile objects have a close() method just like File objects’ close() method. What ZipFile method is\n",
        "equivalent to File objects’ open() method?"
      ],
      "metadata": {
        "id": "6_QWL6wR10Ho"
      }
    },
    {
      "cell_type": "markdown",
      "source": [
        "The zipfile. ZipFile() function is equivalent to the open() function; the first argument is the filename, and the second argument is the mode to open the ZIP file in (read, write, or append)"
      ],
      "metadata": {
        "id": "k3eMtVy-10-I"
      }
    },
    {
      "cell_type": "markdown",
      "source": [
        "\n",
        "5. Create a programme that searches a folder tree for files with a certain file extension (such as .pdf\n",
        "or .jpg). Copy these files from whatever location they are in to a new folder."
      ],
      "metadata": {
        "id": "VK0bRV9B1hVZ"
      }
    },
    {
      "cell_type": "code",
      "source": [
        "import os, shutil\n",
        "\n",
        "def selectiveCopy(folder, extensions, destFolder):\n",
        "\tfolder = os.path.abspath(folder)\n",
        "\tdestFolder = os.path.abspath(destFolder)\n",
        "\tprint('Looking in', folder, 'for files with extensions of', ', '.join(extensions))\n",
        "\tfor foldername, subfolders, filenames in os.walk(folder):\n",
        "\t\tfor filename in filenames:\n",
        "\t\t\tname, extension = os.path.splitext(filename)\n",
        "\t\t\tif extension in extensions:\n",
        "\t\t\t\tfileAbsPath = foldername + os.path.sep + filename\n",
        "\t\t\t\tprint('Coping', fileAbsPath, 'to', destFolder)\n",
        "\t\t\t\tshutil.copy(fileAbsPath, destFolder)\n",
        "\n",
        "extensions = ['.php', '.py']\n",
        "folder = 'randomFolder'\n",
        "destFolder = 'selectiveFolder'\n",
        "selectiveCopy(folder, extensions, destFolder)"
      ],
      "metadata": {
        "id": "Q6HLGFrn2Afy"
      },
      "execution_count": null,
      "outputs": []
    }
  ]
}