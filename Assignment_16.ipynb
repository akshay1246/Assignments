{
  "cells": [
    {
      "cell_type": "markdown",
      "id": "liberal-account",
      "metadata": {
        "id": "liberal-account"
      },
      "source": [
        "1. Create a list called years_list, starting with the year of your birth, and each year thereafter until the year of your fifth birthday. For example, if you were born in 1980. the list would be years_list = [1980, 1981, 1982, 1983, 1984, 1985].\n",
        "\n",
        "    \n"
      ]
    },
    {
      "cell_type": "code",
      "execution_count": null,
      "id": "92133134",
      "metadata": {
        "id": "92133134"
      },
      "outputs": [],
      "source": [
        "years_list = [1996,1997,1998,1999,2000,2001]"
      ]
    },
    {
      "cell_type": "markdown",
      "id": "sharing-council",
      "metadata": {
        "id": "sharing-council"
      },
      "source": [
        "2. In which year in years_list was your third birthday? Remember, you were 0 years of age for your first year.\n",
        " \n"
      ]
    },
    {
      "cell_type": "code",
      "execution_count": null,
      "id": "b0b32b0e",
      "metadata": {
        "id": "b0b32b0e",
        "outputId": "8b86d395-5779-4ae5-a43c-033fc33ebcb4"
      },
      "outputs": [
        {
          "data": {
            "text/plain": [
              "1998"
            ]
          },
          "execution_count": 3,
          "metadata": {},
          "output_type": "execute_result"
        }
      ],
      "source": [
        "years_list[2]"
      ]
    },
    {
      "cell_type": "markdown",
      "id": "acute-talent",
      "metadata": {
        "id": "acute-talent"
      },
      "source": [
        "3. In the years list, which year were you the oldest?\n",
        "\n"
      ]
    },
    {
      "cell_type": "code",
      "execution_count": null,
      "id": "d2b8aba8",
      "metadata": {
        "id": "d2b8aba8",
        "outputId": "f48938a3-6b4f-4f38-94f6-4198bf3f6014"
      },
      "outputs": [
        {
          "data": {
            "text/plain": [
              "2001"
            ]
          },
          "execution_count": 4,
          "metadata": {},
          "output_type": "execute_result"
        }
      ],
      "source": [
        "years_list[-1]"
      ]
    },
    {
      "cell_type": "markdown",
      "id": "outdoor-setup",
      "metadata": {
        "id": "outdoor-setup"
      },
      "source": [
        "\n",
        "4. Make a list called things with these three strings as elements: \"mozzarella\", \"cinderella\", \"salmonella\".\n",
        "    \n"
      ]
    },
    {
      "cell_type": "code",
      "execution_count": null,
      "id": "a33757b5",
      "metadata": {
        "id": "a33757b5",
        "outputId": "c841a88f-703c-4679-922b-6a3459a5012b"
      },
      "outputs": [
        {
          "data": {
            "text/plain": [
              "['mozzarella', 'cinderella', 'salmonella']"
            ]
          },
          "execution_count": 7,
          "metadata": {},
          "output_type": "execute_result"
        }
      ],
      "source": [
        "things = ['mozzarella','cinderella','salmonella']\n",
        "things"
      ]
    },
    {
      "cell_type": "markdown",
      "id": "caring-viewer",
      "metadata": {
        "id": "caring-viewer"
      },
      "source": [
        "5. Capitalize the element in things that refers to a person and then print the list. Did it change the element in the list?\n",
        "\n",
        "\n",
        "    \n"
      ]
    },
    {
      "cell_type": "code",
      "execution_count": null,
      "id": "8a9e8b57",
      "metadata": {
        "id": "8a9e8b57",
        "outputId": "75966001-3e18-4e81-95b9-9827f6d9e7a8"
      },
      "outputs": [
        {
          "data": {
            "text/plain": [
              "'Cinderella'"
            ]
          },
          "execution_count": 13,
          "metadata": {},
          "output_type": "execute_result"
        }
      ],
      "source": [
        "things_cap = things.copy()\n",
        "things_cap[1].capitalize()\n"
      ]
    },
    {
      "cell_type": "code",
      "execution_count": null,
      "id": "40c96dbf",
      "metadata": {
        "id": "40c96dbf",
        "outputId": "bca4c39f-8929-4125-cf21-4d8cd911d7c1"
      },
      "outputs": [
        {
          "data": {
            "text/plain": [
              "['mozzarella', 'cinderella', 'salmonella']"
            ]
          },
          "execution_count": 14,
          "metadata": {},
          "output_type": "execute_result"
        }
      ],
      "source": [
        "things_cap"
      ]
    },
    {
      "cell_type": "markdown",
      "id": "complimentary-cabinet",
      "metadata": {
        "id": "complimentary-cabinet"
      },
      "source": [
        "6. Make a surprise list with the elements \"Groucho,\" \"Chico,\" and \"Harpo.\"\n",
        "\n"
      ]
    },
    {
      "cell_type": "code",
      "execution_count": null,
      "id": "3e037d25",
      "metadata": {
        "id": "3e037d25",
        "outputId": "e65b1fe9-43fd-4309-96de-0c71843bebbb"
      },
      "outputs": [
        {
          "data": {
            "text/plain": [
              "['Groucho', 'Chico', 'Harpo']"
            ]
          },
          "execution_count": 15,
          "metadata": {},
          "output_type": "execute_result"
        }
      ],
      "source": [
        "surprise = ['Groucho', 'Chico', 'Harpo']\n",
        "surprise"
      ]
    },
    {
      "cell_type": "markdown",
      "id": "special-graduation",
      "metadata": {
        "id": "special-graduation"
      },
      "source": [
        "7. Lowercase the last element of the surprise list, reverse it, and then capitalize it\n",
        "\n",
        "    \n"
      ]
    },
    {
      "cell_type": "code",
      "execution_count": null,
      "id": "790d340b",
      "metadata": {
        "id": "790d340b",
        "outputId": "6ec428f0-0b3b-47b5-a16c-013d06d4d0be"
      },
      "outputs": [
        {
          "data": {
            "text/plain": [
              "'Oprah'"
            ]
          },
          "execution_count": 16,
          "metadata": {},
          "output_type": "execute_result"
        }
      ],
      "source": [
        "surprise[-1] = surprise[-1].lower()\n",
        "surprise[-1] = surprise[-1][::-1]\n",
        "surprise[-1].capitalize()"
      ]
    },
    {
      "cell_type": "markdown",
      "id": "conscious-adult",
      "metadata": {
        "id": "conscious-adult"
      },
      "source": [
        "8. Make an English-to-French dictionary called e2f and print it. Here are your starter words: dog is chien, cat is chat, and walrus is morse.\n",
        "\n",
        "\n",
        "    \n"
      ]
    },
    {
      "cell_type": "code",
      "execution_count": null,
      "id": "77506ef8",
      "metadata": {
        "id": "77506ef8",
        "outputId": "53866fd1-935c-4320-c60e-fc0890b1e2e8"
      },
      "outputs": [
        {
          "data": {
            "text/plain": [
              "{'dog': 'chien', 'cat': 'chat', 'walrus': 'morse'}"
            ]
          },
          "execution_count": 17,
          "metadata": {},
          "output_type": "execute_result"
        }
      ],
      "source": [
        "e2f = {'dog': 'chien', 'cat': 'chat', 'walrus': 'morse'}\n",
        "e2f"
      ]
    },
    {
      "cell_type": "markdown",
      "id": "dynamic-madison",
      "metadata": {
        "id": "dynamic-madison"
      },
      "source": [
        "Write the French word for walrus in your three-word dictionary e2f.\n",
        "\n",
        "    \n"
      ]
    },
    {
      "cell_type": "code",
      "execution_count": null,
      "id": "e215b5f3",
      "metadata": {
        "id": "e215b5f3",
        "outputId": "19b61b8e-8170-43c6-a79b-0efafdafa7e7"
      },
      "outputs": [
        {
          "data": {
            "text/plain": [
              "'morse'"
            ]
          },
          "execution_count": 18,
          "metadata": {},
          "output_type": "execute_result"
        }
      ],
      "source": [
        "e2f['walrus']"
      ]
    },
    {
      "cell_type": "markdown",
      "id": "continuing-drama",
      "metadata": {
        "id": "continuing-drama"
      },
      "source": [
        "10. Make a French-to-English dictionary called f2e from e2f. Use the items method.\n",
        "\n",
        "    \n"
      ]
    },
    {
      "cell_type": "code",
      "execution_count": null,
      "id": "f57f68a6",
      "metadata": {
        "id": "f57f68a6",
        "outputId": "1230d397-0a9e-4c57-be3e-4ad64241b8aa"
      },
      "outputs": [
        {
          "data": {
            "text/plain": [
              "{'chien': 'dog', 'chat': 'cat', 'morse': 'walrus'}"
            ]
          },
          "execution_count": 19,
          "metadata": {},
          "output_type": "execute_result"
        }
      ],
      "source": [
        "f2e = {}\n",
        "for english, french in e2f.items():\n",
        "f2e[french] = english\n",
        "f2e"
      ]
    },
    {
      "cell_type": "markdown",
      "id": "35aab51c",
      "metadata": {
        "id": "35aab51c"
      },
      "source": [
        "11. Print the English version of the French word chien using f2e.\n",
        "\n",
        "\n",
        "    \n"
      ]
    },
    {
      "cell_type": "code",
      "execution_count": null,
      "id": "06e9f042",
      "metadata": {
        "id": "06e9f042",
        "outputId": "184d4b85-74a6-4c83-c2b1-99eb241dfc13"
      },
      "outputs": [
        {
          "data": {
            "text/plain": [
              "'dog'"
            ]
          },
          "execution_count": 20,
          "metadata": {},
          "output_type": "execute_result"
        }
      ],
      "source": [
        "f2e['chien']"
      ]
    },
    {
      "cell_type": "markdown",
      "id": "27b9f63d",
      "metadata": {
        "id": "27b9f63d"
      },
      "source": [
        "\n",
        " 12. Make and print a set of English words from the keys in e2f.\n",
        "\n",
        "\n",
        "    \n"
      ]
    },
    {
      "cell_type": "code",
      "execution_count": null,
      "id": "4ce3561a",
      "metadata": {
        "id": "4ce3561a",
        "outputId": "6a1415b7-f60c-4032-8f18-95a78d1998e1"
      },
      "outputs": [
        {
          "data": {
            "text/plain": [
              "{'cat', 'dog', 'walrus'}"
            ]
          },
          "execution_count": 21,
          "metadata": {},
          "output_type": "execute_result"
        }
      ],
      "source": [
        "set(e2f.keys())"
      ]
    },
    {
      "cell_type": "markdown",
      "id": "8ff8091d",
      "metadata": {
        "id": "8ff8091d"
      },
      "source": [
        "13. Make a multilevel dictionary called life. Use these strings for the topmost keys: 'animals', 'plants', and 'other'. Make the 'animals' key refer to another dictionary with the keys 'cats', 'octopi', and 'emus'. Make the 'cats' key refer to a list of strings with the values 'Henri', 'Grumpy', and 'Lucy'. Make all the other keys refer to empty dictionaries.\n",
        "\n",
        "\n",
        "    \n"
      ]
    },
    {
      "cell_type": "code",
      "execution_count": null,
      "id": "158b2a18",
      "metadata": {
        "id": "158b2a18",
        "outputId": "9384d8c9-2bce-487f-a00e-12894d34693b"
      },
      "outputs": [
        {
          "data": {
            "text/plain": [
              "{'animals': {'cats': ['Henri', 'Grumpy', 'Lucy'], 'octopi': {}, 'emus': {}},\n",
              " 'plants': {},\n",
              " 'other': {}}"
            ]
          },
          "execution_count": 24,
          "metadata": {},
          "output_type": "execute_result"
        }
      ],
      "source": [
        "life = {'animals': {'cats': ['Henri', 'Grumpy', 'Lucy'],'octopi': {},'emus': {}},'plants': {},'other': {}}\n",
        "life"
      ]
    },
    {
      "cell_type": "markdown",
      "id": "4024801f",
      "metadata": {
        "id": "4024801f"
      },
      "source": [
        "14. Print the top-level keys of life.\n",
        "\n",
        "\n",
        "\n",
        "    \n"
      ]
    },
    {
      "cell_type": "code",
      "execution_count": null,
      "id": "98283d5a",
      "metadata": {
        "id": "98283d5a",
        "outputId": "8606a34c-91b4-4eb9-b913-c86b7bc6f47c"
      },
      "outputs": [
        {
          "name": "stdout",
          "output_type": "stream",
          "text": [
            "dict_keys(['animals', 'plants', 'other'])\n"
          ]
        }
      ],
      "source": [
        "print(life.keys())"
      ]
    },
    {
      "cell_type": "markdown",
      "id": "0cd5172b",
      "metadata": {
        "id": "0cd5172b"
      },
      "source": [
        "15. Print the keys for life['animals'].\n",
        "\n",
        "\n",
        "\n",
        "    \n"
      ]
    },
    {
      "cell_type": "code",
      "execution_count": null,
      "id": "dc99aeb8",
      "metadata": {
        "id": "dc99aeb8",
        "outputId": "f65df330-c547-44fc-b6a4-010af3431108"
      },
      "outputs": [
        {
          "name": "stdout",
          "output_type": "stream",
          "text": [
            "dict_keys(['cats', 'octopi', 'emus'])\n"
          ]
        }
      ],
      "source": [
        "print(life['animals'].keys())"
      ]
    },
    {
      "cell_type": "markdown",
      "id": "52ee36c1",
      "metadata": {
        "id": "52ee36c1"
      },
      "source": [
        "16.  Print the values for life['animals']['cats']\n",
        "\n",
        "\n",
        "    \n"
      ]
    },
    {
      "cell_type": "code",
      "execution_count": null,
      "id": "0d928dda",
      "metadata": {
        "id": "0d928dda",
        "outputId": "c3616ae3-161b-4dfc-8de8-9c4df3094417"
      },
      "outputs": [
        {
          "name": "stdout",
          "output_type": "stream",
          "text": [
            "['Henri', 'Grumpy', 'Lucy']\n"
          ]
        }
      ],
      "source": [
        "print(life['animals']['cats'])"
      ]
    }
  ],
  "metadata": {
    "kernelspec": {
      "display_name": "Python 3",
      "language": "python",
      "name": "python3"
    },
    "language_info": {
      "codemirror_mode": {
        "name": "ipython",
        "version": 3
      },
      "file_extension": ".py",
      "mimetype": "text/x-python",
      "name": "python",
      "nbconvert_exporter": "python",
      "pygments_lexer": "ipython3",
      "version": "3.8.8"
    },
    "toc": {
      "base_numbering": 1,
      "nav_menu": {},
      "number_sections": true,
      "sideBar": true,
      "skip_h1_title": false,
      "title_cell": "Table of Contents",
      "title_sidebar": "Contents",
      "toc_cell": false,
      "toc_position": {},
      "toc_section_display": true,
      "toc_window_display": false
    },
    "colab": {
      "provenance": []
    }
  },
  "nbformat": 4,
  "nbformat_minor": 5
}