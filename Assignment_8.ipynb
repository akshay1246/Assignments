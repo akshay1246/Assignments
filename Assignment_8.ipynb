{
  "nbformat": 4,
  "nbformat_minor": 0,
  "metadata": {
    "colab": {
      "provenance": []
    },
    "kernelspec": {
      "name": "python3",
      "display_name": "Python 3"
    },
    "language_info": {
      "name": "python"
    }
  },
  "cells": [
    {
      "cell_type": "markdown",
      "source": [
        "1. Is the Python Standard Library included with PyInputPlus?"
      ],
      "metadata": {
        "id": "mZjVnQZF0Jti"
      }
    },
    {
      "cell_type": "markdown",
      "source": [
        "PyInputPlus is not a part of the Python Standard Library, we must install it separately using Pip"
      ],
      "metadata": {
        "id": "dkWV5zPc0Kkw"
      }
    },
    {
      "cell_type": "markdown",
      "source": [
        "2. Why is PyInputPlus commonly imported with import pyinputplus as pypi?"
      ],
      "metadata": {
        "id": "sc_E-sIS0PRh"
      }
    },
    {
      "cell_type": "markdown",
      "source": [
        "You can import the module with import pyinputplus as pyip so that you can enter a shorter name when calling the module's functions"
      ],
      "metadata": {
        "id": "GZHlmD800P2x"
      }
    },
    {
      "cell_type": "markdown",
      "source": [
        "3. How do you distinguish between inputInt() and inputFloat()?"
      ],
      "metadata": {
        "id": "VkBf4bpL0Tkx"
      }
    },
    {
      "cell_type": "markdown",
      "source": [
        "inputInt() : Accepts an integer value. This also takes additional parameters 'min', 'max', 'greaterThan' and 'lessThan' for bounds. Returns an int. inputFloat() : Accepts a floating-point numeric value"
      ],
      "metadata": {
        "id": "7cPsd2_h0VWB"
      }
    },
    {
      "cell_type": "markdown",
      "source": [
        "\n",
        "4. Using PyInputPlus, how do you ensure that the user enters a whole number between 0 and 99?"
      ],
      "metadata": {
        "id": "TmKn3A0K0YsJ"
      }
    },
    {
      "cell_type": "markdown",
      "source": [
        "By using pyip. inputint(min=1, max=100) "
      ],
      "metadata": {
        "id": "AUEU0twv0bR5"
      }
    },
    {
      "cell_type": "markdown",
      "source": [
        "\n",
        "5. What is transferred to the keyword arguments allowRegexes and blockRegexes?"
      ],
      "metadata": {
        "id": "DEoMEVK20fVY"
      }
    },
    {
      "cell_type": "markdown",
      "source": [
        "keyword arguments take a list of regular expression strings to determine what the PyInputPlus function will accept or reject as valid input."
      ],
      "metadata": {
        "id": "pJSXH2L50fu5"
      }
    },
    {
      "cell_type": "markdown",
      "source": [
        "6. If a blank input is entered three times, what does inputStr(limit=3) do?"
      ],
      "metadata": {
        "id": "y48vBscO0jVB"
      }
    },
    {
      "cell_type": "markdown",
      "source": [
        " It will throw RetryLimitException exception."
      ],
      "metadata": {
        "id": "1o6Z9h2N0iZJ"
      }
    },
    {
      "cell_type": "markdown",
      "source": [
        "7. If blank input is entered three times, what does inputStr(limit=3, default=&#39;hello&#39;) do?"
      ],
      "metadata": {
        "id": "6Akdqbb00Cnx"
      }
    },
    {
      "cell_type": "markdown",
      "source": [
        "The function returns the value 'hello"
      ],
      "metadata": {
        "id": "Yjygz1co0m_6"
      }
    }
  ]
}