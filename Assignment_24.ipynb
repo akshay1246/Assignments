{
  "nbformat": 4,
  "nbformat_minor": 0,
  "metadata": {
    "colab": {
      "provenance": []
    },
    "kernelspec": {
      "name": "python3",
      "display_name": "Python 3"
    },
    "language_info": {
      "name": "python"
    }
  },
  "cells": [
    {
      "cell_type": "markdown",
      "source": [
        "# 1. What is the relationship between def statements and lambda expressions ?"
      ],
      "metadata": {
        "id": "jL529WwfmYTn"
      }
    },
    {
      "cell_type": "markdown",
      "source": [
        "In python, def defined functions are commonly used because of their simplicity. The def defined functions do not return anything if not explicitly returned whereas the lambda function does return an object. The def functions must be declared in the namespace."
      ],
      "metadata": {
        "id": "Leeew2TnmdtD"
      }
    },
    {
      "cell_type": "code",
      "source": [
        "def fun(a):           #function using def statment involves multiple lines \n",
        "  return a**2\n"
      ],
      "metadata": {
        "id": "QqmA6jOvml6-"
      },
      "execution_count": 1,
      "outputs": []
    },
    {
      "cell_type": "code",
      "source": [
        "fun(5)"
      ],
      "metadata": {
        "colab": {
          "base_uri": "https://localhost:8080/"
        },
        "id": "tKfi4qoimq8Y",
        "outputId": "a2a41fd8-f455-4f44-be29-6678b21e64ef"
      },
      "execution_count": 2,
      "outputs": [
        {
          "output_type": "execute_result",
          "data": {
            "text/plain": [
              "25"
            ]
          },
          "metadata": {},
          "execution_count": 2
        }
      ]
    },
    {
      "cell_type": "code",
      "source": [
        "a=lambda x:x**2   #lambda is a single line of code"
      ],
      "metadata": {
        "id": "MFNNeOFumsD2"
      },
      "execution_count": 3,
      "outputs": []
    },
    {
      "cell_type": "code",
      "source": [
        "a(5)"
      ],
      "metadata": {
        "colab": {
          "base_uri": "https://localhost:8080/"
        },
        "id": "lwk-U72XmvBu",
        "outputId": "10d2aee6-cf82-45eb-ddbe-69b9258cac94"
      },
      "execution_count": 4,
      "outputs": [
        {
          "output_type": "execute_result",
          "data": {
            "text/plain": [
              "25"
            ]
          },
          "metadata": {},
          "execution_count": 4
        }
      ]
    },
    {
      "cell_type": "markdown",
      "source": [
        "# 2. What is the benefit of lambda?"
      ],
      "metadata": {
        "id": "EgWo-vzJm3wx"
      }
    },
    {
      "cell_type": "markdown",
      "source": [
        "Lambda functions allow you to create small, single-use functions that can save time and space in your code. They ares also useful when you need to call a function that expects a function as an argument for a callback such as Map() and Filter() "
      ],
      "metadata": {
        "id": "rY-UgjFHnEg9"
      }
    },
    {
      "cell_type": "markdown",
      "source": [
        "# 3. Compare and contrast map, filter, and reduce."
      ],
      "metadata": {
        "id": "_bpYrS33nG19"
      }
    },
    {
      "cell_type": "code",
      "source": [
        "l=[1,2,3,5,6,7,8,9]"
      ],
      "metadata": {
        "id": "PoqcT5eim6pO"
      },
      "execution_count": 5,
      "outputs": []
    },
    {
      "cell_type": "code",
      "source": [
        "#map\n",
        "a=list(map(lambda x:x**2,l)) #map function iterates through each and every element in the iterables provided"
      ],
      "metadata": {
        "id": "W-zy7V9wnM3l"
      },
      "execution_count": 6,
      "outputs": []
    },
    {
      "cell_type": "code",
      "source": [
        "a"
      ],
      "metadata": {
        "colab": {
          "base_uri": "https://localhost:8080/"
        },
        "id": "8m9lVom_nUWF",
        "outputId": "fb5e6036-344a-425b-b3c0-937e7a1a1f42"
      },
      "execution_count": 7,
      "outputs": [
        {
          "output_type": "execute_result",
          "data": {
            "text/plain": [
              "[1, 4, 9, 25, 36, 49, 64, 81]"
            ]
          },
          "metadata": {},
          "execution_count": 7
        }
      ]
    },
    {
      "cell_type": "code",
      "source": [
        "#filter\n",
        "a=list(filter(lambda x:x if x%2==0 else None,l)) #filter function filters the data which satisfies the condition provided"
      ],
      "metadata": {
        "id": "uGN972EVndIF"
      },
      "execution_count": 8,
      "outputs": []
    },
    {
      "cell_type": "code",
      "source": [
        "a"
      ],
      "metadata": {
        "colab": {
          "base_uri": "https://localhost:8080/"
        },
        "id": "luaf5Xs9np5t",
        "outputId": "12be5a2f-4912-422a-fb85-fbd3ae654d9e"
      },
      "execution_count": 9,
      "outputs": [
        {
          "output_type": "execute_result",
          "data": {
            "text/plain": [
              "[2, 6, 8]"
            ]
          },
          "metadata": {},
          "execution_count": 9
        }
      ]
    },
    {
      "cell_type": "code",
      "source": [
        "#reduce\n",
        "from functools import reduce \n",
        "a=reduce(lambda x,y:x+y,l)"
      ],
      "metadata": {
        "id": "p7Rp6VKonvZ9"
      },
      "execution_count": 12,
      "outputs": []
    },
    {
      "cell_type": "code",
      "source": [
        "a"
      ],
      "metadata": {
        "colab": {
          "base_uri": "https://localhost:8080/"
        },
        "id": "plfzlVHYoeQl",
        "outputId": "5b708f71-4087-48cb-b189-60d6c30a47b8"
      },
      "execution_count": 13,
      "outputs": [
        {
          "output_type": "execute_result",
          "data": {
            "text/plain": [
              "41"
            ]
          },
          "metadata": {},
          "execution_count": 13
        }
      ]
    },
    {
      "cell_type": "markdown",
      "source": [
        "# 4. What are function annotations, and how are they used?"
      ],
      "metadata": {
        "id": "pm-vVg59ognp"
      }
    },
    {
      "cell_type": "markdown",
      "source": [
        "Function annotations are some random expressions which are written with the functions, and they are evaluated at compile time. They do not exist at run time, and there is no meaning of these expressions to python. They are used and interpreted by a third party or external python libraries."
      ],
      "metadata": {
        "id": "HEmHCYg4pLUU"
      }
    },
    {
      "cell_type": "code",
      "source": [
        "def func(a:int):   #here we are specifiying that the input should be integer\n",
        "  return a"
      ],
      "metadata": {
        "id": "8pdByegUoiH8"
      },
      "execution_count": 18,
      "outputs": []
    },
    {
      "cell_type": "markdown",
      "source": [
        "# 5. What are recursive functions, and how are they used?"
      ],
      "metadata": {
        "id": "YGbEGeCUoqGs"
      }
    },
    {
      "cell_type": "markdown",
      "source": [
        "A recursive function is a function in code that refers to itself for execution. Recursive functions can be simple or elaborate. They allow for more efficient code writing, for instance, in the listing or compiling of sets of numbers, strings or other variables through a single reiterated process."
      ],
      "metadata": {
        "id": "FEo8Mh0opoqU"
      }
    },
    {
      "cell_type": "markdown",
      "source": [
        "# 6. What are some general design guidelines for coding functions?"
      ],
      "metadata": {
        "id": "U3-Vj1Tyork9"
      }
    },
    {
      "cell_type": "markdown",
      "source": [
        "1. Standard headers for different modules\n",
        "2. Naming conventions for local variables, global variables, constants and functions\n",
        "3. Indentation\n",
        "4. Error return values and exception handling conventions\n",
        "5. Code should be well documented\n",
        "6. Length of functions should not be very large"
      ],
      "metadata": {
        "id": "KOLtzULaqPek"
      }
    },
    {
      "cell_type": "markdown",
      "source": [
        "# 7. Name three or more ways that functions can communicate results to a caller."
      ],
      "metadata": {
        "id": "JJ9OwEoUmXdH"
      }
    },
    {
      "cell_type": "markdown",
      "source": [
        "1. return\n",
        "2. print\n",
        "3. yield\n"
      ],
      "metadata": {
        "id": "3x_O1plFqgoL"
      }
    }
  ]
}