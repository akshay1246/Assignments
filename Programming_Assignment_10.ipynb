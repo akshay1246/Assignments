{
  "nbformat": 4,
  "nbformat_minor": 0,
  "metadata": {
    "colab": {
      "provenance": []
    },
    "kernelspec": {
      "name": "python3",
      "display_name": "Python 3"
    },
    "language_info": {
      "name": "python"
    }
  },
  "cells": [
    {
      "cell_type": "markdown",
      "source": [
        "# 1.Write a Python program to find sum of elements in list?"
      ],
      "metadata": {
        "id": "eQtsxcvd92HD"
      }
    },
    {
      "cell_type": "code",
      "execution_count": 3,
      "metadata": {
        "id": "Ed006vi09xXe"
      },
      "outputs": [],
      "source": [
        "def new1(a):\n",
        "  sum=0\n",
        "  for i in a:\n",
        "    sum=sum+i\n",
        "  return sum "
      ]
    },
    {
      "cell_type": "code",
      "source": [
        "new1([1,3,5,7,9,0,90])"
      ],
      "metadata": {
        "colab": {
          "base_uri": "https://localhost:8080/"
        },
        "id": "gljgOYkP97In",
        "outputId": "543d6d00-f989-4a3e-e839-d18d392970b6"
      },
      "execution_count": 4,
      "outputs": [
        {
          "output_type": "execute_result",
          "data": {
            "text/plain": [
              "115"
            ]
          },
          "metadata": {},
          "execution_count": 4
        }
      ]
    },
    {
      "cell_type": "markdown",
      "source": [
        "#2. Write a Python program to Multiply all numbers in the list?"
      ],
      "metadata": {
        "id": "SVbVcntj-LAy"
      }
    },
    {
      "cell_type": "code",
      "source": [
        "def new1(a):\n",
        "  mult=1\n",
        "  for i in a:\n",
        "    mult=mult*i\n",
        "  return mult"
      ],
      "metadata": {
        "id": "31rVEWSg98C3"
      },
      "execution_count": 7,
      "outputs": []
    },
    {
      "cell_type": "code",
      "source": [
        "new1([5,6,2,5,2])"
      ],
      "metadata": {
        "colab": {
          "base_uri": "https://localhost:8080/"
        },
        "id": "c6u0QB16982S",
        "outputId": "df30ebab-3ab1-4af5-b306-adb7abd73605"
      },
      "execution_count": 8,
      "outputs": [
        {
          "output_type": "execute_result",
          "data": {
            "text/plain": [
              "600"
            ]
          },
          "metadata": {},
          "execution_count": 8
        }
      ]
    },
    {
      "cell_type": "markdown",
      "source": [
        "# 3. Write a Python program to find smallest number in a list?"
      ],
      "metadata": {
        "id": "q0sgX6e4-ejJ"
      }
    },
    {
      "cell_type": "code",
      "source": [
        "def new2(a):\n",
        "  a.sort(reverse=False)\n",
        "  return a[0]"
      ],
      "metadata": {
        "id": "ODStQkCe-Zih"
      },
      "execution_count": 11,
      "outputs": []
    },
    {
      "cell_type": "code",
      "source": [
        "new2([45,83,3854,2748,2,34,5,5,3,8,4])"
      ],
      "metadata": {
        "colab": {
          "base_uri": "https://localhost:8080/"
        },
        "id": "uZAFqg_H-xnC",
        "outputId": "422dbfcd-cbb0-44fe-ac70-8b97fad4d162"
      },
      "execution_count": 13,
      "outputs": [
        {
          "output_type": "execute_result",
          "data": {
            "text/plain": [
              "2"
            ]
          },
          "metadata": {},
          "execution_count": 13
        }
      ]
    },
    {
      "cell_type": "markdown",
      "source": [
        "# 4. Write a Python program to find largest number in a list?"
      ],
      "metadata": {
        "id": "b8PFw2q4-7eR"
      }
    },
    {
      "cell_type": "code",
      "source": [
        "def new3(a):\n",
        "  a.sort(reverse=True)\n",
        "  return a[0]"
      ],
      "metadata": {
        "id": "88xrxea5-1LR"
      },
      "execution_count": 16,
      "outputs": []
    },
    {
      "cell_type": "code",
      "source": [
        "new3([45,83,3854,2748,2,34,5,5,3,8,4])"
      ],
      "metadata": {
        "colab": {
          "base_uri": "https://localhost:8080/"
        },
        "id": "PnlrC-Ud-_Cw",
        "outputId": "dfd391d4-6864-468b-d5e2-488a1e117bac"
      },
      "execution_count": 17,
      "outputs": [
        {
          "output_type": "execute_result",
          "data": {
            "text/plain": [
              "3854"
            ]
          },
          "metadata": {},
          "execution_count": 17
        }
      ]
    },
    {
      "cell_type": "markdown",
      "source": [
        "# 5. Write a Python program to find second largest number in a list?"
      ],
      "metadata": {
        "id": "JFU2qD71_CmA"
      }
    },
    {
      "cell_type": "code",
      "source": [
        "def new4(a):\n",
        "  a.sort(reverse=True)\n",
        "  return a[1]"
      ],
      "metadata": {
        "id": "q4ixxaR__DtI"
      },
      "execution_count": 18,
      "outputs": []
    },
    {
      "cell_type": "code",
      "source": [
        "new4([45,83,3854,2748,2,34,5,5,3,8,4])"
      ],
      "metadata": {
        "colab": {
          "base_uri": "https://localhost:8080/"
        },
        "id": "juDOXDg4_IR4",
        "outputId": "dea3fe86-d96b-4c74-f0fe-70963d600312"
      },
      "execution_count": 19,
      "outputs": [
        {
          "output_type": "execute_result",
          "data": {
            "text/plain": [
              "2748"
            ]
          },
          "metadata": {},
          "execution_count": 19
        }
      ]
    },
    {
      "cell_type": "markdown",
      "source": [
        "# 6. Write a Python program to find N largest elements from a list?"
      ],
      "metadata": {
        "id": "G3BiXFGy_M_R"
      }
    },
    {
      "cell_type": "code",
      "source": [
        "num=4   #function to find the 4 largest elements in the list\n",
        "def new5(a):\n",
        "  a.sort(reverse=True)\n",
        "  return a[:num]"
      ],
      "metadata": {
        "id": "5IqO19ir_NhQ"
      },
      "execution_count": 21,
      "outputs": []
    },
    {
      "cell_type": "code",
      "source": [
        "new5([45,83,3854,2748,2,34,5,5,3,8,4])"
      ],
      "metadata": {
        "colab": {
          "base_uri": "https://localhost:8080/"
        },
        "id": "cMnYoP2e_zIQ",
        "outputId": "15d12c33-3e74-44f5-c5fd-9ecafef24014"
      },
      "execution_count": 22,
      "outputs": [
        {
          "output_type": "execute_result",
          "data": {
            "text/plain": [
              "[3854, 2748, 83, 45]"
            ]
          },
          "metadata": {},
          "execution_count": 22
        }
      ]
    },
    {
      "cell_type": "markdown",
      "source": [
        "# 7. Write a Python program to print even numbers in a list?"
      ],
      "metadata": {
        "id": "O--sNWDC_5it"
      }
    },
    {
      "cell_type": "code",
      "source": [
        "l1=[]\n",
        "def new6(a):\n",
        "  for i in a:\n",
        "    if i%2==0:\n",
        "      l1.append(i)\n",
        "  return l1"
      ],
      "metadata": {
        "id": "lwtbtElz_74a"
      },
      "execution_count": 25,
      "outputs": []
    },
    {
      "cell_type": "code",
      "source": [
        "new6([1,2,3,4,6,7,8,9,10])"
      ],
      "metadata": {
        "colab": {
          "base_uri": "https://localhost:8080/"
        },
        "id": "A6bA39jwAJHY",
        "outputId": "5b000727-e4fb-416d-8cb2-13227c4558a3"
      },
      "execution_count": 26,
      "outputs": [
        {
          "output_type": "execute_result",
          "data": {
            "text/plain": [
              "[2, 4, 6, 8, 10]"
            ]
          },
          "metadata": {},
          "execution_count": 26
        }
      ]
    },
    {
      "cell_type": "markdown",
      "source": [
        "# 8. Write a Python program to print odd numbers in a List?"
      ],
      "metadata": {
        "id": "A1tuIh2aARFI"
      }
    },
    {
      "cell_type": "code",
      "source": [
        "l1=[]\n",
        "def new6(a):\n",
        "  for i in a:\n",
        "    if i%2!=0:\n",
        "      l1.append(i)\n",
        "  return l1"
      ],
      "metadata": {
        "id": "4F7ttNLbARrw"
      },
      "execution_count": 27,
      "outputs": []
    },
    {
      "cell_type": "code",
      "source": [
        "new6([1,2,3,4,6,7,8,9,10])"
      ],
      "metadata": {
        "colab": {
          "base_uri": "https://localhost:8080/"
        },
        "id": "wdwfT7pqAT_i",
        "outputId": "9aa1c7a5-a03d-4c7f-d5e6-592419647442"
      },
      "execution_count": 28,
      "outputs": [
        {
          "output_type": "execute_result",
          "data": {
            "text/plain": [
              "[1, 3, 7, 9]"
            ]
          },
          "metadata": {},
          "execution_count": 28
        }
      ]
    },
    {
      "cell_type": "markdown",
      "source": [
        "# 9. Write a Python program to Remove empty List from List?"
      ],
      "metadata": {
        "id": "kDjGW_19AWLQ"
      }
    },
    {
      "cell_type": "code",
      "source": [
        "l1=[]\n",
        "def new8(*a):\n",
        "  for i in a:\n",
        "    if i!=[]:\n",
        "      l1.append(i)\n",
        "  return l1"
      ],
      "metadata": {
        "id": "O0pb1QH3AXBJ"
      },
      "execution_count": 46,
      "outputs": []
    },
    {
      "cell_type": "code",
      "source": [
        "new8([234,234,3],[],[345,345,345],'Akshay')"
      ],
      "metadata": {
        "colab": {
          "base_uri": "https://localhost:8080/"
        },
        "id": "cWMSiMgMAjpK",
        "outputId": "8ea0ab1f-be47-4237-ef92-94697a3235cc"
      },
      "execution_count": 47,
      "outputs": [
        {
          "output_type": "execute_result",
          "data": {
            "text/plain": [
              "[[234, 234, 3], [345, 345, 345], 'Akshay']"
            ]
          },
          "metadata": {},
          "execution_count": 47
        }
      ]
    },
    {
      "cell_type": "markdown",
      "source": [
        "# 10. Write a Python program to Cloning or Copying a list?"
      ],
      "metadata": {
        "id": "r4cgoAcBBmI4"
      }
    },
    {
      "cell_type": "code",
      "source": [
        "def new10(a):\n",
        "   b=a.copy()\n",
        "   return b"
      ],
      "metadata": {
        "id": "H18i-iHrBnHp"
      },
      "execution_count": 60,
      "outputs": []
    },
    {
      "cell_type": "code",
      "source": [
        "a=[1,2,34,5,654,4556]"
      ],
      "metadata": {
        "id": "Sc9SGmZDBsJ5"
      },
      "execution_count": 61,
      "outputs": []
    },
    {
      "cell_type": "code",
      "source": [
        "new10(a)"
      ],
      "metadata": {
        "colab": {
          "base_uri": "https://localhost:8080/"
        },
        "id": "N1YMsgzKButR",
        "outputId": "80de1d2c-c193-4d48-ffe0-2aa9ebd93d53"
      },
      "execution_count": 62,
      "outputs": [
        {
          "output_type": "execute_result",
          "data": {
            "text/plain": [
              "[1, 2, 34, 5, 654, 4556]"
            ]
          },
          "metadata": {},
          "execution_count": 62
        }
      ]
    },
    {
      "cell_type": "markdown",
      "source": [
        "# 11. Write a Python program to Count occurrences of an element in a list?"
      ],
      "metadata": {
        "id": "MwuYsKC29yBM"
      }
    },
    {
      "cell_type": "code",
      "source": [
        "def new10(a):\n",
        "  num=8\n",
        "  occurence=0\n",
        "  for i in a:\n",
        "    if i==num:\n",
        "      occurence=occurence+1\n",
        "  print('Number 8 has occured', occurence ,'times in the list')\n"
      ],
      "metadata": {
        "id": "gzM4M3A5CpDI"
      },
      "execution_count": 85,
      "outputs": []
    },
    {
      "cell_type": "code",
      "source": [
        "l1=[1,2,3,5,7,6,3,2,4,7,4,2,21,34,5,8,8,8,8,3,3,2,2,5,8,8,8,8,8,34,234,324,4,242,4,4]"
      ],
      "metadata": {
        "id": "U8heNQieC1c5"
      },
      "execution_count": 86,
      "outputs": []
    },
    {
      "cell_type": "code",
      "source": [
        "new10(l1)"
      ],
      "metadata": {
        "colab": {
          "base_uri": "https://localhost:8080/"
        },
        "id": "PBHYOGuJC-PL",
        "outputId": "ee4b903d-335f-4912-83d0-5cecd018ed5a"
      },
      "execution_count": 87,
      "outputs": [
        {
          "output_type": "stream",
          "name": "stdout",
          "text": [
            "Number 8 has occured 9 times in the list\n"
          ]
        }
      ]
    }
  ]
}