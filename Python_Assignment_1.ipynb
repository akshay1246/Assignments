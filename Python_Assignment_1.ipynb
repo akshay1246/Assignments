{
  "nbformat": 4,
  "nbformat_minor": 0,
  "metadata": {
    "colab": {
      "provenance": []
    },
    "kernelspec": {
      "name": "python3",
      "display_name": "Python 3"
    },
    "language_info": {
      "name": "python"
    }
  },
  "cells": [
    {
      "cell_type": "code",
      "execution_count": null,
      "metadata": {
        "id": "xEvSfl1VfUME"
      },
      "outputs": [],
      "source": [
        "#1 Write a Python program to print \"Hello Python\""
      ]
    },
    {
      "cell_type": "code",
      "source": [
        "print('Hello Python')"
      ],
      "metadata": {
        "colab": {
          "base_uri": "https://localhost:8080/"
        },
        "id": "Yb2BwiMofkoO",
        "outputId": "00dfe420-21ec-4ed7-f082-110413f0c109"
      },
      "execution_count": 1,
      "outputs": [
        {
          "output_type": "stream",
          "name": "stdout",
          "text": [
            "Hello Python\n"
          ]
        }
      ]
    },
    {
      "cell_type": "code",
      "source": [
        "#2 Write a Python program to do arithmetical operations addition and division.?"
      ],
      "metadata": {
        "id": "ABGHIfamfmG6"
      },
      "execution_count": null,
      "outputs": []
    },
    {
      "cell_type": "code",
      "source": [
        "A=10+2\n",
        "B=10/2"
      ],
      "metadata": {
        "id": "rPukQLzffqHl"
      },
      "execution_count": 2,
      "outputs": []
    },
    {
      "cell_type": "code",
      "source": [
        "print(A)\n",
        "print(B)"
      ],
      "metadata": {
        "colab": {
          "base_uri": "https://localhost:8080/"
        },
        "id": "MnP4FhvVftQt",
        "outputId": "9b687af4-7311-41c8-8122-c4e105d37e3f"
      },
      "execution_count": 3,
      "outputs": [
        {
          "output_type": "stream",
          "name": "stdout",
          "text": [
            "12\n",
            "5.0\n"
          ]
        }
      ]
    },
    {
      "cell_type": "code",
      "source": [
        "#3 Write a Python program to find the area of a triangle?"
      ],
      "metadata": {
        "id": "nFgYFg-hfv4t"
      },
      "execution_count": null,
      "outputs": []
    },
    {
      "cell_type": "code",
      "source": [
        "#Area of traingle 1/2 * base * height\n",
        "\n",
        "Height= 20\n",
        "Base =10\n",
        "\n",
        "Area =1/2 * Height * Base\n",
        "\n",
        "print(Area)"
      ],
      "metadata": {
        "colab": {
          "base_uri": "https://localhost:8080/"
        },
        "id": "PfaA-6GOfzW-",
        "outputId": "7c6470d2-6839-4bf8-d805-a527b1f97585"
      },
      "execution_count": 7,
      "outputs": [
        {
          "output_type": "stream",
          "name": "stdout",
          "text": [
            "100.0\n"
          ]
        }
      ]
    },
    {
      "cell_type": "code",
      "source": [
        "#4 Write a Python program to swap two variables?"
      ],
      "metadata": {
        "id": "VHVKt0YigDB1"
      },
      "execution_count": null,
      "outputs": []
    },
    {
      "cell_type": "code",
      "source": [
        "X= 10\n",
        "Y= 20"
      ],
      "metadata": {
        "id": "awH_FYL3gXk2"
      },
      "execution_count": 8,
      "outputs": []
    },
    {
      "cell_type": "code",
      "source": [
        "X, Y =Y,X"
      ],
      "metadata": {
        "id": "IFyHFIW9gbN9"
      },
      "execution_count": 10,
      "outputs": []
    },
    {
      "cell_type": "code",
      "source": [
        "print('Value of X is:',X)\n",
        "print('Value of Y is:',Y) #values are now swapped"
      ],
      "metadata": {
        "colab": {
          "base_uri": "https://localhost:8080/"
        },
        "id": "SD-GMeE0gejM",
        "outputId": "094e57c4-5f8a-49f0-ca0a-ac739794c535"
      },
      "execution_count": 12,
      "outputs": [
        {
          "output_type": "stream",
          "name": "stdout",
          "text": [
            "Value of X is: 20\n",
            "Value of Y is: 10\n"
          ]
        }
      ]
    },
    {
      "cell_type": "code",
      "source": [
        "#4 Write a Python program to generate a random number?"
      ],
      "metadata": {
        "id": "3nilPm66gyOO"
      },
      "execution_count": null,
      "outputs": []
    },
    {
      "cell_type": "code",
      "source": [
        "import random"
      ],
      "metadata": {
        "id": "LNHANhoJg5B0"
      },
      "execution_count": 14,
      "outputs": []
    },
    {
      "cell_type": "code",
      "source": [
        "random.random()"
      ],
      "metadata": {
        "colab": {
          "base_uri": "https://localhost:8080/"
        },
        "id": "88fF2lc-g9tm",
        "outputId": "9072a999-b509-42da-b9f9-169210e806eb"
      },
      "execution_count": 16,
      "outputs": [
        {
          "output_type": "execute_result",
          "data": {
            "text/plain": [
              "0.9234042299242151"
            ]
          },
          "metadata": {},
          "execution_count": 16
        }
      ]
    },
    {
      "cell_type": "code",
      "source": [
        "random.random()"
      ],
      "metadata": {
        "colab": {
          "base_uri": "https://localhost:8080/"
        },
        "id": "_8aiX2SVhESU",
        "outputId": "9bbd8562-7b93-401b-971d-8f3ca23ff4aa"
      },
      "execution_count": 17,
      "outputs": [
        {
          "output_type": "execute_result",
          "data": {
            "text/plain": [
              "0.08809802113647869"
            ]
          },
          "metadata": {},
          "execution_count": 17
        }
      ]
    },
    {
      "cell_type": "code",
      "source": [
        "random.random()"
      ],
      "metadata": {
        "colab": {
          "base_uri": "https://localhost:8080/"
        },
        "id": "K14fJrplhOY2",
        "outputId": "83b3752b-7357-45e6-8e5b-d659a20399b0"
      },
      "execution_count": 18,
      "outputs": [
        {
          "output_type": "execute_result",
          "data": {
            "text/plain": [
              "0.03678171838972066"
            ]
          },
          "metadata": {},
          "execution_count": 18
        }
      ]
    }
  ]
}