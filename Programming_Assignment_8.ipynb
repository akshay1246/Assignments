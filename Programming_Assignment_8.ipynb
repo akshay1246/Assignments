{
  "nbformat": 4,
  "nbformat_minor": 0,
  "metadata": {
    "colab": {
      "provenance": []
    },
    "kernelspec": {
      "name": "python3",
      "display_name": "Python 3"
    },
    "language_info": {
      "name": "python"
    }
  },
  "cells": [
    {
      "cell_type": "markdown",
      "source": [
        "# 1.Write a Python Program to Add Two Matrices?"
      ],
      "metadata": {
        "id": "hTLnj_JqpWr7"
      }
    },
    {
      "cell_type": "code",
      "execution_count": 1,
      "metadata": {
        "id": "tMFXqYo_pTUD"
      },
      "outputs": [],
      "source": [
        "import numpy as np"
      ]
    },
    {
      "cell_type": "code",
      "source": [
        "matrix1=np.matrix([1,2,4,6,6,8,9,9,9,10]).reshape(5,2)"
      ],
      "metadata": {
        "id": "QpKSwllLpZY8"
      },
      "execution_count": 4,
      "outputs": []
    },
    {
      "cell_type": "code",
      "source": [
        "matrix1"
      ],
      "metadata": {
        "colab": {
          "base_uri": "https://localhost:8080/"
        },
        "id": "NxyGgQpvpt6Z",
        "outputId": "d681e270-b84e-478b-fe3f-14048fee97d3"
      },
      "execution_count": 7,
      "outputs": [
        {
          "output_type": "execute_result",
          "data": {
            "text/plain": [
              "matrix([[ 1,  2],\n",
              "        [ 4,  6],\n",
              "        [ 6,  8],\n",
              "        [ 9,  9],\n",
              "        [ 9, 10]])"
            ]
          },
          "metadata": {},
          "execution_count": 7
        }
      ]
    },
    {
      "cell_type": "code",
      "source": [
        "matrix2=np.matrix([34,5,35,453,3,6,4,35,342,24]).reshape(5,2)"
      ],
      "metadata": {
        "id": "t0FYqIu_pZWz"
      },
      "execution_count": 5,
      "outputs": []
    },
    {
      "cell_type": "code",
      "source": [
        "matrix2"
      ],
      "metadata": {
        "colab": {
          "base_uri": "https://localhost:8080/"
        },
        "id": "noixBsmTpu6R",
        "outputId": "2d402018-6f74-4810-832e-58499b8dc5c3"
      },
      "execution_count": 8,
      "outputs": [
        {
          "output_type": "execute_result",
          "data": {
            "text/plain": [
              "matrix([[ 34,   5],\n",
              "        [ 35, 453],\n",
              "        [  3,   6],\n",
              "        [  4,  35],\n",
              "        [342,  24]])"
            ]
          },
          "metadata": {},
          "execution_count": 8
        }
      ]
    },
    {
      "cell_type": "code",
      "source": [
        "matrix1+matrix2"
      ],
      "metadata": {
        "colab": {
          "base_uri": "https://localhost:8080/"
        },
        "id": "TnCGl3_QpZUc",
        "outputId": "40b87f85-5fc2-4597-810d-a176e339c314"
      },
      "execution_count": 9,
      "outputs": [
        {
          "output_type": "execute_result",
          "data": {
            "text/plain": [
              "matrix([[ 35,   7],\n",
              "        [ 39, 459],\n",
              "        [  9,  14],\n",
              "        [ 13,  44],\n",
              "        [351,  34]])"
            ]
          },
          "metadata": {},
          "execution_count": 9
        }
      ]
    },
    {
      "cell_type": "markdown",
      "source": [
        "# 2. Write a Python Program to Multiply Two Matrices?"
      ],
      "metadata": {
        "id": "85M5sjkSp1gB"
      }
    },
    {
      "cell_type": "code",
      "source": [
        "m1=np.matrix([2,5,6,8,4,8]).reshape(3,2)"
      ],
      "metadata": {
        "id": "xrA0TuO_p2eL"
      },
      "execution_count": 20,
      "outputs": []
    },
    {
      "cell_type": "code",
      "source": [
        "m1"
      ],
      "metadata": {
        "colab": {
          "base_uri": "https://localhost:8080/"
        },
        "id": "DUtZeaPRqCfB",
        "outputId": "1b06613e-ee30-462f-e4de-5aa76db2a090"
      },
      "execution_count": 21,
      "outputs": [
        {
          "output_type": "execute_result",
          "data": {
            "text/plain": [
              "matrix([[2, 5],\n",
              "        [6, 8],\n",
              "        [4, 8]])"
            ]
          },
          "metadata": {},
          "execution_count": 21
        }
      ]
    },
    {
      "cell_type": "code",
      "source": [
        "m2=np.matrix([3,5,7,3,1,6]).reshape(2,3)"
      ],
      "metadata": {
        "id": "eigkqMvpp9Fh"
      },
      "execution_count": 22,
      "outputs": []
    },
    {
      "cell_type": "code",
      "source": [
        "m2"
      ],
      "metadata": {
        "colab": {
          "base_uri": "https://localhost:8080/"
        },
        "id": "LDoI3rZsqDRB",
        "outputId": "2920a77e-6943-4a22-94f5-68753fc92b70"
      },
      "execution_count": 23,
      "outputs": [
        {
          "output_type": "execute_result",
          "data": {
            "text/plain": [
              "matrix([[3, 5, 7],\n",
              "        [3, 1, 6]])"
            ]
          },
          "metadata": {},
          "execution_count": 23
        }
      ]
    },
    {
      "cell_type": "code",
      "source": [
        "m1@m2 "
      ],
      "metadata": {
        "colab": {
          "base_uri": "https://localhost:8080/"
        },
        "id": "Yc9-ncV0qP6Z",
        "outputId": "1ab3e6fa-374f-4ff5-9e17-7724a5e30683"
      },
      "execution_count": 19,
      "outputs": [
        {
          "output_type": "execute_result",
          "data": {
            "text/plain": [
              "matrix([[21, 15, 44],\n",
              "        [42, 38, 90],\n",
              "        [36, 28, 76]])"
            ]
          },
          "metadata": {},
          "execution_count": 19
        }
      ]
    },
    {
      "cell_type": "markdown",
      "source": [
        "# 3. Write a Python Program to Transpose a Matrix?"
      ],
      "metadata": {
        "id": "KQfLQwJeqfUK"
      }
    },
    {
      "cell_type": "code",
      "source": [
        "m3=np.matrix([1,2,4,6,4,3,3,8,2,10,4,31]).reshape(2,6)"
      ],
      "metadata": {
        "id": "dZQtVsXtqfxp"
      },
      "execution_count": 25,
      "outputs": []
    },
    {
      "cell_type": "code",
      "source": [
        "m3"
      ],
      "metadata": {
        "colab": {
          "base_uri": "https://localhost:8080/"
        },
        "id": "UguiOiSeqp2Z",
        "outputId": "ed628ae0-a02b-425d-bbdf-44565f9d35fe"
      },
      "execution_count": 26,
      "outputs": [
        {
          "output_type": "execute_result",
          "data": {
            "text/plain": [
              "matrix([[ 1,  2,  4,  6,  4,  3],\n",
              "        [ 3,  8,  2, 10,  4, 31]])"
            ]
          },
          "metadata": {},
          "execution_count": 26
        }
      ]
    },
    {
      "cell_type": "code",
      "source": [
        "m3=m3.T"
      ],
      "metadata": {
        "id": "rHtyGZdmqrKq"
      },
      "execution_count": 27,
      "outputs": []
    },
    {
      "cell_type": "code",
      "source": [
        "m3"
      ],
      "metadata": {
        "colab": {
          "base_uri": "https://localhost:8080/"
        },
        "id": "lX6GWoqQqtlq",
        "outputId": "39824db1-cece-45bc-d087-59ed82cc6a17"
      },
      "execution_count": 28,
      "outputs": [
        {
          "output_type": "execute_result",
          "data": {
            "text/plain": [
              "matrix([[ 1,  3],\n",
              "        [ 2,  8],\n",
              "        [ 4,  2],\n",
              "        [ 6, 10],\n",
              "        [ 4,  4],\n",
              "        [ 3, 31]])"
            ]
          },
          "metadata": {},
          "execution_count": 28
        }
      ]
    },
    {
      "cell_type": "markdown",
      "source": [
        "# 4. Write a Python Program to Sort Words in Alphabetic Order?"
      ],
      "metadata": {
        "id": "cuI5515pqpax"
      }
    },
    {
      "cell_type": "code",
      "source": [
        "text='Hello my name is Akshay'"
      ],
      "metadata": {
        "id": "D7_SBPnIq4ci"
      },
      "execution_count": 29,
      "outputs": []
    },
    {
      "cell_type": "code",
      "source": [
        "words=text.split()"
      ],
      "metadata": {
        "id": "zoJ1aGdhrAaR"
      },
      "execution_count": 30,
      "outputs": []
    },
    {
      "cell_type": "code",
      "source": [
        "words"
      ],
      "metadata": {
        "colab": {
          "base_uri": "https://localhost:8080/"
        },
        "id": "1VuSTBwkrG4x",
        "outputId": "0049d397-c9b1-451a-a5ea-4e205f3c7017"
      },
      "execution_count": 31,
      "outputs": [
        {
          "output_type": "execute_result",
          "data": {
            "text/plain": [
              "['Hello', 'my', 'name', 'is', 'Akshay']"
            ]
          },
          "metadata": {},
          "execution_count": 31
        }
      ]
    },
    {
      "cell_type": "code",
      "source": [
        "lower=[]\n",
        "for i in words:\n",
        "  lower.append(i.lower())"
      ],
      "metadata": {
        "id": "-lVHuiBCrImB"
      },
      "execution_count": 37,
      "outputs": []
    },
    {
      "cell_type": "code",
      "source": [
        "lower"
      ],
      "metadata": {
        "colab": {
          "base_uri": "https://localhost:8080/"
        },
        "id": "xH81zLporl0i",
        "outputId": "f0a85183-f094-4082-8671-0a14a3e6e7c1"
      },
      "execution_count": 38,
      "outputs": [
        {
          "output_type": "execute_result",
          "data": {
            "text/plain": [
              "['hello', 'my', 'name', 'is', 'akshay']"
            ]
          },
          "metadata": {},
          "execution_count": 38
        }
      ]
    },
    {
      "cell_type": "code",
      "source": [
        "lower.sort() #by default ascending"
      ],
      "metadata": {
        "id": "eVS2QNwar0RD"
      },
      "execution_count": 41,
      "outputs": []
    },
    {
      "cell_type": "code",
      "source": [
        "lower"
      ],
      "metadata": {
        "colab": {
          "base_uri": "https://localhost:8080/"
        },
        "id": "7yQJu_yir4ua",
        "outputId": "db88bfcf-7b19-437b-aba8-5e7341d9f550"
      },
      "execution_count": 40,
      "outputs": [
        {
          "output_type": "execute_result",
          "data": {
            "text/plain": [
              "['akshay', 'hello', 'is', 'my', 'name']"
            ]
          },
          "metadata": {},
          "execution_count": 40
        }
      ]
    },
    {
      "cell_type": "code",
      "source": [
        "lower.sort(reverse=True)"
      ],
      "metadata": {
        "id": "c2v-tBT0r9Fz"
      },
      "execution_count": 45,
      "outputs": []
    },
    {
      "cell_type": "code",
      "source": [
        "lower"
      ],
      "metadata": {
        "colab": {
          "base_uri": "https://localhost:8080/"
        },
        "id": "5rM4MKc1sDRB",
        "outputId": "e1bf9e2f-b2d7-40f9-98c1-c60b8db1dc69"
      },
      "execution_count": 46,
      "outputs": [
        {
          "output_type": "execute_result",
          "data": {
            "text/plain": [
              "['name', 'my', 'is', 'hello', 'akshay']"
            ]
          },
          "metadata": {},
          "execution_count": 46
        }
      ]
    },
    {
      "cell_type": "markdown",
      "source": [
        "# 5. Write a Python Program to Remove Punctuation From a String?"
      ],
      "metadata": {
        "id": "3gCM1Rj6pVD9"
      }
    },
    {
      "cell_type": "code",
      "source": [
        "string='welcome to Bengaluru!, how are you doing?.'"
      ],
      "metadata": {
        "id": "1jh8ynCHsIcJ"
      },
      "execution_count": 47,
      "outputs": []
    },
    {
      "cell_type": "code",
      "source": [
        "punctuation='/','.','?',','\n",
        "\n",
        "cleantext=''\n",
        "for i in string:\n",
        "  if i not in punctuation:\n",
        "    cleantext=cleantext+i\n",
        "print(cleantext)"
      ],
      "metadata": {
        "colab": {
          "base_uri": "https://localhost:8080/"
        },
        "id": "P7qgtImHsNUf",
        "outputId": "b076a3b0-cc8c-4ae8-be9a-058fdb43d462"
      },
      "execution_count": 49,
      "outputs": [
        {
          "output_type": "stream",
          "name": "stdout",
          "text": [
            "welcome to Bengaluru how are you doing\n"
          ]
        }
      ]
    }
  ]
}