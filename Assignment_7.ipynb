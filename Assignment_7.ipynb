{
  "nbformat": 4,
  "nbformat_minor": 0,
  "metadata": {
    "colab": {
      "provenance": []
    },
    "kernelspec": {
      "name": "python3",
      "display_name": "Python 3"
    },
    "language_info": {
      "name": "python"
    }
  },
  "cells": [
    {
      "cell_type": "markdown",
      "source": [
        "1. What is the name of the feature responsible for generating Regex objects?"
      ],
      "metadata": {
        "id": "9AMQCMW4vkG3"
      }
    },
    {
      "cell_type": "markdown",
      "source": [
        "re.compile()"
      ],
      "metadata": {
        "id": "wjxWwAm1vp16"
      }
    },
    {
      "cell_type": "markdown",
      "source": [
        "2. Why do raw strings often appear in Regex objects?"
      ],
      "metadata": {
        "id": "eW9jZMZpvtcx"
      }
    },
    {
      "cell_type": "markdown",
      "source": [
        "Raw strings are used so that backslashes do not have to be escaped."
      ],
      "metadata": {
        "id": "3F29luErvuKR"
      }
    },
    {
      "cell_type": "markdown",
      "source": [
        "3. What is the return value of the search() method?"
      ],
      "metadata": {
        "id": "QeE-8BxmvzX5"
      }
    },
    {
      "cell_type": "markdown",
      "source": [
        "The function searches for some substring in a string and returns a match object if found, else it returns none"
      ],
      "metadata": {
        "id": "cfpMU3m6v1ch"
      }
    },
    {
      "cell_type": "markdown",
      "source": [
        "4. From a Match item, how do you get the actual strings that match the pattern?"
      ],
      "metadata": {
        "id": "3eTxJe57wAgD"
      }
    },
    {
      "cell_type": "markdown",
      "source": [
        "The group() method returns strings of the matched text."
      ],
      "metadata": {
        "id": "ATHJO1ORwE0a"
      }
    },
    {
      "cell_type": "markdown",
      "source": [
        "5. In the regex which created from the r&#39;(\\d\\d\\d)-(\\d\\d\\d-\\d\\d\\d\\d)&#39;, what does group zero cover?\n",
        "Group 2? Group 1?"
      ],
      "metadata": {
        "id": "22__5FMywGfS"
      }
    },
    {
      "cell_type": "markdown",
      "source": [
        " Group 0 is the entire match, group 1 covers the first set of parentheses, and group 2 covers the second set of parentheses"
      ],
      "metadata": {
        "id": "xVgW1FgZwKFZ"
      }
    },
    {
      "cell_type": "markdown",
      "source": [
        "\n",
        "6. In standard expression syntax, parentheses and intervals have distinct meanings. How can you tell\n",
        "a regex that you want it to fit real parentheses and periods?"
      ],
      "metadata": {
        "id": "8VGxs2nJwNgh"
      }
    },
    {
      "cell_type": "markdown",
      "source": [
        "Periods and parentheses can be escaped with a backslash: \\., \\(, and \\)"
      ],
      "metadata": {
        "id": "sQwaBGDJwPiR"
      }
    },
    {
      "cell_type": "markdown",
      "source": [
        "7. The findall() method returns a string list or a list of string tuples. What causes it to return one of\n",
        "the two options?"
      ],
      "metadata": {
        "id": "u49Vx5iKwSuy"
      }
    },
    {
      "cell_type": "markdown",
      "source": [
        "If the regex has no groups, a list of strings is returned. If the regex has groups, a list of tuples of strings is returned"
      ],
      "metadata": {
        "id": "v8ikWrVQwV6B"
      }
    },
    {
      "cell_type": "markdown",
      "source": [
        "\n",
        "8. In standard expressions, what does the | character mean?"
      ],
      "metadata": {
        "id": "m651di48wYqT"
      }
    },
    {
      "cell_type": "markdown",
      "source": [
        "match a string that is matched by either"
      ],
      "metadata": {
        "id": "JVEWdQHQwaQa"
      }
    },
    {
      "cell_type": "markdown",
      "source": [
        "9. In regular expressions, what does the character stand for? "
      ],
      "metadata": {
        "id": "okW2eVBcwkzg"
      }
    },
    {
      "cell_type": "markdown",
      "source": [
        " All characters, except those having special meaning in regex, matches themselves"
      ],
      "metadata": {
        "id": "tVyAQ0PFwt9g"
      }
    },
    {
      "cell_type": "markdown",
      "source": [
        "10.In regular expressions, what is the difference between the + and * characters?"
      ],
      "metadata": {
        "id": "plIiWISNwxeS"
      }
    },
    {
      "cell_type": "markdown",
      "source": [
        "* means zero-or-more, and + means one-or-more"
      ],
      "metadata": {
        "id": "nRqAN8iOw01S"
      }
    },
    {
      "cell_type": "markdown",
      "source": [
        "11. What is the difference between {4} and {4,5} in regular expression?"
      ],
      "metadata": {
        "id": "agjJ15iFw3F5"
      }
    },
    {
      "cell_type": "markdown",
      "source": [
        " between 4 and 6 characters, inclusive"
      ],
      "metadata": {
        "id": "9DULSkfVw4rw"
      }
    },
    {
      "cell_type": "markdown",
      "source": [
        "12. What do you mean by the \\d, \\w, and \\s shorthand character classes signify in regular\n",
        "expressions?"
      ],
      "metadata": {
        "id": "Wzo4xMAsxFDp"
      }
    },
    {
      "cell_type": "markdown",
      "source": [
        "The \\d, \\w, and \\s shorthand character classes match a single digit, word, or space character, respectively."
      ],
      "metadata": {
        "id": "3Td2MArhxGpJ"
      }
    },
    {
      "cell_type": "markdown",
      "source": [
        "13. What do means by \\D, \\W, and \\S shorthand character classes signify in regular expressions?"
      ],
      "metadata": {
        "id": "gF7WKjkoxJ_R"
      }
    },
    {
      "cell_type": "markdown",
      "source": [
        "The \\D, \\W, and \\S shorthand character classes match a single character that is not a digit, word, or space character, respectively."
      ],
      "metadata": {
        "id": "txmc_7-zxNOJ"
      }
    },
    {
      "cell_type": "markdown",
      "source": [
        "14. What is the difference between .*? and .*?"
      ],
      "metadata": {
        "id": "FupIere_xhXa"
      }
    },
    {
      "cell_type": "markdown",
      "source": [
        "The . performs a greedy match, and the .? performs a nongreedy match."
      ],
      "metadata": {
        "id": "Bw8Tg54uxioq"
      }
    },
    {
      "cell_type": "markdown",
      "source": [
        "15. What is the syntax for matching both numbers and lowercase letters with a character class?"
      ],
      "metadata": {
        "id": "PNK46cQ5xtO5"
      }
    },
    {
      "cell_type": "markdown",
      "source": [
        "[a-zA-Z0-9]"
      ],
      "metadata": {
        "id": "9SaAyYagxt2B"
      }
    },
    {
      "cell_type": "markdown",
      "source": [
        "\n",
        "16. What is the procedure for making a normal expression in regax case insensitive?"
      ],
      "metadata": {
        "id": "s9fnZT2tx12J"
      }
    },
    {
      "cell_type": "markdown",
      "source": [
        " Using CASE_INSENSITIVE flag"
      ],
      "metadata": {
        "id": "ZSTCZFxex3YC"
      }
    },
    {
      "cell_type": "markdown",
      "source": [
        "17. What does the . character normally match? What does it match if re.DOTALL is passed as 2nd\n",
        "argument in re.compile()?"
      ],
      "metadata": {
        "id": "owvIAspkx6zq"
      }
    },
    {
      "cell_type": "markdown",
      "source": [
        "The . character normally matches any character except the newline character. If re.DOTALL is passed as the second argument to re.compile(), then the dot will also match newline characters."
      ],
      "metadata": {
        "id": "4B1Whdtxx8cq"
      }
    },
    {
      "cell_type": "markdown",
      "source": [
        "18. If numReg = re.compile(r&#39;\\d+&#39;), what will numRegex.sub(&#39;X&#39;, &#39;11 drummers, 10 pipers, five rings, 4\n",
        "hen&#39;) return?"
      ],
      "metadata": {
        "id": "TckegLtuyBHh"
      }
    },
    {
      "cell_type": "markdown",
      "source": [
        "'X drummers, X pipers, five rings, X hens'"
      ],
      "metadata": {
        "id": "V97MRl5jyCrR"
      }
    },
    {
      "cell_type": "markdown",
      "source": [
        "19. What does passing re.VERBOSE as the 2nd argument to re.compile() allow to do?"
      ],
      "metadata": {
        "id": "ajTvU74RyFK5"
      }
    },
    {
      "cell_type": "markdown",
      "source": [
        "The re.VERBOSE argument allows you to add whitespace and comments to the string passed to re.compile()."
      ],
      "metadata": {
        "id": "7IRH7cMYyG4h"
      }
    },
    {
      "cell_type": "markdown",
      "source": [
        "20. How would you write a regex that match a number with comma for every three digits? It must\n",
        "match the given following:\n",
        "&#39;42&#39;\n",
        "&#39;1,234&#39;\n",
        "&#39;6,368,745&#39;but not the following:\n",
        "&#39;12,34,567&#39; (which has only two digits between the commas)\n",
        "&#39;1234&#39; (which lacks commas)"
      ],
      "metadata": {
        "id": "q_eGYzgOyIlq"
      }
    },
    {
      "cell_type": "markdown",
      "source": [
        "re.compile(r'^\\d{1,3}(,\\d{3})*$') will create this regex, but other regex strings can produce a similar regular expression."
      ],
      "metadata": {
        "id": "o6qSUWMpyK45"
      }
    },
    {
      "cell_type": "markdown",
      "source": [
        "\n",
        "21. How would you write a regex that matches the full name of someone whose last name is\n",
        "Watanabe? You can assume that the first name that comes before it will always be one word that\n",
        "begins with a capital letter. The regex must match the following:\n",
        "&#39;Haruto Watanabe&#39;\n",
        "&#39;Alice Watanabe&#39;\n",
        "&#39;RoboCop Watanabe&#39;\n",
        "but not the following:\n",
        "&#39;haruto Watanabe&#39; (where the first name is not capitalized)\n",
        "&#39;Mr. Watanabe&#39; (where the preceding word has a nonletter character)\n",
        "&#39;Watanabe&#39; (which has no first name)\n",
        "&#39;Haruto watanabe&#39; (where Watanabe is not capitalized)"
      ],
      "metadata": {
        "id": "7awHMRIYyNjL"
      }
    },
    {
      "cell_type": "markdown",
      "source": [
        "re.compile(r'[A-Z][a-z]*\\sWatanabe')"
      ],
      "metadata": {
        "id": "uz9Mfw4AySq6"
      }
    },
    {
      "cell_type": "markdown",
      "source": [
        "\n",
        "\n",
        "\n",
        "\n",
        "\n",
        "\n",
        "22. How would you write a regex that matches a sentence where the first word is either Alice, Bob,\n",
        "or Carol; the second word is either eats, pets, or throws; the third word is apples, cats, or baseballs;\n",
        "and the sentence ends with a period? This regex should be case-insensitive. It must match the\n",
        "following:\n",
        "&#39;Alice eats apples.&#39;\n",
        "&#39;Bob pets cats.&#39;\n",
        "&#39;Carol throws baseballs.&#39;\n",
        "&#39;Alice throws Apples.&#39;\n",
        "&#39;BOB EATS CATS.&#39;\n",
        "but not the following:\n",
        "&#39;RoboCop eats apples.&#39;\n",
        "&#39;ALICE THROWS FOOTBALLS.&#39;\n",
        "&#39;Carol eats 7 cats.&#39;"
      ],
      "metadata": {
        "id": "DjTfwHJ4vf7n"
      }
    },
    {
      "cell_type": "markdown",
      "source": [
        "re.compile(r'(Alice|Bob|Carol)\\s(eats|pets|throws)\\s(apples|cats|baseballs)\\.', re.IGNORECASE)"
      ],
      "metadata": {
        "id": "IGpTNpl0vhsa"
      }
    }
  ]
}