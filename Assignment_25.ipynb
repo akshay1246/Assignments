{
  "nbformat": 4,
  "nbformat_minor": 0,
  "metadata": {
    "colab": {
      "provenance": []
    },
    "kernelspec": {
      "name": "python3",
      "display_name": "Python 3"
    },
    "language_info": {
      "name": "python"
    }
  },
  "cells": [
    {
      "cell_type": "markdown",
      "source": [
        "# 1) . What is the difference between enclosing a list comprehension in square brackets and parentheses? "
      ],
      "metadata": {
        "id": "BffUuJTWdVxT"
      }
    },
    {
      "cell_type": "markdown",
      "source": [
        "The difference between the two kinds of expressions is that the List comprehension is enclosed in square brackets [] while the Generator expression is enclosed in plain parentheses ()\n",
        "\n",
        "We cannot access the elements in the generator"
      ],
      "metadata": {
        "id": "OJMp7jL0dxMi"
      }
    },
    {
      "cell_type": "markdown",
      "source": [
        "# 2) What is the relationship between generators and iterators?"
      ],
      "metadata": {
        "id": "u6s880xTd5SK"
      }
    },
    {
      "cell_type": "markdown",
      "source": [
        "Iterators are the objects that use the next() method to get the next value of the sequence. A generator is a function that produces or yields a sequence of values using a yield statement."
      ],
      "metadata": {
        "id": "KHtEvuDOePuq"
      }
    },
    {
      "cell_type": "code",
      "source": [
        "x=[1,2,4,5,6,67]"
      ],
      "metadata": {
        "id": "mYZlrje3eQTK"
      },
      "execution_count": 1,
      "outputs": []
    },
    {
      "cell_type": "code",
      "source": [
        "a=iter(x)"
      ],
      "metadata": {
        "id": "BVG16U8Zebcq"
      },
      "execution_count": 5,
      "outputs": []
    },
    {
      "cell_type": "code",
      "source": [
        "next(a)  "
      ],
      "metadata": {
        "colab": {
          "base_uri": "https://localhost:8080/"
        },
        "id": "aHbkCXuGegyy",
        "outputId": "9d7748fe-6d4b-4303-daf6-4efd0eff7b19"
      },
      "execution_count": 6,
      "outputs": [
        {
          "output_type": "execute_result",
          "data": {
            "text/plain": [
              "1"
            ]
          },
          "metadata": {},
          "execution_count": 6
        }
      ]
    },
    {
      "cell_type": "code",
      "source": [
        "next(a) #this is an iterator, where every value is called when we excute the function next"
      ],
      "metadata": {
        "colab": {
          "base_uri": "https://localhost:8080/"
        },
        "id": "JOq3lRdfetIi",
        "outputId": "a4cdac32-5c05-459c-cef3-56593abeeb15"
      },
      "execution_count": 7,
      "outputs": [
        {
          "output_type": "execute_result",
          "data": {
            "text/plain": [
              "2"
            ]
          },
          "metadata": {},
          "execution_count": 7
        }
      ]
    },
    {
      "cell_type": "code",
      "source": [
        "def new():       #example og generator\n",
        "    n = 1\n",
        "    print('This is printed first')\n",
        "    yield n\n",
        "\n",
        "    n += 1\n",
        "    print('This is printed second')\n",
        "    yield n\n",
        "    n += 1\n",
        "    print('This is printed at last')\n",
        "    yield n\n",
        "\n",
        "\n",
        "for i in new():\n",
        "    print(i)"
      ],
      "metadata": {
        "colab": {
          "base_uri": "https://localhost:8080/"
        },
        "id": "Ic8Safs4e8hp",
        "outputId": "538b10dc-475b-41fe-a7dd-7e678485183a"
      },
      "execution_count": 34,
      "outputs": [
        {
          "output_type": "stream",
          "name": "stdout",
          "text": [
            "This is printed first\n",
            "1\n",
            "This is printed second\n",
            "2\n",
            "This is printed at last\n",
            "3\n"
          ]
        }
      ]
    },
    {
      "cell_type": "markdown",
      "source": [
        "# 3) What are the signs that a function is a generator function?"
      ],
      "metadata": {
        "id": "Dn02zeEXhC50"
      }
    },
    {
      "cell_type": "markdown",
      "source": [
        "If a function contains at least one yield statement (it may contain other yield or return statements), it becomes a generator function. Both yield and return will return some value from a function"
      ],
      "metadata": {
        "id": "w0OyCM55hKzP"
      }
    },
    {
      "cell_type": "markdown",
      "source": [
        "\n",
        "# 4) What is the purpose of a yield statement?"
      ],
      "metadata": {
        "id": "ye4W6kXFhNDp"
      }
    },
    {
      "cell_type": "markdown",
      "source": [
        "The yield keyword pauses generator function execution and the value of the expression following the yield keyword is returned to the generator's caller. It can be thought of as a generator-based version of the return keyword"
      ],
      "metadata": {
        "id": "OfuT-h8HhrSI"
      }
    },
    {
      "cell_type": "markdown",
      "source": [
        "# 5) What is the relationship between map calls and list comprehensions? Make a comparison and contrast between the two."
      ],
      "metadata": {
        "id": "x3ISmuKddUZU"
      }
    },
    {
      "cell_type": "markdown",
      "source": [
        "List comprehension has a simpler configuration than the map function.  \n",
        "List comprehension can be used together with if condition as replacement of filter method. Map function has no such functionality. However, we can feed the map function output to the filter function.  \n",
        "List comprehension returns a list, whereas the map function returns an object of Iterable.  \n",
        "List comprehension execution is faster than that of map function when the formula expression is huge and complex. \n",
        "Map function is faster than list comprehension when the formula is already defined as a function earlier. So, that map function is used without lambda expression. "
      ],
      "metadata": {
        "id": "PUnMiIOzh_Ky"
      }
    }
  ]
}