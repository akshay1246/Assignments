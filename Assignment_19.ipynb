{
  "cells": [
    {
      "cell_type": "markdown",
      "id": "liberal-account",
      "metadata": {
        "id": "liberal-account"
      },
      "source": [
        " Make a class called Thing with no contents and print it. Then, create an object called example from this class and also print it. Are the printed values the same or different?\n",
        "\n",
        "    \n"
      ]
    },
    {
      "cell_type": "code",
      "execution_count": null,
      "id": "cc4ee62e",
      "metadata": {
        "id": "cc4ee62e",
        "outputId": "5687c3dc-190e-437b-e513-04e6ed4bf650"
      },
      "outputs": [
        {
          "name": "stdout",
          "output_type": "stream",
          "text": [
            "<class '__main__.Thing'>\n"
          ]
        }
      ],
      "source": [
        "class Thing:\n",
        "    pass\n",
        "print(Thing)"
      ]
    },
    {
      "cell_type": "code",
      "execution_count": null,
      "id": "ec4e677c",
      "metadata": {
        "id": "ec4e677c",
        "outputId": "5759d5f2-9003-42b9-d421-b19255a05591"
      },
      "outputs": [
        {
          "name": "stdout",
          "output_type": "stream",
          "text": [
            "<__main__.Thing object at 0x000002B5D9C00D00>\n"
          ]
        }
      ],
      "source": [
        "example = Thing()\n",
        "print(example)"
      ]
    },
    {
      "cell_type": "markdown",
      "id": "sharing-council",
      "metadata": {
        "id": "sharing-council"
      },
      "source": [
        "2. Create a new class called Thing2 and add the value 'abc' to the letters class attribute. Letters should be printed.\n",
        "\n",
        "\n",
        "    \n"
      ]
    },
    {
      "cell_type": "code",
      "execution_count": null,
      "id": "3fd6e5fb",
      "metadata": {
        "id": "3fd6e5fb",
        "outputId": "2669eaa0-b21d-4783-d9c0-16bf4ebcf95c"
      },
      "outputs": [
        {
          "name": "stdout",
          "output_type": "stream",
          "text": [
            "abc\n"
          ]
        }
      ],
      "source": [
        "class Thing2:\n",
        "    letters = 'abc'\n",
        "print(Thing2.letters)"
      ]
    },
    {
      "cell_type": "markdown",
      "id": "acute-talent",
      "metadata": {
        "id": "acute-talent"
      },
      "source": [
        "3. Make yet another class called, of course, Thing3. This time, assign the value 'xyz' to an instance (object) attribute called letters. Print letters. Do you need to make an object from the class to do this?\n",
        "\n",
        "    \n"
      ]
    },
    {
      "cell_type": "code",
      "execution_count": null,
      "id": "d13046ab",
      "metadata": {
        "id": "d13046ab"
      },
      "outputs": [],
      "source": [
        "class Thing3:\n",
        "    def __init__(self):\n",
        "        self.letters = 'xyz'"
      ]
    },
    {
      "cell_type": "code",
      "execution_count": null,
      "id": "78b5b285",
      "metadata": {
        "id": "78b5b285",
        "outputId": "dc3f6c70-fbcb-4ea7-9420-334b55ac37f7"
      },
      "outputs": [
        {
          "name": "stdout",
          "output_type": "stream",
          "text": [
            "xyz\n"
          ]
        }
      ],
      "source": [
        "something = Thing3()\n",
        "print(something.letters)"
      ]
    },
    {
      "cell_type": "markdown",
      "id": "outdoor-setup",
      "metadata": {
        "id": "outdoor-setup"
      },
      "source": [
        "4.  Create an Element class with the instance attributes name, symbol, and number. Create a class object with the values 'Hydrogen,' 'H,' and 1.\n",
        "\n",
        "\n",
        "\n",
        "    \n"
      ]
    },
    {
      "cell_type": "code",
      "execution_count": null,
      "id": "c2841aec",
      "metadata": {
        "id": "c2841aec"
      },
      "outputs": [],
      "source": [
        "class Element:\n",
        "    def __init__(self, name, symbol, number):\n",
        "        self.name = name\n",
        "        self.symbol = symbol\n",
        "        self.number = number\n",
        "hydrogen = Element('Hydrogen', 'H', 1)"
      ]
    },
    {
      "cell_type": "markdown",
      "id": "caring-viewer",
      "metadata": {
        "id": "caring-viewer"
      },
      "source": [
        "5. Make a dictionary with these keys and values: 'name': 'Hydrogen', 'symbol': 'H', 'number': 1. Then, create an object called hydrogen from class Element using this dictionary.\n",
        "\n",
        "\n",
        "    \n"
      ]
    },
    {
      "cell_type": "code",
      "execution_count": null,
      "id": "6728434f",
      "metadata": {
        "id": "6728434f"
      },
      "outputs": [],
      "source": [
        "#Starting with the dictionary:\n",
        "el_dict = {'name': 'Hydrogen', 'symbol': 'H', 'number': 1}"
      ]
    },
    {
      "cell_type": "code",
      "execution_count": null,
      "id": "3fd60882",
      "metadata": {
        "id": "3fd60882"
      },
      "outputs": [],
      "source": [
        "#Creating object called hydrogen from class Element using el_dict\n",
        "hydrogen = Element(el_dict['name'], el_dict['symbol'], el_dict['number'])"
      ]
    },
    {
      "cell_type": "code",
      "execution_count": null,
      "id": "4304cf12",
      "metadata": {
        "id": "4304cf12",
        "outputId": "632cb0f8-aaae-4a6d-9be9-984bc197e00a"
      },
      "outputs": [
        {
          "data": {
            "text/plain": [
              "'Hydrogen'"
            ]
          },
          "execution_count": 13,
          "metadata": {},
          "output_type": "execute_result"
        }
      ],
      "source": [
        "hydrogen.name"
      ]
    },
    {
      "cell_type": "markdown",
      "id": "complimentary-cabinet",
      "metadata": {
        "id": "complimentary-cabinet"
      },
      "source": [
        "6. For the Element class, define a method called dump() that prints the values of the object’s attributes (name, symbol, and number). Create the hydrogen object from this new definition and use dump() to print its attributes.\n",
        "\n",
        "\n",
        "    \n"
      ]
    },
    {
      "cell_type": "code",
      "execution_count": null,
      "id": "1cc0e0c3",
      "metadata": {
        "id": "1cc0e0c3",
        "outputId": "ab6b85f0-e6e3-4a00-cebc-925422507af2"
      },
      "outputs": [
        {
          "name": "stdout",
          "output_type": "stream",
          "text": [
            "name=Hydrogen, symbol=H, number=1\n"
          ]
        }
      ],
      "source": [
        "class Element:\n",
        "    def __init__(self, name, symbol, number):\n",
        "        self.name = name\n",
        "        self.symbol = symbol\n",
        "        self.number = number\n",
        "    def dump(self):\n",
        "        print('name=%s, symbol=%s, number=%s' %(self.name, self.symbol, self.number))\n",
        "hydrogen = Element(**el_dict)\n",
        "hydrogen.dump()"
      ]
    },
    {
      "cell_type": "markdown",
      "id": "special-graduation",
      "metadata": {
        "id": "special-graduation"
      },
      "source": [
        "7.  Call print(hydrogen). In the definition of Element, change the name of method dump to __str__, create a new hydrogen object, and call print(hydrogen) again.\n",
        "    \n"
      ]
    },
    {
      "cell_type": "code",
      "execution_count": null,
      "id": "4712717d",
      "metadata": {
        "id": "4712717d",
        "outputId": "6d164b20-49b5-4f16-d750-5b78b4add083"
      },
      "outputs": [
        {
          "name": "stdout",
          "output_type": "stream",
          "text": [
            "<__main__.Element object at 0x000002B5DB25E760>\n"
          ]
        }
      ],
      "source": [
        "print(hydrogen)"
      ]
    },
    {
      "cell_type": "code",
      "execution_count": null,
      "id": "632fd393",
      "metadata": {
        "id": "632fd393",
        "outputId": "0d1a67be-d29f-4660-cb78-092262920d92"
      },
      "outputs": [
        {
          "name": "stdout",
          "output_type": "stream",
          "text": [
            "name=Hydrogen, symbol=H, number=1\n"
          ]
        }
      ],
      "source": [
        "class Element:\n",
        "    def __init__(self, name, symbol, number):\n",
        "        self.name = name\n",
        "        self.symbol = symbol\n",
        "        self.number = number\n",
        "    def __str__(self):\n",
        "        return ('name=%s, symbol=%s, number=%s' %(self.name, self.symbol, self.number))\n",
        "\n",
        "hydrogen = Element(**el_dict)\n",
        "print(hydrogen)"
      ]
    },
    {
      "cell_type": "markdown",
      "id": "conscious-adult",
      "metadata": {
        "id": "conscious-adult"
      },
      "source": [
        "8. Modify Element to make the attributes name, symbol, and number private. Define a getter property for each to return its value.\n",
        "\n",
        "\n",
        "    \n"
      ]
    },
    {
      "cell_type": "code",
      "execution_count": null,
      "id": "40c7071b",
      "metadata": {
        "id": "40c7071b"
      },
      "outputs": [],
      "source": [
        "class Element:\n",
        "    def __init__(self, name, symbol, number):\n",
        "        self.__name = name\n",
        "        self.__symbol = symbol\n",
        "        self.__number = number\n",
        "    @property    \n",
        "    def name(self):\n",
        "        return self.__name\n",
        "    @property\n",
        "    def symbol(self):\n",
        "        return self.__symbol\n",
        "    @property\n",
        "    def number(self):\n",
        "        return self.__number\n",
        "hydrogen = Element('Hydrogen', 'H', 1)"
      ]
    },
    {
      "cell_type": "code",
      "execution_count": null,
      "id": "8aa75862",
      "metadata": {
        "id": "8aa75862",
        "outputId": "67124dfa-9fc7-4af4-b0a0-3273bfc115be"
      },
      "outputs": [
        {
          "data": {
            "text/plain": [
              "'Hydrogen'"
            ]
          },
          "execution_count": 30,
          "metadata": {},
          "output_type": "execute_result"
        }
      ],
      "source": [
        "hydrogen.name"
      ]
    },
    {
      "cell_type": "code",
      "execution_count": null,
      "id": "9c632443",
      "metadata": {
        "id": "9c632443",
        "outputId": "fdaa51e9-7fc1-4b6c-ef85-42b13cd93a6f"
      },
      "outputs": [
        {
          "data": {
            "text/plain": [
              "'H'"
            ]
          },
          "execution_count": 31,
          "metadata": {},
          "output_type": "execute_result"
        }
      ],
      "source": [
        "hydrogen.symbol"
      ]
    },
    {
      "cell_type": "code",
      "execution_count": null,
      "id": "ed491dc4",
      "metadata": {
        "id": "ed491dc4",
        "outputId": "ab90ab4c-bcb7-403b-b1ab-169f2fce4ca1"
      },
      "outputs": [
        {
          "data": {
            "text/plain": [
              "1"
            ]
          },
          "execution_count": 32,
          "metadata": {},
          "output_type": "execute_result"
        }
      ],
      "source": [
        "hydrogen.number"
      ]
    },
    {
      "cell_type": "markdown",
      "id": "dynamic-madison",
      "metadata": {
        "id": "dynamic-madison"
      },
      "source": [
        "9.  Define three classes: Bear, Rabbit, and Octothorpe. For each, define only one method: eats(). This should return 'berries' (Bear), 'clover' (Rabbit), or 'campers' (Octothorpe). Create one object from each and print what it eats.\n",
        "\n",
        "\n",
        "    \n"
      ]
    },
    {
      "cell_type": "code",
      "execution_count": null,
      "id": "d83b92b5",
      "metadata": {
        "id": "d83b92b5"
      },
      "outputs": [],
      "source": [
        "class Bear:\n",
        "    def eats(self):\n",
        "        return 'berries'\n",
        "    \n",
        "class Rabbit:\n",
        "    def eats(self):\n",
        "        return 'clover'\n",
        "\n",
        "class Octothorpe:\n",
        "    def eats(self):\n",
        "        return 'campers'\n",
        "    \n",
        "b = Bear()\n",
        "r = Rabbit()\n",
        "o = Octothorpe()"
      ]
    },
    {
      "cell_type": "code",
      "execution_count": null,
      "id": "8066f8c6",
      "metadata": {
        "id": "8066f8c6",
        "outputId": "aab1832d-2cfe-40d1-b622-5b27e5c4430f"
      },
      "outputs": [
        {
          "name": "stdout",
          "output_type": "stream",
          "text": [
            "berries\n"
          ]
        }
      ],
      "source": [
        "print(b.eats())"
      ]
    },
    {
      "cell_type": "code",
      "execution_count": null,
      "id": "92e4ae7d",
      "metadata": {
        "id": "92e4ae7d",
        "outputId": "750dc143-8fa4-43b5-ab81-2a02db3dfa20"
      },
      "outputs": [
        {
          "name": "stdout",
          "output_type": "stream",
          "text": [
            "clover\n"
          ]
        }
      ],
      "source": [
        "print(r.eats())"
      ]
    },
    {
      "cell_type": "code",
      "execution_count": null,
      "id": "2ceb94d7",
      "metadata": {
        "id": "2ceb94d7",
        "outputId": "dd4d7228-9bc9-4212-ff90-ef46d1624318"
      },
      "outputs": [
        {
          "name": "stdout",
          "output_type": "stream",
          "text": [
            "campers\n"
          ]
        }
      ],
      "source": [
        "print(o.eats())"
      ]
    },
    {
      "cell_type": "markdown",
      "id": "continuing-drama",
      "metadata": {
        "id": "continuing-drama"
      },
      "source": [
        "10. Define these classes: Laser, Claw, and SmartPhone. Each has only one method: does(). This returns 'disintegrate' (Laser), 'crush' (Claw), or 'ring' (SmartPhone). Then, define the class Robot that has one instance (object) of each of these. Define a does() method for the Robot that prints what its component objects do.\n",
        "\n",
        "    \n"
      ]
    },
    {
      "cell_type": "code",
      "execution_count": null,
      "id": "e66788cc",
      "metadata": {
        "id": "e66788cc"
      },
      "outputs": [],
      "source": [
        "class Laser:\n",
        "    def does(self):\n",
        "        return 'disintegrate'\n",
        "\n",
        "class Claw:\n",
        "    def does(self):\n",
        "        return 'crush'\n",
        "    \n",
        "class SmartPhone:\n",
        "    def does(self):\n",
        "        return 'ring'\n",
        "    \n",
        "class Robot:\n",
        "    def __init__(self):\n",
        "        self.laser = Laser()\n",
        "        self.claw = Claw()\n",
        "        self.smartphone = SmartPhone()\n",
        "        \n",
        "    def does(self):\n",
        "        return '''I have many attachments:\n",
        "        My laser, to %s.\n",
        "        My claw, to %s.\n",
        "        My smartphone, to %s.''' % (self.laser.does(),self.claw.does(),self.smartphone.does() )"
      ]
    },
    {
      "cell_type": "code",
      "execution_count": null,
      "id": "11aac728",
      "metadata": {
        "id": "11aac728"
      },
      "outputs": [],
      "source": [
        "robbie = Robot()"
      ]
    },
    {
      "cell_type": "code",
      "execution_count": null,
      "id": "74e648a5",
      "metadata": {
        "id": "74e648a5",
        "outputId": "d856b1b3-f27a-4d57-80e5-767f87897fe3"
      },
      "outputs": [
        {
          "name": "stdout",
          "output_type": "stream",
          "text": [
            "I have many attachments:\n",
            "        My laser, to disintegrate.\n",
            "        My claw, to crush.\n",
            "        My smartphone, to ring.\n"
          ]
        }
      ],
      "source": [
        "print( robbie.does())"
      ]
    }
  ],
  "metadata": {
    "kernelspec": {
      "display_name": "Python 3",
      "language": "python",
      "name": "python3"
    },
    "language_info": {
      "codemirror_mode": {
        "name": "ipython",
        "version": 3
      },
      "file_extension": ".py",
      "mimetype": "text/x-python",
      "name": "python",
      "nbconvert_exporter": "python",
      "pygments_lexer": "ipython3",
      "version": "3.8.8"
    },
    "toc": {
      "base_numbering": 1,
      "nav_menu": {},
      "number_sections": true,
      "sideBar": true,
      "skip_h1_title": false,
      "title_cell": "Table of Contents",
      "title_sidebar": "Contents",
      "toc_cell": false,
      "toc_position": {},
      "toc_section_display": true,
      "toc_window_display": false
    },
    "colab": {
      "provenance": []
    }
  },
  "nbformat": 4,
  "nbformat_minor": 5
}