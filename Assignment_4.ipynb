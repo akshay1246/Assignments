{
  "nbformat": 4,
  "nbformat_minor": 0,
  "metadata": {
    "colab": {
      "provenance": []
    },
    "kernelspec": {
      "name": "python3",
      "display_name": "Python 3"
    },
    "language_info": {
      "name": "python"
    }
  },
  "cells": [
    {
      "cell_type": "markdown",
      "source": [
        "#1. What exactly is []?"
      ],
      "metadata": {
        "id": "mjB7hq6d9pg0"
      }
    },
    {
      "cell_type": "markdown",
      "source": [
        "Empty List"
      ],
      "metadata": {
        "id": "KIsRqDgd9s6l"
      }
    },
    {
      "cell_type": "markdown",
      "source": [
        "#2. In a list of values stored in a variable called spam, how would you assign the value 'hello' as the third value? (Assume [2, 4, 6, 8, 10] are in spam.)"
      ],
      "metadata": {
        "id": "lkQ6CqmA9v_a"
      }
    },
    {
      "cell_type": "code",
      "source": [
        "spam=[2,4,6,8,10]\n",
        "spam[2]='hello'\n",
        "spam"
      ],
      "metadata": {
        "colab": {
          "base_uri": "https://localhost:8080/"
        },
        "id": "i9OB-RpN927v",
        "outputId": "d2ead8d0-0001-438e-e2ec-e77215ef6545"
      },
      "execution_count": 51,
      "outputs": [
        {
          "output_type": "execute_result",
          "data": {
            "text/plain": [
              "[2, 4, 'hello', 8, 10]"
            ]
          },
          "metadata": {},
          "execution_count": 51
        }
      ]
    },
    {
      "cell_type": "markdown",
      "source": [
        "#Lets pretend the spam includes the list ['a','b','c','d'] for the next three queries.\n",
        "\n",
        "# 3.What is the value of spam[int(int(&#39;3&#39; * 2) / 11)]?"
      ],
      "metadata": {
        "id": "DebQAUoO-JVi"
      }
    },
    {
      "cell_type": "code",
      "source": [
        "spam=['a','b','c','d']\n",
        "\n",
        "spam[int(int('3' * 2) / 11)]\n"
      ],
      "metadata": {
        "colab": {
          "base_uri": "https://localhost:8080/",
          "height": 35
        },
        "id": "-MJdqMOY-Rb6",
        "outputId": "8eac443e-ed99-4bd5-9e6c-8a41a6367e3a"
      },
      "execution_count": 52,
      "outputs": [
        {
          "output_type": "execute_result",
          "data": {
            "text/plain": [
              "'d'"
            ],
            "application/vnd.google.colaboratory.intrinsic+json": {
              "type": "string"
            }
          },
          "metadata": {},
          "execution_count": 52
        }
      ]
    },
    {
      "cell_type": "markdown",
      "source": [
        "# 4. What is the value of spam[-1]?"
      ],
      "metadata": {
        "id": "UuoGOmFvAQy7"
      }
    },
    {
      "cell_type": "code",
      "source": [
        "spam[-1]"
      ],
      "metadata": {
        "colab": {
          "base_uri": "https://localhost:8080/",
          "height": 35
        },
        "id": "e3-g1yrkASJ7",
        "outputId": "a6c885d0-194c-4b2f-a1fc-6fe1d2c3a481"
      },
      "execution_count": 53,
      "outputs": [
        {
          "output_type": "execute_result",
          "data": {
            "text/plain": [
              "'d'"
            ],
            "application/vnd.google.colaboratory.intrinsic+json": {
              "type": "string"
            }
          },
          "metadata": {},
          "execution_count": 53
        }
      ]
    },
    {
      "cell_type": "markdown",
      "source": [
        "#5. What is the value of spam[:2]?"
      ],
      "metadata": {
        "id": "h3qF8l3CAU0y"
      }
    },
    {
      "cell_type": "code",
      "source": [
        "spam[-2]"
      ],
      "metadata": {
        "colab": {
          "base_uri": "https://localhost:8080/",
          "height": 35
        },
        "id": "YppFQlSDAX9a",
        "outputId": "7a0aa20d-9dd6-46da-9acc-b19844147e0c"
      },
      "execution_count": 54,
      "outputs": [
        {
          "output_type": "execute_result",
          "data": {
            "text/plain": [
              "'c'"
            ],
            "application/vnd.google.colaboratory.intrinsic+json": {
              "type": "string"
            }
          },
          "metadata": {},
          "execution_count": 54
        }
      ]
    },
    {
      "cell_type": "markdown",
      "source": [
        "#Lets pretend bacon has the list [3.14,'cat', 11, 'cat', True] for the next three questions.\n",
        "# 6. What is the value of bacon.index('cat')?"
      ],
      "metadata": {
        "id": "YncnhsBpAi_y"
      }
    },
    {
      "cell_type": "code",
      "source": [
        "bacon=[3.14, 'cat', 11, 'cat', True]"
      ],
      "metadata": {
        "id": "Kvvq8-y_AZra"
      },
      "execution_count": 55,
      "outputs": []
    },
    {
      "cell_type": "code",
      "source": [
        "bacon.index('cat')"
      ],
      "metadata": {
        "colab": {
          "base_uri": "https://localhost:8080/"
        },
        "id": "TeHRYxM8BGT6",
        "outputId": "70f5efa5-2508-4865-a371-d763124b82bd"
      },
      "execution_count": 56,
      "outputs": [
        {
          "output_type": "execute_result",
          "data": {
            "text/plain": [
              "1"
            ]
          },
          "metadata": {},
          "execution_count": 56
        }
      ]
    },
    {
      "cell_type": "markdown",
      "source": [
        "# 7.How does bacon.append(99) change the look of the list value in bacon?"
      ],
      "metadata": {
        "id": "wtqH4qLQBTjy"
      }
    },
    {
      "cell_type": "code",
      "source": [
        "bacon.append(99)\n",
        "\n",
        "bacon"
      ],
      "metadata": {
        "colab": {
          "base_uri": "https://localhost:8080/"
        },
        "id": "BPZNMXSGBIZj",
        "outputId": "60fd9c4a-3f23-41d8-df66-318d1a60151a"
      },
      "execution_count": 57,
      "outputs": [
        {
          "output_type": "execute_result",
          "data": {
            "text/plain": [
              "[3.14, 'cat', 11, 'cat', True, 99]"
            ]
          },
          "metadata": {},
          "execution_count": 57
        }
      ]
    },
    {
      "cell_type": "markdown",
      "source": [
        "# 8. How does bacon.remove('cat') change the look of the list in bacon?"
      ],
      "metadata": {
        "id": "AiexfaReBbLL"
      }
    },
    {
      "cell_type": "code",
      "source": [
        "bacon.remove('cat')      #it will remove only the first instance\n",
        " \n",
        "bacon\n"
      ],
      "metadata": {
        "colab": {
          "base_uri": "https://localhost:8080/"
        },
        "id": "17yinXEOBYLT",
        "outputId": "6859da7a-d589-4e65-e099-b2f74a0e9e52"
      },
      "execution_count": 58,
      "outputs": [
        {
          "output_type": "execute_result",
          "data": {
            "text/plain": [
              "[3.14, 11, 'cat', True, 99]"
            ]
          },
          "metadata": {},
          "execution_count": 58
        }
      ]
    },
    {
      "cell_type": "markdown",
      "source": [
        "#9. What are the list concatenation and list replication operators?"
      ],
      "metadata": {
        "id": "sLuEujdJBsVy"
      }
    },
    {
      "cell_type": "code",
      "source": [
        "L1=[1,2,4,6,7]\n",
        "L2=[54,5,7,9,4,6]\n",
        "\n",
        "#List concatenation\n",
        "print('List concatenation',L1+L2)\n",
        "\n",
        "#List replication\n",
        "print('List replication',L1*3)\n"
      ],
      "metadata": {
        "colab": {
          "base_uri": "https://localhost:8080/"
        },
        "id": "M7lVGsmlBuDK",
        "outputId": "433d63e1-3ae5-4e9e-de8b-b2728546f61b"
      },
      "execution_count": 63,
      "outputs": [
        {
          "output_type": "stream",
          "name": "stdout",
          "text": [
            "List concatenation [1, 2, 4, 6, 7, 54, 5, 7, 9, 4, 6]\n",
            "List replication [1, 2, 4, 6, 7, 1, 2, 4, 6, 7, 1, 2, 4, 6, 7]\n"
          ]
        }
      ]
    },
    {
      "cell_type": "markdown",
      "source": [
        "#10. What is difference between the list methods append() and insert()?"
      ],
      "metadata": {
        "id": "7F9GWneDFQ2q"
      }
    },
    {
      "cell_type": "code",
      "source": [
        "l3=[1,2,4,6,8,9,0]\n",
        "\n",
        "#Append always adds elements to the last\n",
        "\n",
        "l3.append(54)\n",
        "print(l3)"
      ],
      "metadata": {
        "colab": {
          "base_uri": "https://localhost:8080/"
        },
        "id": "_QYB3auyEsqr",
        "outputId": "08224393-527a-4cb1-c59e-c68cbe8eb3ca"
      },
      "execution_count": 65,
      "outputs": [
        {
          "output_type": "stream",
          "name": "stdout",
          "text": [
            "[1, 2, 4, 6, 8, 9, 0, 54]\n"
          ]
        }
      ]
    },
    {
      "cell_type": "code",
      "source": [
        "# insert adds elements to the given index\n",
        "\n",
        "l3.insert(4,'akshay')\n",
        "print(l3)"
      ],
      "metadata": {
        "colab": {
          "base_uri": "https://localhost:8080/"
        },
        "id": "COsBQnjjFX_r",
        "outputId": "15e97a8c-30f1-4084-b3e1-102874784019"
      },
      "execution_count": 66,
      "outputs": [
        {
          "output_type": "stream",
          "name": "stdout",
          "text": [
            "[1, 2, 4, 6, 'akshay', 8, 9, 0, 54]\n"
          ]
        }
      ]
    },
    {
      "cell_type": "markdown",
      "source": [
        "# 11. What are the two methods for removing items from a list?"
      ],
      "metadata": {
        "id": "0wwqjJRXFiGa"
      }
    },
    {
      "cell_type": "code",
      "source": [
        "l3=[1,3,5,8,2,4,7,9]\n",
        "\n",
        "l3.remove(5) #removes 5 from the list\n",
        "print(l3)"
      ],
      "metadata": {
        "colab": {
          "base_uri": "https://localhost:8080/"
        },
        "id": "rJQQrN3FFnBC",
        "outputId": "ea70a18e-f9f4-4433-ff12-b151b5faaa38"
      },
      "execution_count": 72,
      "outputs": [
        {
          "output_type": "stream",
          "name": "stdout",
          "text": [
            "[1, 3, 8, 2, 4, 7, 9]\n"
          ]
        }
      ]
    },
    {
      "cell_type": "code",
      "source": [
        "l3.pop(3) #remove element in 3rd index\n",
        "\n",
        "print(l3)"
      ],
      "metadata": {
        "colab": {
          "base_uri": "https://localhost:8080/"
        },
        "id": "D_E00ly0FrO6",
        "outputId": "c0474f04-2bd4-446e-9fbb-7a3eae92cf0d"
      },
      "execution_count": 73,
      "outputs": [
        {
          "output_type": "stream",
          "name": "stdout",
          "text": [
            "[1, 3, 8, 4, 7, 9]\n"
          ]
        }
      ]
    },
    {
      "cell_type": "markdown",
      "source": [
        "# 12. Describe how list values and string values are identical."
      ],
      "metadata": {
        "id": "Rng-aQfGGDSp"
      }
    },
    {
      "cell_type": "markdown",
      "source": [
        "List can have data called elements and can be accessed by indexing, same thing with string.\n",
        "But list can have different datatypes"
      ],
      "metadata": {
        "id": "WDk9_Ku5Hzij"
      }
    },
    {
      "cell_type": "markdown",
      "source": [
        "# 13. What's the difference between tuples and lists?"
      ],
      "metadata": {
        "id": "yELcxvS4IHKK"
      }
    },
    {
      "cell_type": "markdown",
      "source": [
        "Tupes are immutable, that means elements in the tuple cannot be changed\n",
        "\n",
        "Lists are mutable, that means elements in the list can be changed"
      ],
      "metadata": {
        "id": "Ni4u6n78IK1r"
      }
    },
    {
      "cell_type": "markdown",
      "source": [
        "# 14.How do you type a tuple value that only contains the integer 42?"
      ],
      "metadata": {
        "id": "JkAVrVkdIcBC"
      }
    },
    {
      "cell_type": "code",
      "source": [
        "a= (42,)\n",
        "\n",
        "\n",
        "type(a)"
      ],
      "metadata": {
        "colab": {
          "base_uri": "https://localhost:8080/"
        },
        "id": "1X7X-ea5F7rR",
        "outputId": "03a5c421-55ce-408f-869f-a954b1232455"
      },
      "execution_count": 93,
      "outputs": [
        {
          "output_type": "execute_result",
          "data": {
            "text/plain": [
              "tuple"
            ]
          },
          "metadata": {},
          "execution_count": 93
        }
      ]
    },
    {
      "cell_type": "markdown",
      "source": [
        "# 15. How do you get a list values tuple form? How do you get a tuple values list form?"
      ],
      "metadata": {
        "id": "saQR-J3eJlmk"
      }
    },
    {
      "cell_type": "code",
      "source": [
        "L1=[1,2,4,5,7,8,9]\n",
        "\n",
        "t1=(4,23,7,9,4,6,8)\n",
        "\n",
        "print('Original datatype of L1',type(L1))\n",
        "print('Original datatype of t1',type(t1))\n",
        "\n",
        "\n",
        "L1=tuple(L1)\n",
        "t1=list(t1)\n",
        "\n",
        "\n",
        "print('datatype of L1 after convserion', type(L1))\n",
        "print('datatype of t1 after convserion',type(t1))\n",
        "\n",
        "\n"
      ],
      "metadata": {
        "colab": {
          "base_uri": "https://localhost:8080/"
        },
        "id": "OrK_7_qXJDP1",
        "outputId": "df0017e7-35ce-4017-97af-73b1eb6dddb1"
      },
      "execution_count": 96,
      "outputs": [
        {
          "output_type": "stream",
          "name": "stdout",
          "text": [
            "Original datatype of L1 <class 'list'>\n",
            "Original datatype of t1 <class 'tuple'>\n",
            "datatype of L1 after convserion <class 'tuple'>\n",
            "datatype of t1 after convserion <class 'list'>\n"
          ]
        }
      ]
    },
    {
      "cell_type": "markdown",
      "source": [
        "#16. Variables that 'contain' list values are not necessarily lists themselves. Instead, what do they contain?"
      ],
      "metadata": {
        "id": "7JSeDd2lMFnb"
      }
    },
    {
      "cell_type": "code",
      "source": [
        "new=1\n",
        "new1='akshay'\n",
        "\n",
        "'''Although these values (new, new1) can be included in the list, now they are assigned \n",
        "to individivual variables and in this example they contain integer and string.\n",
        "Variables will contain references to list values rather than list values themselves. \n",
        "But for strings and integer values, variables simply contain the string or integer value.'''"
      ],
      "metadata": {
        "id": "jaFuyILNMMna"
      },
      "execution_count": null,
      "outputs": []
    },
    {
      "cell_type": "markdown",
      "source": [
        "# 17. How do you distinguish between copy.copy() and copy.deepcopy()?"
      ],
      "metadata": {
        "id": "HigpGGvvNFea"
      }
    },
    {
      "cell_type": "markdown",
      "source": [
        "copy() create reference to original object. If you change copied object - you change the original object. deepcopy() creates new object and does real copying of original object to new one. Changing new deepcopied object doesn't affect original object."
      ],
      "metadata": {
        "id": "1ETSXZ1tNM8q"
      }
    },
    {
      "cell_type": "code",
      "source": [
        "l1=[1,2,[4,5,7]]\n",
        "\n",
        "import copy\n",
        "\n",
        "l2=copy.copy(l1)\n",
        "\n",
        "print(l2)"
      ],
      "metadata": {
        "colab": {
          "base_uri": "https://localhost:8080/"
        },
        "id": "TH4u5dY9MlG2",
        "outputId": "16ac6b04-1160-4370-e2d3-8af0217d1b41"
      },
      "execution_count": 112,
      "outputs": [
        {
          "output_type": "stream",
          "name": "stdout",
          "text": [
            "[1, 2, [4, 5, 7]]\n"
          ]
        }
      ]
    },
    {
      "cell_type": "code",
      "source": [
        "l2[2][1]='akshay'\n",
        "\n",
        "print(l1)\n",
        "print(l2)    #since its shallow copy(), it will create a duplicate list and changes made in the duplicate list will affect the original list"
      ],
      "metadata": {
        "colab": {
          "base_uri": "https://localhost:8080/"
        },
        "id": "u5h-lOLINUTz",
        "outputId": "d9debcc6-9046-45e7-f3c9-a6a8159f2158"
      },
      "execution_count": 113,
      "outputs": [
        {
          "output_type": "stream",
          "name": "stdout",
          "text": [
            "[1, 2, [4, 'akshay', 7]]\n",
            "[1, 2, [4, 'akshay', 7]]\n"
          ]
        }
      ]
    },
    {
      "cell_type": "code",
      "source": [
        "#deep copy\n",
        "\n",
        "l1=[1,2,[4,5,7]]\n",
        "\n",
        "l2 =copy.deepcopy(l1)\n",
        "\n",
        "print(l2)\n"
      ],
      "metadata": {
        "colab": {
          "base_uri": "https://localhost:8080/"
        },
        "id": "TEIIW-tdNZF5",
        "outputId": "d47ccea8-1555-41e0-e1a5-f53a4e7fb222"
      },
      "execution_count": 114,
      "outputs": [
        {
          "output_type": "stream",
          "name": "stdout",
          "text": [
            "[1, 2, [4, 5, 7]]\n"
          ]
        }
      ]
    },
    {
      "cell_type": "code",
      "source": [
        "l2[2][1]='akshay'\n",
        "\n",
        "print(l1)\n",
        "print(l2)  #since its deep copy(), it will create a duplicate list and changes made in the duplicate list will not affect the original list\n",
        "\n"
      ],
      "metadata": {
        "colab": {
          "base_uri": "https://localhost:8080/"
        },
        "id": "G8oUcCN5O9M6",
        "outputId": "4fd1ebd0-d5fb-46dd-d8c8-9cbcd53be675"
      },
      "execution_count": 115,
      "outputs": [
        {
          "output_type": "stream",
          "name": "stdout",
          "text": [
            "[1, 2, [4, 5, 7]]\n",
            "[1, 2, [4, 'akshay', 7]]\n"
          ]
        }
      ]
    }
  ]
}