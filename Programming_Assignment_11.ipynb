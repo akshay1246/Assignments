{
  "nbformat": 4,
  "nbformat_minor": 0,
  "metadata": {
    "colab": {
      "provenance": []
    },
    "kernelspec": {
      "name": "python3",
      "display_name": "Python 3"
    },
    "language_info": {
      "name": "python"
    }
  },
  "cells": [
    {
      "cell_type": "markdown",
      "source": [
        "# 1. Write a Python program to find words which are greater than given length k?"
      ],
      "metadata": {
        "id": "IBnfLp0TE1ZI"
      }
    },
    {
      "cell_type": "code",
      "source": [
        "l1=[]\n",
        "def new(a):\n",
        "  k=4\n",
        "  l2=a.split()\n",
        "  for i in l2:\n",
        "    if len(i)>k:  \n",
        "      l1.append(i)\n",
        "  return l1\n"
      ],
      "metadata": {
        "id": "UmorRK0pE2dg"
      },
      "execution_count": 26,
      "outputs": []
    },
    {
      "cell_type": "code",
      "source": [
        "a='hello how are you, i am doing fine let us see you tomorrow'"
      ],
      "metadata": {
        "id": "gxIXxYfDFK5_"
      },
      "execution_count": 27,
      "outputs": []
    },
    {
      "cell_type": "code",
      "source": [
        "new(a)"
      ],
      "metadata": {
        "colab": {
          "base_uri": "https://localhost:8080/"
        },
        "id": "Zhw3RAjCFUvv",
        "outputId": "c4c0c04b-d5bd-490e-ade2-008b931df550"
      },
      "execution_count": 28,
      "outputs": [
        {
          "output_type": "execute_result",
          "data": {
            "text/plain": [
              "['hello', 'doing', 'tomorrow']"
            ]
          },
          "metadata": {},
          "execution_count": 28
        }
      ]
    },
    {
      "cell_type": "markdown",
      "source": [
        "# 2. Write a Python program for removing i-th character from a string?"
      ],
      "metadata": {
        "id": "4esFBTM-Hc_S"
      }
    },
    {
      "cell_type": "code",
      "source": [
        "def string(a):\n",
        "  for i in range(len(a)):\n",
        "    if i==5:\n",
        "      a=a.replace(a[i],\"\")\n",
        "  return a"
      ],
      "metadata": {
        "id": "FVllOqCDFVRv"
      },
      "execution_count": 99,
      "outputs": []
    },
    {
      "cell_type": "code",
      "source": [
        "text= 'welcome to bengaluru'"
      ],
      "metadata": {
        "id": "h_p2TuozHuXx"
      },
      "execution_count": 100,
      "outputs": []
    },
    {
      "cell_type": "code",
      "source": [
        "string(text) #5th element is removed"
      ],
      "metadata": {
        "colab": {
          "base_uri": "https://localhost:8080/",
          "height": 36
        },
        "id": "gH10AwaiJuro",
        "outputId": "53005700-972d-4dfa-b71b-cc505f8b47b3"
      },
      "execution_count": 101,
      "outputs": [
        {
          "output_type": "execute_result",
          "data": {
            "text/plain": [
              "'welcoe to bengaluru'"
            ],
            "application/vnd.google.colaboratory.intrinsic+json": {
              "type": "string"
            }
          },
          "metadata": {},
          "execution_count": 101
        }
      ]
    },
    {
      "cell_type": "markdown",
      "source": [
        "# 3. Write a Python program to split and join a string?"
      ],
      "metadata": {
        "id": "PMvWEUnvalrC"
      }
    },
    {
      "cell_type": "code",
      "source": [
        "def split(a):\n",
        "  return a.split('.')"
      ],
      "metadata": {
        "id": "OLVGUydoamGc"
      },
      "execution_count": 102,
      "outputs": []
    },
    {
      "cell_type": "code",
      "source": [
        "text= 'Hello. welcome to bengaluru. How many i help you'"
      ],
      "metadata": {
        "id": "fHtr6RgwbBm6"
      },
      "execution_count": 108,
      "outputs": []
    },
    {
      "cell_type": "code",
      "source": [
        "split(text)"
      ],
      "metadata": {
        "colab": {
          "base_uri": "https://localhost:8080/"
        },
        "id": "xMYEeWIfbGKq",
        "outputId": "4e7e924f-a66e-4a21-c52f-79a74316dfd4"
      },
      "execution_count": 104,
      "outputs": [
        {
          "output_type": "execute_result",
          "data": {
            "text/plain": [
              "['Hello', ' welcome to bengaluru', ' How many i help you']"
            ]
          },
          "metadata": {},
          "execution_count": 104
        }
      ]
    },
    {
      "cell_type": "code",
      "source": [
        "def join(a):\n",
        "  return '-'.join(a)"
      ],
      "metadata": {
        "id": "6gOBWeiabIbM"
      },
      "execution_count": 112,
      "outputs": []
    },
    {
      "cell_type": "code",
      "source": [
        "text= 'Hello welcome to bengaluru How many i help you'"
      ],
      "metadata": {
        "id": "CMqse-iIbT-5"
      },
      "execution_count": 113,
      "outputs": []
    },
    {
      "cell_type": "code",
      "source": [
        "join(text)"
      ],
      "metadata": {
        "colab": {
          "base_uri": "https://localhost:8080/",
          "height": 36
        },
        "id": "C_S2xFRmbUlq",
        "outputId": "0416f2b5-ecc4-483c-c5c2-ccc96aaffa07"
      },
      "execution_count": 114,
      "outputs": [
        {
          "output_type": "execute_result",
          "data": {
            "text/plain": [
              "'H-e-l-l-o- -w-e-l-c-o-m-e- -t-o- -b-e-n-g-a-l-u-r-u- -H-o-w- -m-a-n-y- -i- -h-e-l-p- -y-o-u'"
            ],
            "application/vnd.google.colaboratory.intrinsic+json": {
              "type": "string"
            }
          },
          "metadata": {},
          "execution_count": 114
        }
      ]
    },
    {
      "cell_type": "markdown",
      "source": [
        "# 4. Write a Python to check if a given string is binary string or not?"
      ],
      "metadata": {
        "id": "BWWMILqEc1lz"
      }
    },
    {
      "cell_type": "code",
      "source": [
        "def check(string) :\n",
        "    b = set(string)\n",
        "    s = {'0', '1'}\n",
        "    if s == b or b == {'0'} or b == {'1'}:\n",
        "        print(\"Binary String\")\n",
        "    else :\n",
        "        print(\"Non Binary String\")\n",
        "  \n",
        "s1= \"00110101\"\n",
        "\n",
        "check(s1)\n",
        "\n",
        "s2 = \"1010100200111\"\n",
        "check(s2)"
      ],
      "metadata": {
        "colab": {
          "base_uri": "https://localhost:8080/"
        },
        "id": "jJHCR86xc2Vq",
        "outputId": "214c0f2d-e1c3-4acf-f51e-021adbe724fd"
      },
      "execution_count": 121,
      "outputs": [
        {
          "output_type": "stream",
          "name": "stdout",
          "text": [
            "Binary String\n",
            "Non Binary String\n"
          ]
        }
      ]
    },
    {
      "cell_type": "markdown",
      "source": [
        "# 5. Write a Python program to find uncommon words from two Strings?"
      ],
      "metadata": {
        "id": "lRP7aCTNdbgb"
      }
    },
    {
      "cell_type": "code",
      "source": [
        "def UncommonWords(A, B):\n",
        "\n",
        "\t# count will contain all the word counts\n",
        "\tcount = {}\n",
        "\t\n",
        "\t# insert words of string A to hash\n",
        "\tfor word in A.split():\n",
        "\t\tcount[word] = count.get(word, 0) + 1\n",
        "\t\n",
        "\t# insert words of string B to hash\n",
        "\tfor word in B.split():\n",
        "\t\tcount[word] = count.get(word, 0) + 1\n",
        "\n",
        "\t# return required list of words\n",
        "\treturn [word for word in count if count[word] == 1]\n",
        "\n",
        "# Driver Code\n",
        "A = \"Welcome to Bengaluru\"\n",
        "B = \"Welcome to Mysuru\"\n",
        "\n",
        "# Print required answer\n",
        "print(UncommonWords(A, B))\n",
        "\n",
        "\n",
        "\n"
      ],
      "metadata": {
        "colab": {
          "base_uri": "https://localhost:8080/"
        },
        "id": "5Ub76te1eI2B",
        "outputId": "45dbbdb8-75ad-4b65-8541-3fe5d4ccb039"
      },
      "execution_count": 127,
      "outputs": [
        {
          "output_type": "stream",
          "name": "stdout",
          "text": [
            "['Bengaluru', 'Mysuru']\n"
          ]
        }
      ]
    },
    {
      "cell_type": "markdown",
      "source": [
        "# 6. Write a Python to find all duplicate characters in string?"
      ],
      "metadata": {
        "id": "pyqFzqBWgu0J"
      }
    },
    {
      "cell_type": "code",
      "source": [
        "from collections import Counter\n",
        "\n",
        "def find_duplicates(s):\n",
        "    elements = Counter(s)\n",
        "    return [k for k,v in elements.items() if v>1]\n",
        "\n",
        "print(find_duplicates(\"Hello\"))\n",
        "\n",
        "print(find_duplicates(\"Hippopotamus\"))\n",
        "\n",
        "      "
      ],
      "metadata": {
        "colab": {
          "base_uri": "https://localhost:8080/"
        },
        "id": "4r37Z7e_gvWK",
        "outputId": "e5cfbef5-4ef6-4a85-aa15-c6fbfd6e83f2"
      },
      "execution_count": 157,
      "outputs": [
        {
          "output_type": "stream",
          "name": "stdout",
          "text": [
            "['l']\n",
            "['p', 'o']\n"
          ]
        }
      ]
    },
    {
      "cell_type": "markdown",
      "source": [
        "# 7. Write a Python Program to check if a string contains any special character?"
      ],
      "metadata": {
        "id": "JPPqossWEzo5"
      }
    },
    {
      "cell_type": "code",
      "source": [
        "import re\n",
        "\n",
        "\n",
        "string = input('Enter any string: ')\n",
        " \n",
        "\n",
        "special_char = re.compile('[@_!#$%^&*()<>?/\\|}{~:]')\n",
        "\n",
        "\n",
        "if(special_char.search(string) == None):\n",
        "    print('String does not contain any special characters.')\n",
        "else:\n",
        "    print('The string contains special characters.')"
      ],
      "metadata": {
        "colab": {
          "base_uri": "https://localhost:8080/"
        },
        "id": "XhoRN3s9l5J8",
        "outputId": "343463f2-7d53-4ff8-e1ad-41cad6e94a08"
      },
      "execution_count": 182,
      "outputs": [
        {
          "output_type": "stream",
          "name": "stdout",
          "text": [
            "Enter any string: hello!, how are you?\n",
            "The string contains special characters.\n"
          ]
        }
      ]
    }
  ]
}