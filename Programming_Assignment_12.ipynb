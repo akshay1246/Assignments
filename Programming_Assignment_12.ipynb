{
  "nbformat": 4,
  "nbformat_minor": 0,
  "metadata": {
    "colab": {
      "provenance": []
    },
    "kernelspec": {
      "name": "python3",
      "display_name": "Python 3"
    },
    "language_info": {
      "name": "python"
    }
  },
  "cells": [
    {
      "cell_type": "markdown",
      "source": [
        "# 1. Write a Python program to Extract Unique values dictionary values?"
      ],
      "metadata": {
        "id": "jdfKryc6Szbm"
      }
    },
    {
      "cell_type": "code",
      "source": [
        "l1=[]\n",
        "def uniq(a):\n",
        "  for i in a:\n",
        "    l1.append(a[i])\n",
        "  print('The unique values in the list are', set(l1))"
      ],
      "metadata": {
        "id": "pAb4wsZgYNdK"
      },
      "execution_count": 1,
      "outputs": []
    },
    {
      "cell_type": "code",
      "source": [
        "dic={'a':100,'b':200, 'c':400,'g':100}"
      ],
      "metadata": {
        "id": "zoGRRbvGYYBJ"
      },
      "execution_count": 2,
      "outputs": []
    },
    {
      "cell_type": "code",
      "source": [
        "uniq(dic)"
      ],
      "metadata": {
        "colab": {
          "base_uri": "https://localhost:8080/"
        },
        "id": "_KVBaPhhYg5z",
        "outputId": "01e5e586-f97b-4154-dca1-b0b224ccd343"
      },
      "execution_count": 3,
      "outputs": [
        {
          "output_type": "stream",
          "name": "stdout",
          "text": [
            "The unique values in the list are {200, 100, 400}\n"
          ]
        }
      ]
    },
    {
      "cell_type": "markdown",
      "source": [
        "# 2. Write a Python program to find the sum of all items in a dictionary?"
      ],
      "metadata": {
        "id": "rrOWn27rXRmT"
      }
    },
    {
      "cell_type": "code",
      "source": [
        "def tot(a):\n",
        "  l1=[]\n",
        "  for i in a:\n",
        "    l1.append(a[i])\n",
        "  print('The sum of values in the list are', sum(l1))"
      ],
      "metadata": {
        "id": "BHnq9pyGWlsi"
      },
      "execution_count": 4,
      "outputs": []
    },
    {
      "cell_type": "code",
      "source": [
        "dic={'a':100,'b':200, 'c':400,'g':100}"
      ],
      "metadata": {
        "id": "DxaTLKNeX8Cs"
      },
      "execution_count": 5,
      "outputs": []
    },
    {
      "cell_type": "code",
      "source": [
        "tot(dic)"
      ],
      "metadata": {
        "colab": {
          "base_uri": "https://localhost:8080/"
        },
        "id": "j5UeNR5eZL97",
        "outputId": "d625d319-845c-4931-fda6-a6829f9d92b7"
      },
      "execution_count": 6,
      "outputs": [
        {
          "output_type": "stream",
          "name": "stdout",
          "text": [
            "The sum of values in the list are 800\n"
          ]
        }
      ]
    },
    {
      "cell_type": "markdown",
      "source": [
        "# 3. Write a Python program to Merging two Dictionaries?"
      ],
      "metadata": {
        "id": "zIwiAPOPa0v7"
      }
    },
    {
      "cell_type": "code",
      "source": [
        "dict_1 = {1: 'a', 2: 'b'}\n",
        "dict_2 = {2: 'c', 4: 'd'}\n",
        "\n",
        "print({**dict_1, **dict_2})"
      ],
      "metadata": {
        "colab": {
          "base_uri": "https://localhost:8080/"
        },
        "id": "yTuh_0oPa2dL",
        "outputId": "261b7f1c-8444-4749-867d-a301650ad1ed"
      },
      "execution_count": 7,
      "outputs": [
        {
          "output_type": "stream",
          "name": "stdout",
          "text": [
            "{1: 'a', 2: 'c', 4: 'd'}\n"
          ]
        }
      ]
    },
    {
      "cell_type": "markdown",
      "source": [
        "# 4. Write a Python program to convert key-values list to flat dictionary?"
      ],
      "metadata": {
        "id": "Y-NH1aZbbZ7L"
      }
    },
    {
      "cell_type": "code",
      "source": [
        "def conv(a):\n",
        "  l1=[]\n",
        "  for i in a:\n",
        "    l1.append(i)\n",
        "    l1.append(a[i])\n",
        "  print (l1)"
      ],
      "metadata": {
        "id": "KsTq0wqhbaqD"
      },
      "execution_count": 18,
      "outputs": []
    },
    {
      "cell_type": "code",
      "source": [
        "dic={'a':100,'b':200, 'c':400,'g':100}"
      ],
      "metadata": {
        "id": "P9Qgy4IWdFYk"
      },
      "execution_count": 19,
      "outputs": []
    },
    {
      "cell_type": "code",
      "source": [
        "conv(dic)"
      ],
      "metadata": {
        "colab": {
          "base_uri": "https://localhost:8080/"
        },
        "id": "k96AqO2udF81",
        "outputId": "b03ed82c-b1ee-44c3-f0fb-4eeb217f0269"
      },
      "execution_count": 20,
      "outputs": [
        {
          "output_type": "stream",
          "name": "stdout",
          "text": [
            "['a', 100, 'b', 200, 'c', 400, 'g', 100]\n"
          ]
        }
      ]
    },
    {
      "cell_type": "markdown",
      "source": [
        "# 5. Write a Python program to insertion at the beginning in OrderedDict?"
      ],
      "metadata": {
        "id": "oaUtFoFDdpEF"
      }
    },
    {
      "cell_type": "code",
      "source": [
        "from collections import OrderedDict  \n",
        "dic1 = OrderedDict([('A', '100'), ('B', '200'), ('C', '300')])\n",
        "\n",
        "dic1.update({\"D\": '400'})\n",
        "print(dic1)\n",
        "\n",
        "dic1.move_to_end(\"D\", last=False)\n",
        "\n",
        "print (\"Resultant Dictionary :\")\n",
        "print(dic1)"
      ],
      "metadata": {
        "colab": {
          "base_uri": "https://localhost:8080/"
        },
        "id": "oM8oMESLdtj0",
        "outputId": "a30bdea4-9367-4cd0-a85b-abda7be5809e"
      },
      "execution_count": 26,
      "outputs": [
        {
          "output_type": "stream",
          "name": "stdout",
          "text": [
            "OrderedDict([('A', '100'), ('B', '200'), ('C', '300'), ('D', '400')])\n",
            "Resultant Dictionary :\n",
            "OrderedDict([('D', '400'), ('A', '100'), ('B', '200'), ('C', '300')])\n"
          ]
        }
      ]
    },
    {
      "cell_type": "markdown",
      "source": [
        "# 6. Write a Python program to check order of character in string using OrderedDict()?"
      ],
      "metadata": {
        "id": "lBkK7G9mefps"
      }
    },
    {
      "cell_type": "code",
      "source": [
        "from collections import OrderedDict\n",
        "def check_order(my_input, my_pattern):\n",
        "   my_dict = OrderedDict.fromkeys(my_input)\n",
        "   pattern_length = 0\n",
        "   for key,value in my_dict.items():\n",
        "      if (key == my_pattern[pattern_length]):\n",
        "         pattern_length = pattern_length + 1\n",
        "\n",
        "      if (pattern_length == (len(my_pattern))):\n",
        "         return 'The order of pattern is correct'\n",
        "\n",
        "   return 'The order of pattern is incorrect'\n",
        "\n",
        "my_input = 'Hi Mark'\n",
        "input_pattern = 'Ma'\n",
        "print(\"The string is \")\n",
        "print(my_input)\n",
        "print(\"The input pattern is \")\n",
        "print(input_pattern)\n",
        "print(check_order(my_input,input_pattern))"
      ],
      "metadata": {
        "colab": {
          "base_uri": "https://localhost:8080/"
        },
        "id": "uho_RVlxegkE",
        "outputId": "badc1ba4-a082-4f94-d043-eafd7f8b50b8"
      },
      "execution_count": 27,
      "outputs": [
        {
          "output_type": "stream",
          "name": "stdout",
          "text": [
            "The string is \n",
            "Hi Mark\n",
            "The input pattern is \n",
            "Ma\n",
            "The order of pattern is correct\n"
          ]
        }
      ]
    },
    {
      "cell_type": "markdown",
      "source": [
        "\n",
        "# 7. Write a Python program to sort Python Dictionaries by Key or Value?"
      ],
      "metadata": {
        "id": "Hi5pBySiStpM"
      }
    },
    {
      "cell_type": "code",
      "source": [
        "key_value={}\n",
        "\n",
        "key_value[5] = 10      \n",
        "key_value[3] = 8\n",
        "key_value[6] = 77\n",
        "key_value[4] = 23\n",
        "key_value[2] = 9     \n",
        "key_value[1] = 43\n",
        " \n",
        "\n",
        "\n",
        "for i in sorted(key_value) :\n",
        "    print ((i, key_value[i]))"
      ],
      "metadata": {
        "colab": {
          "base_uri": "https://localhost:8080/"
        },
        "id": "OhmKrPVAfDml",
        "outputId": "12541659-5c15-46d9-93e0-e538b74c840a"
      },
      "execution_count": 30,
      "outputs": [
        {
          "output_type": "stream",
          "name": "stdout",
          "text": [
            "(1, 43)\n",
            "(2, 9)\n",
            "(3, 8)\n",
            "(4, 23)\n",
            "(5, 10)\n",
            "(6, 77)\n"
          ]
        }
      ]
    }
  ]
}