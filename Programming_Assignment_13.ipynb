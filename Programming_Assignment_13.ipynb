{
  "nbformat": 4,
  "nbformat_minor": 0,
  "metadata": {
    "colab": {
      "provenance": []
    },
    "kernelspec": {
      "name": "python3",
      "display_name": "Python 3"
    },
    "language_info": {
      "name": "python"
    }
  },
  "cells": [
    {
      "cell_type": "markdown",
      "source": [
        "Write a program that calculates and prints the value according to the given formula:\n",
        "\n",
        "Q = Square root of [(2 * C * D)/H]\n",
        "\n",
        "Following are the fixed values of C and H:\n",
        "\n",
        "C is 50. H is 30.\n",
        "\n",
        "D is the variable whose values should be input to your program in a comma-separated sequence."
      ],
      "metadata": {
        "id": "hBIPe4CdJgna"
      }
    },
    {
      "cell_type": "code",
      "source": [
        "import math\n",
        "\n",
        "numbers = input(\"Provide D: \")\n",
        "numbers = numbers.split(',')\n",
        "\n",
        "result_list = []\n",
        "for D in numbers:\n",
        "    Q = round(math.sqrt(2 * 50 * int(D) / 30))\n",
        "    result_list.append(Q)\n",
        "\n",
        "print(result_list)"
      ],
      "metadata": {
        "colab": {
          "base_uri": "https://localhost:8080/"
        },
        "id": "Ak9ymkZ8L72R",
        "outputId": "d620dcab-2fde-4772-f35d-1adff34cf735"
      },
      "execution_count": 44,
      "outputs": [
        {
          "output_type": "stream",
          "name": "stdout",
          "text": [
            "Provide D: 20,30,40\n",
            "[8, 10, 12]\n"
          ]
        }
      ]
    },
    {
      "cell_type": "markdown",
      "source": [
        "Write a program which takes 2 digits, X,Y as input and generates a 2-dimensional array. \n",
        "\n",
        "The element value in the i-th row and j-th column of the array should be i*j.\n",
        "\n",
        "Note: i=0,1.., X-1; j=0,1,¡Y-1."
      ],
      "metadata": {
        "id": "Ffiuft_GOH9Z"
      }
    },
    {
      "cell_type": "code",
      "source": [
        "m=int(input(\"ENTER THE ROWS : \"))\n",
        "\n",
        "n=int(input(\"ENTER THE COLUMNS : \"))\n",
        "\n",
        "for i in range(1,m+1):\n",
        "\n",
        "     for j in range(1,n+1):\n",
        "\n",
        "         print(i*j, end=' ')\n",
        "      \n",
        "     print(\"\\n\")\n",
        "\n"
      ],
      "metadata": {
        "colab": {
          "base_uri": "https://localhost:8080/"
        },
        "id": "m_SM9gwUKLXh",
        "outputId": "3e414b56-ed4f-49d4-d37e-ba80aa09793f"
      },
      "execution_count": 62,
      "outputs": [
        {
          "output_type": "stream",
          "name": "stdout",
          "text": [
            "ENTER THE ROWS : 4\n",
            "ENTER THE COLUMNS : 5\n",
            "1 2 3 4 5 \n",
            "\n",
            "2 4 6 8 10 \n",
            "\n",
            "3 6 9 12 15 \n",
            "\n",
            "4 8 12 16 20 \n",
            "\n"
          ]
        }
      ]
    },
    {
      "cell_type": "markdown",
      "source": [
        "Write a program that accepts a comma separated sequence of words as input and prints the\n",
        "words in a comma-separated sequence after sorting them alphabetically."
      ],
      "metadata": {
        "id": "oaS-9Sa7P_f5"
      }
    },
    {
      "cell_type": "code",
      "source": [
        "text=str(input('Enter a sentence:'))\n",
        "text=text.split(',')\n",
        "text.sort()\n",
        "\n",
        "l=[]\n",
        "for i in text:\n",
        "  l.append(i)\n",
        "print(l)"
      ],
      "metadata": {
        "colab": {
          "base_uri": "https://localhost:8080/"
        },
        "id": "R5R0kng8Pk5l",
        "outputId": "36ab75da-2821-4a73-f1db-6a2792c7a0e7"
      },
      "execution_count": 76,
      "outputs": [
        {
          "output_type": "stream",
          "name": "stdout",
          "text": [
            "Enter a sentence:cat, cow, dog, zebra, ant\n",
            "[' ant', ' cow', ' dog', ' zebra', 'cat']\n"
          ]
        }
      ]
    },
    {
      "cell_type": "markdown",
      "source": [
        "Write a program that accepts a sequence of whitespace separated words as input and prints\n",
        "the words after removing all duplicate words and sorting them alphanumerically."
      ],
      "metadata": {
        "id": "rc4_jatKR2zn"
      }
    },
    {
      "cell_type": "code",
      "source": [
        "text=str(input('Enter a sentence:'))\n",
        "text=text.split(' ')\n",
        "text.sort()\n",
        "text=set(text)\n",
        "\n",
        "l=[]\n",
        "for i in text:\n",
        "  l.append(i)\n",
        "print(l)"
      ],
      "metadata": {
        "colab": {
          "base_uri": "https://localhost:8080/"
        },
        "id": "4m6yikgwR3SG",
        "outputId": "39cec7eb-6074-44e2-d422-09caf1033096"
      },
      "execution_count": 79,
      "outputs": [
        {
          "output_type": "stream",
          "name": "stdout",
          "text": [
            "Enter a sentence:hello hello what are you doing doing\n",
            "['you', 'what', 'are', 'hello', 'doing']\n"
          ]
        }
      ]
    },
    {
      "cell_type": "markdown",
      "source": [
        "Write a program that accepts a sentence and calculate the number of letters and digits."
      ],
      "metadata": {
        "id": "uaYREH7PSTbW"
      }
    },
    {
      "cell_type": "code",
      "source": [
        "s = input(\"Input a string: \")\n",
        "d=l=0\n",
        "for c in s:\n",
        "    if c.isdigit():\n",
        "        d=d+1\n",
        "    elif c.isalpha():\n",
        "        l=l+1\n",
        "    else:\n",
        "        pass\n",
        "print(\"Letters\", l)\n",
        "print(\"Digits\", d)\n",
        "    "
      ],
      "metadata": {
        "colab": {
          "base_uri": "https://localhost:8080/"
        },
        "id": "kEg87fn0QOM4",
        "outputId": "215519ec-1cdc-4b35-d4d4-9711f8a757d7"
      },
      "execution_count": 95,
      "outputs": [
        {
          "output_type": "stream",
          "name": "stdout",
          "text": [
            "Input a string: my salary is 20 lakh 30 thousand 400\n",
            "Letters 22\n",
            "Digits 7\n"
          ]
        }
      ]
    },
    {
      "cell_type": "markdown",
      "source": [
        "A website requires the users to input username and password to register. Write a program to\n",
        "check the validity of password input by users.\n",
        "\n",
        "Following are the criteria for checking the password:\n",
        "1. At least 1 letter between [a-z]\n",
        "2. At least 1 number between [0-9]\n",
        "1. At least 1 letter between [A-Z]\n",
        "3. At least 1 character from [$#@]\n",
        "4. Minimum length of transaction password: 6\n",
        "5. Maximum length of transaction password: 12"
      ],
      "metadata": {
        "id": "7Bwd-1uzUqXV"
      }
    },
    {
      "cell_type": "code",
      "source": [
        "user_input = input()\n",
        "passwords = user_input.split(\",\")\n",
        "special_chars = [\"$\",\"#\",\"@\"]\n",
        "valid = []\n",
        "\n",
        "for x in passwords:\n",
        "\n",
        "    if(len(x) > 12 or len(x) < 6):\n",
        "        continue\n",
        "\n",
        "\n",
        "    if (x.isupper() or x.islower()): \n",
        "        continue\n",
        "    \n",
        "    has_number = any(i.isdigit() for i in x)\n",
        "    if(not has_number):\n",
        "        continue\n",
        "    \n",
        "\n",
        "    has_char = any(i in special_chars for i in x)\n",
        "    if(not has_char):\n",
        "        continue\n",
        "    \n",
        "\n",
        "    valid.append(x)\n",
        "print(valid)"
      ],
      "metadata": {
        "colab": {
          "base_uri": "https://localhost:8080/"
        },
        "id": "cve0BFSQTUMe",
        "outputId": "4bc6b389-6a1c-41e9-dc7e-fdf09455fcf6"
      },
      "execution_count": 103,
      "outputs": [
        {
          "output_type": "stream",
          "name": "stdout",
          "text": [
            "aksjhau, Akshay3$%82, kumar12\n",
            "[' Akshay3$%82']\n"
          ]
        }
      ]
    },
    {
      "cell_type": "code",
      "source": [
        "number=1,2,3,5,5\n",
        "if(not number):\n",
        "  print(number)"
      ],
      "metadata": {
        "id": "ZdI6U0vFXAMt"
      },
      "execution_count": 104,
      "outputs": []
    },
    {
      "cell_type": "code",
      "source": [],
      "metadata": {
        "id": "2HgWcUfQX0qs"
      },
      "execution_count": null,
      "outputs": []
    }
  ]
}