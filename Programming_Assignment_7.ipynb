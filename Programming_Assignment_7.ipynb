{
  "nbformat": 4,
  "nbformat_minor": 0,
  "metadata": {
    "colab": {
      "provenance": []
    },
    "kernelspec": {
      "name": "python3",
      "display_name": "Python 3"
    },
    "language_info": {
      "name": "python"
    }
  },
  "cells": [
    {
      "cell_type": "markdown",
      "source": [
        "# 1. Write a Python Program to find sum of array?"
      ],
      "metadata": {
        "id": "vqICd3WzcQzl"
      }
    },
    {
      "cell_type": "code",
      "source": [
        "import numpy as np"
      ],
      "metadata": {
        "id": "NFG0PXc3cgla"
      },
      "execution_count": 2,
      "outputs": []
    },
    {
      "cell_type": "code",
      "source": [
        "def test1(a):\n",
        "  sum=0\n",
        "  for i in a:\n",
        "    sum=sum+i\n",
        "  print(sum)"
      ],
      "metadata": {
        "id": "ZjleHGRwdTws"
      },
      "execution_count": 17,
      "outputs": []
    },
    {
      "cell_type": "code",
      "execution_count": 14,
      "metadata": {
        "id": "mRK-iQdYcJVY"
      },
      "outputs": [],
      "source": [
        "a=np.array([1,3,5,3,5,3,3,4])"
      ]
    },
    {
      "cell_type": "code",
      "source": [
        "test1(a)"
      ],
      "metadata": {
        "colab": {
          "base_uri": "https://localhost:8080/"
        },
        "id": "ueW32fCHccD1",
        "outputId": "4ce63c8c-a7c9-4c8a-d920-359e2fc74fc0"
      },
      "execution_count": 18,
      "outputs": [
        {
          "output_type": "stream",
          "name": "stdout",
          "text": [
            "27\n"
          ]
        }
      ]
    },
    {
      "cell_type": "markdown",
      "source": [
        "# 2. Write a Python Program to find largest element in an array?"
      ],
      "metadata": {
        "id": "LvAnHV7Ndic1"
      }
    },
    {
      "cell_type": "code",
      "source": [
        "b=np.array([23,234,234,34,21,234,4,7,234,23,67,35])"
      ],
      "metadata": {
        "id": "BYRs-sHdcvCr"
      },
      "execution_count": 19,
      "outputs": []
    },
    {
      "cell_type": "code",
      "source": [
        "def test1(a):\n",
        "  return max(a)"
      ],
      "metadata": {
        "id": "jJ0KcB1qdolS"
      },
      "execution_count": 20,
      "outputs": []
    },
    {
      "cell_type": "code",
      "source": [
        "test1(b)"
      ],
      "metadata": {
        "colab": {
          "base_uri": "https://localhost:8080/"
        },
        "id": "VjSI04Gadtmi",
        "outputId": "c5a292ae-e74d-4de1-c976-7fcf78a7ac4b"
      },
      "execution_count": 21,
      "outputs": [
        {
          "output_type": "execute_result",
          "data": {
            "text/plain": [
              "234"
            ]
          },
          "metadata": {},
          "execution_count": 21
        }
      ]
    },
    {
      "cell_type": "markdown",
      "source": [
        "# 3. Write a Python Program for array rotation?"
      ],
      "metadata": {
        "id": "J0SVlPc0efIS"
      }
    },
    {
      "cell_type": "code",
      "source": [
        "c=np.array([[35,345,34345,345,3425,34], [1,345,435,4,23,32]])"
      ],
      "metadata": {
        "id": "YRsrJQIRdubK"
      },
      "execution_count": 31,
      "outputs": []
    },
    {
      "cell_type": "code",
      "source": [
        "c"
      ],
      "metadata": {
        "colab": {
          "base_uri": "https://localhost:8080/"
        },
        "id": "O9gzeUXid3gr",
        "outputId": "d59c677f-130c-4531-c0c1-39332e71b8ba"
      },
      "execution_count": 32,
      "outputs": [
        {
          "output_type": "execute_result",
          "data": {
            "text/plain": [
              "array([[   35,   345, 34345,   345,  3425,    34],\n",
              "       [    1,   345,   435,     4,    23,    32]])"
            ]
          },
          "metadata": {},
          "execution_count": 32
        }
      ]
    },
    {
      "cell_type": "code",
      "source": [
        "def test2(a):\n",
        " return a.T"
      ],
      "metadata": {
        "id": "KQJz6_xxd4SU"
      },
      "execution_count": 36,
      "outputs": []
    },
    {
      "cell_type": "code",
      "source": [
        "test2(c)"
      ],
      "metadata": {
        "colab": {
          "base_uri": "https://localhost:8080/"
        },
        "id": "hZP1QSJmePBj",
        "outputId": "ca345724-ac9f-4b0a-8b82-52a07ac02016"
      },
      "execution_count": 37,
      "outputs": [
        {
          "output_type": "execute_result",
          "data": {
            "text/plain": [
              "array([[   35,     1],\n",
              "       [  345,   345],\n",
              "       [34345,   435],\n",
              "       [  345,     4],\n",
              "       [ 3425,    23],\n",
              "       [   34,    32]])"
            ]
          },
          "metadata": {},
          "execution_count": 37
        }
      ]
    },
    {
      "cell_type": "markdown",
      "source": [
        "# 4. Write a Python Program to Split the array and add the first part to the end?"
      ],
      "metadata": {
        "id": "DumH1XKZejYz"
      }
    },
    {
      "cell_type": "code",
      "source": [
        "def split(arr, k):\n",
        "    arr = arr[k:] + arr[:k]\n",
        "    return arr\n",
        "   \n",
        "k = 2\n",
        "arr = [10, 13, 5, 17]\n",
        "print(\"Output array is\", split(arr, k))"
      ],
      "metadata": {
        "colab": {
          "base_uri": "https://localhost:8080/"
        },
        "id": "e61aLSJOeUPq",
        "outputId": "1b38f784-71c4-4c2e-c66e-95d5c4e02829"
      },
      "execution_count": 38,
      "outputs": [
        {
          "output_type": "stream",
          "name": "stdout",
          "text": [
            "Output array is [5, 17, 10, 13]\n"
          ]
        }
      ]
    },
    {
      "cell_type": "markdown",
      "source": [
        "# 5. Write a Python Program to check if given array is Monotonic?"
      ],
      "metadata": {
        "id": "0qD2vnLecN3j"
      }
    },
    {
      "cell_type": "code",
      "source": [
        "def isMonotonic(A):\n",
        " \n",
        "    return (all(A[i] <= A[i + 1] for i in range(len(A) - 1)) or\n",
        "            all(A[i] >= A[i + 1] for i in range(len(A) - 1)))\n",
        "\n",
        " "
      ],
      "metadata": {
        "id": "2moPwNvPiDeI"
      },
      "execution_count": 61,
      "outputs": []
    },
    {
      "cell_type": "code",
      "source": [
        "A = np.array([6,5,4,4,3,2,1])\n",
        " \n",
        "print(isMonotonic(A))"
      ],
      "metadata": {
        "colab": {
          "base_uri": "https://localhost:8080/"
        },
        "id": "7UrPvta_iuC7",
        "outputId": "67f9ce22-2c56-4ae6-e6d5-980baf3a5ac5"
      },
      "execution_count": 68,
      "outputs": [
        {
          "output_type": "stream",
          "name": "stdout",
          "text": [
            "True\n"
          ]
        }
      ]
    },
    {
      "cell_type": "code",
      "source": [
        "A = np.array([6,5,4,45,34,3,2,1])\n",
        " \n",
        "print(isMonotonic(A))"
      ],
      "metadata": {
        "colab": {
          "base_uri": "https://localhost:8080/"
        },
        "id": "L8X520JXmUtx",
        "outputId": "6b65cd60-e59a-48d5-a339-da49f13a6c61"
      },
      "execution_count": 69,
      "outputs": [
        {
          "output_type": "stream",
          "name": "stdout",
          "text": [
            "False\n"
          ]
        }
      ]
    }
  ]
}