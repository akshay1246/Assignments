{
  "nbformat": 4,
  "nbformat_minor": 0,
  "metadata": {
    "colab": {
      "provenance": []
    },
    "kernelspec": {
      "name": "python3",
      "display_name": "Python 3"
    },
    "language_info": {
      "name": "python"
    }
  },
  "cells": [
    {
      "cell_type": "markdown",
      "source": [
        "# 1. Write a Python program to check if the given number is a Disarium Number?"
      ],
      "metadata": {
        "id": "LWDVy0405Of6"
      }
    },
    {
      "cell_type": "code",
      "execution_count": 1,
      "metadata": {
        "id": "mhunJsxW4Y-v"
      },
      "outputs": [],
      "source": [
        "def is_disarium(num):\n",
        "    temp = 0\n",
        "    for i in range(len(str(num))):\n",
        "        temp += int(str(num)[i]) ** (i + 1)\n",
        "    return temp == num\n"
      ]
    },
    {
      "cell_type": "code",
      "source": [
        "is_disarium(25)"
      ],
      "metadata": {
        "colab": {
          "base_uri": "https://localhost:8080/"
        },
        "id": "dBi0VHOP5z0p",
        "outputId": "03c1443a-30b1-412b-eb03-b03b6ec86001"
      },
      "execution_count": 2,
      "outputs": [
        {
          "output_type": "execute_result",
          "data": {
            "text/plain": [
              "False"
            ]
          },
          "metadata": {},
          "execution_count": 2
        }
      ]
    },
    {
      "cell_type": "code",
      "source": [
        "is_disarium(135)"
      ],
      "metadata": {
        "colab": {
          "base_uri": "https://localhost:8080/"
        },
        "id": "XdIWWMaj6CbI",
        "outputId": "07799320-3fec-4e70-9bcf-13dd4474babb"
      },
      "execution_count": 3,
      "outputs": [
        {
          "output_type": "execute_result",
          "data": {
            "text/plain": [
              "True"
            ]
          },
          "metadata": {},
          "execution_count": 3
        }
      ]
    },
    {
      "cell_type": "markdown",
      "source": [
        "# 2.Write a Python program to print all disarium numbers between 1 to 100?"
      ],
      "metadata": {
        "id": "FYNZ4jm46Nxy"
      }
    },
    {
      "cell_type": "code",
      "source": [
        "def calculateLength(n):    \n",
        "    length = 0;    \n",
        "    while(n != 0):    \n",
        "        length = length + 1;    \n",
        "        n = n//10;    \n",
        "    return length;    \n",
        "      \n",
        "def sumOfDigits(num):    \n",
        "    rem = sum = 0;    \n",
        "    len = calculateLength(num);    \n",
        "        \n",
        "    while(num > 0):    \n",
        "        rem = num%10;    \n",
        "        sum = sum + (rem**len);    \n",
        "        num = num//10;    \n",
        "        len = len - 1;    \n",
        "    return sum;    \n",
        "      \n",
        "result = 0;    \n",
        "     \n",
        "\n",
        "print(\"Disarium numbers between 1 and 100 are\");    \n",
        "for i in range(1, 101):    \n",
        "    result = sumOfDigits(i);    \n",
        "        \n",
        "    if(result == i):    \n",
        "        print(i)"
      ],
      "metadata": {
        "colab": {
          "base_uri": "https://localhost:8080/"
        },
        "id": "WYDC7iI76PLR",
        "outputId": "1ad8142c-3b05-402b-a9e0-4c651ff753ee"
      },
      "execution_count": 8,
      "outputs": [
        {
          "output_type": "stream",
          "name": "stdout",
          "text": [
            "Disarium numbers between 1 and 100 are\n",
            "1\n",
            "2\n",
            "3\n",
            "4\n",
            "5\n",
            "6\n",
            "7\n",
            "8\n",
            "9\n",
            "89\n"
          ]
        }
      ]
    },
    {
      "cell_type": "markdown",
      "source": [
        "# 3. Write a Python program to check if the given number is Happy Number?"
      ],
      "metadata": {
        "id": "UXzfs3yX7tQq"
      }
    },
    {
      "cell_type": "code",
      "source": [
        "def isHappyNumber(n):    \n",
        "    digit = sum = 0    \n",
        "    while(n > 0):    \n",
        "        digit = n % 10 \n",
        "        sum = sum + (digit * digit)    \n",
        "        n = n // 10   \n",
        "    return sum    \n",
        "        \n",
        "num = int(input(\"Enter a number: \"))    \n",
        "result = num    \n",
        "     \n",
        "while(result != 1 and result != 4):    \n",
        "    result = isHappyNumber(result)   \n",
        "     \n",
        "if(result == 1):    \n",
        "    print(num, \" is a Happy Number!!!\")   \n",
        "else:    \n",
        "    print(num, \" is an Unhappy Number!!!\")"
      ],
      "metadata": {
        "colab": {
          "base_uri": "https://localhost:8080/"
        },
        "id": "tuRmdMmT7uBh",
        "outputId": "d8c07923-4694-4565-d339-686ba1078821"
      },
      "execution_count": 9,
      "outputs": [
        {
          "output_type": "stream",
          "name": "stdout",
          "text": [
            "Enter a number: 456\n",
            "456  is an Unhappy Number!!!\n"
          ]
        }
      ]
    },
    {
      "cell_type": "code",
      "source": [
        "def isHappyNumber(n):    \n",
        "    digit = sum = 0    \n",
        "    while(n > 0):    \n",
        "        digit = n % 10 \n",
        "        sum = sum + (digit * digit)    \n",
        "        n = n // 10   \n",
        "    return sum    \n",
        "        \n",
        "num = int(input(\"Enter a number: \"))    \n",
        "result = num    \n",
        "     \n",
        "while(result != 1 and result != 4):    \n",
        "    result = isHappyNumber(result)   \n",
        "     \n",
        "if(result == 1):    \n",
        "    print(num, \" is a Happy Number!!!\")   \n",
        "else:    \n",
        "    print(num, \" is an Unhappy Number!!!\")"
      ],
      "metadata": {
        "colab": {
          "base_uri": "https://localhost:8080/"
        },
        "id": "H46lLAjc8Kgx",
        "outputId": "3aa69b5a-2c25-4d08-b40d-4c8bcd8326f0"
      },
      "execution_count": 10,
      "outputs": [
        {
          "output_type": "stream",
          "name": "stdout",
          "text": [
            "Enter a number: 100\n",
            "100  is a Happy Number!!!\n"
          ]
        }
      ]
    },
    {
      "cell_type": "markdown",
      "source": [
        "# 4. Write a Python program to print all happy numbers between 1 and 100?"
      ],
      "metadata": {
        "id": "b6_5_XqL8QBZ"
      }
    },
    {
      "cell_type": "code",
      "source": [
        "   \n",
        "def isHappyNumber(num):    \n",
        "    rem = sum = 0;    \n",
        "\n",
        "    while(num > 0):    \n",
        "        rem = num%10;    \n",
        "        sum = sum + (rem*rem);    \n",
        "        num = num//10;    \n",
        "    return sum;    \n",
        "            \n",
        "\n",
        "print(\"List of happy numbers between 1 and 100: \");    \n",
        "for i in range(1, 101):    \n",
        "    result = i;    \n",
        "\n",
        "    while(result != 1 and result != 4):    \n",
        "        result = isHappyNumber(result);    \n",
        "        \n",
        "    if(result == 1):    \n",
        "        print(i),    \n",
        "        print(\" \"),    "
      ],
      "metadata": {
        "colab": {
          "base_uri": "https://localhost:8080/"
        },
        "id": "23pKxDCo8RNJ",
        "outputId": "e7296366-1af3-4966-b47f-3cfbdc1b4312"
      },
      "execution_count": 11,
      "outputs": [
        {
          "output_type": "stream",
          "name": "stdout",
          "text": [
            "List of happy numbers between 1 and 100: \n",
            "1\n",
            " \n",
            "7\n",
            " \n",
            "10\n",
            " \n",
            "13\n",
            " \n",
            "19\n",
            " \n",
            "23\n",
            " \n",
            "28\n",
            " \n",
            "31\n",
            " \n",
            "32\n",
            " \n",
            "44\n",
            " \n",
            "49\n",
            " \n",
            "68\n",
            " \n",
            "70\n",
            " \n",
            "79\n",
            " \n",
            "82\n",
            " \n",
            "86\n",
            " \n",
            "91\n",
            " \n",
            "94\n",
            " \n",
            "97\n",
            " \n",
            "100\n",
            " \n"
          ]
        }
      ]
    },
    {
      "cell_type": "markdown",
      "source": [
        "# 5. Write a Python program to determine whether the given number is a Harshad Number?"
      ],
      "metadata": {
        "id": "LakUnSL88kHx"
      }
    },
    {
      "cell_type": "code",
      "source": [
        "num = 156;    \n",
        "rem = sum = 0;    \n",
        "     \n",
        "  \n",
        "n = num;    \n",
        "  \n",
        "while(num > 0):    \n",
        "    rem = num%10;    \n",
        "    sum = sum + rem;    \n",
        "    num = num//10;    \n",
        "\n",
        "if(n%sum == 0):    \n",
        "    print(str(n) + \" is a harshad number\");    \n",
        "else:    \n",
        "    print(str(n) + \" is not a harshad number\");    \n"
      ],
      "metadata": {
        "colab": {
          "base_uri": "https://localhost:8080/"
        },
        "id": "Ii-YOIn88phZ",
        "outputId": "beeff966-7b89-42b1-80ae-af81e098e2c8"
      },
      "execution_count": 14,
      "outputs": [
        {
          "output_type": "stream",
          "name": "stdout",
          "text": [
            "156 is a harshad number\n"
          ]
        }
      ]
    },
    {
      "cell_type": "code",
      "source": [
        "num = 1345;    \n",
        "rem = sum = 0;    \n",
        "     \n",
        "  \n",
        "n = num;    \n",
        "  \n",
        "while(num > 0):    \n",
        "    rem = num%10;    \n",
        "    sum = sum + rem;    \n",
        "    num = num//10;    \n",
        "\n",
        "if(n%sum == 0):    \n",
        "    print(str(n) + \" is a harshad number\");    \n",
        "else:    \n",
        "    print(str(n) + \" is not a harshad number\");    \n"
      ],
      "metadata": {
        "colab": {
          "base_uri": "https://localhost:8080/"
        },
        "id": "C64kjkiN8zZo",
        "outputId": "4b5655ce-5af2-4cef-debb-13714b36e169"
      },
      "execution_count": 15,
      "outputs": [
        {
          "output_type": "stream",
          "name": "stdout",
          "text": [
            "1345 is not a harshad number\n"
          ]
        }
      ]
    },
    {
      "cell_type": "markdown",
      "source": [
        "# 6. Write a Python program to print all pronic numbers between 1 and 100?"
      ],
      "metadata": {
        "id": "ikvqouXq5M0T"
      }
    },
    {
      "cell_type": "code",
      "source": [
        "def isPronicNumber(num):    \n",
        "    flag = False;    \n",
        "        \n",
        "    for j in range(1, num+1):    \n",
        "\n",
        "        if((j*(j+1)) == num):    \n",
        "            flag = True;    \n",
        "            break;    \n",
        "    return flag;    \n",
        "     \n",
        "\n",
        "print(\"Pronic numbers between 1 and 100: \");    \n",
        "for i in range(1, 101):    \n",
        "    if(isPronicNumber(i)):    \n",
        "        print(i),    \n",
        "        print(\" \"),    "
      ],
      "metadata": {
        "colab": {
          "base_uri": "https://localhost:8080/"
        },
        "id": "G-R5TZ4L846Z",
        "outputId": "18633319-9082-462e-c2ef-b843978a179e"
      },
      "execution_count": 16,
      "outputs": [
        {
          "output_type": "stream",
          "name": "stdout",
          "text": [
            "Pronic numbers between 1 and 100: \n",
            "2\n",
            " \n",
            "6\n",
            " \n",
            "12\n",
            " \n",
            "20\n",
            " \n",
            "30\n",
            " \n",
            "42\n",
            " \n",
            "56\n",
            " \n",
            "72\n",
            " \n",
            "90\n",
            " \n"
          ]
        }
      ]
    }
  ]
}