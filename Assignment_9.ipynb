{
  "nbformat": 4,
  "nbformat_minor": 0,
  "metadata": {
    "colab": {
      "provenance": []
    },
    "kernelspec": {
      "name": "python3",
      "display_name": "Python 3"
    },
    "language_info": {
      "name": "python"
    }
  },
  "cells": [
    {
      "cell_type": "markdown",
      "source": [
        "# 1. To what does a relative path refer?"
      ],
      "metadata": {
        "id": "ybP7gTbSCI5T"
      }
    },
    {
      "cell_type": "markdown",
      "source": [
        "A relative path in Python is a path that describes the location of a directory relative to the entry point where you run the Python script."
      ],
      "metadata": {
        "id": "33haq8hhCYp7"
      }
    },
    {
      "cell_type": "markdown",
      "source": [
        "# 2. What does an absolute path start with your operating system?"
      ],
      "metadata": {
        "id": "HSeI6TV3CfrF"
      }
    },
    {
      "cell_type": "markdown",
      "source": [
        "An absolute path is a path that contains the entire path to the file or directory that you need to access. This path will begin at the home directory of your computer and will end with the file or directory that you wish to "
      ],
      "metadata": {
        "id": "8ZlNKIGRCmfj"
      }
    },
    {
      "cell_type": "markdown",
      "source": [
        "# 3. What do the functions os.getcwd() and os.chdir() do?"
      ],
      "metadata": {
        "id": "4xNeZyw3Cog7"
      }
    },
    {
      "cell_type": "markdown",
      "source": [
        "getcwd() : CWD stands for Current Working Directory. This function allows you to see what your current working directory  is\n",
        "\n",
        "chdir(\"path-to-dir\") : Short for CHange DIRectory, this function allows you to set the current working directory to a path of your choice"
      ],
      "metadata": {
        "id": "MUmkzrTaCumT"
      }
    },
    {
      "cell_type": "markdown",
      "source": [
        "# 4. What are the . and .. folders?"
      ],
      "metadata": {
        "id": "vV03od9dC5yq"
      }
    },
    {
      "cell_type": "markdown",
      "source": [
        "The . is the current directory, while .. signifies the parent directory"
      ],
      "metadata": {
        "id": "9oSlaZGBDD6j"
      }
    },
    {
      "cell_type": "markdown",
      "source": [
        "# 5. In C:\\bacon\\eggs\\spam.txt, which part is the dir name, and which part is the base name?"
      ],
      "metadata": {
        "id": "-NYCRJXHDNUB"
      }
    },
    {
      "cell_type": "markdown",
      "source": [
        "C:\\bacon\\eggs is the dir name, while spam. txt is the base name"
      ],
      "metadata": {
        "id": "qsSopTbUDQWy"
      }
    },
    {
      "cell_type": "markdown",
      "source": [],
      "metadata": {
        "id": "-iXXvS0rDWNr"
      }
    },
    {
      "cell_type": "markdown",
      "source": [
        "# 6. What are the three “mode” arguments that can be passed to the open() function?"
      ],
      "metadata": {
        "id": "pNnQp8DRDZfB"
      }
    },
    {
      "cell_type": "markdown",
      "source": [
        "Read Only ('r’)\n",
        "\n",
        "Write Only ('w’)\n",
        "\n",
        "Write and Read ('w+’)\n",
        "\n"
      ],
      "metadata": {
        "id": "UWQirr6tDafS"
      }
    },
    {
      "cell_type": "markdown",
      "source": [
        "# 7. What happens if an existing file is opened in write mode?"
      ],
      "metadata": {
        "id": "JmLXs3T9D4ei"
      }
    },
    {
      "cell_type": "markdown",
      "source": [
        "When mode “w” is specified, it creates an empty file for output operations. If a file with the same name already exists, its contents are discarded and the file is treated as a new empty file"
      ],
      "metadata": {
        "id": "CQQMPPkzEBhr"
      }
    },
    {
      "cell_type": "markdown",
      "source": [
        "# 8. How do you tell the difference between read() and readlines()?"
      ],
      "metadata": {
        "id": "mg2D4B1wEIRi"
      }
    },
    {
      "cell_type": "markdown",
      "source": [
        "The read() method returns the specified number of bytes from the file. Default is -1 which means the whole file.\n",
        "\n",
        "\n",
        "The readlines() method returns a list containing each line in the file as a list item"
      ],
      "metadata": {
        "id": "fWKYzrwZELmy"
      }
    },
    {
      "cell_type": "markdown",
      "source": [
        "# 9. What data structure does a shelf value resemble?"
      ],
      "metadata": {
        "id": "krSxgp5PEtnZ"
      }
    },
    {
      "cell_type": "markdown",
      "source": [
        "A shelf value resembles a dictionary value; it has keys and values, along with keys() and values() methods that work similarly to the dictionary methods of the same names."
      ],
      "metadata": {
        "id": "75LyHjU3E0RZ"
      }
    }
  ]
}