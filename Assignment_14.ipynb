{
  "nbformat": 4,
  "nbformat_minor": 0,
  "metadata": {
    "colab": {
      "provenance": []
    },
    "kernelspec": {
      "name": "python3",
      "display_name": "Python 3"
    },
    "language_info": {
      "name": "python"
    }
  },
  "cells": [
    {
      "cell_type": "markdown",
      "source": [
        "1. What does RGBA stand for?"
      ],
      "metadata": {
        "id": "ilckysrYYOcz"
      }
    },
    {
      "cell_type": "markdown",
      "source": [
        "Red-Green-Blue-Alpha"
      ],
      "metadata": {
        "id": "QMQs4SRrYPNK"
      }
    },
    {
      "cell_type": "markdown",
      "source": [
        "2. From the Pillow module, how do you get the RGBA value of any images?"
      ],
      "metadata": {
        "id": "8pwa8o75YTP5"
      }
    },
    {
      "cell_type": "code",
      "source": [
        "from PIL import Image\n",
        "  \n",
        "img = Image.open('image.png')\n",
        "rgba = img.convert(\"RGBA\")\n",
        "datas = rgba.getdata()\n",
        "  \n",
        "newData = []\n",
        "for item in datas:\n",
        "    if item[0] == 0 and item[1] == 0 and item[2] == 0:  # finding black colour by its RGB value\n",
        "        # storing a transparent value when we find a black colour\n",
        "        newData.append((255, 255, 255, 0))\n",
        "    else:\n",
        "        newData.append(item)  # other colours remain unchanged\n",
        "  \n",
        "rgba.putdata(newData)\n",
        "rgba.save(\"transparent_image.png\", \"PNG\")"
      ],
      "metadata": {
        "id": "oTDZXeB2YjMQ"
      },
      "execution_count": null,
      "outputs": []
    },
    {
      "cell_type": "markdown",
      "source": [
        "3. What is a box tuple, and how does it work?"
      ],
      "metadata": {
        "id": "Rm-BPp5_Yi2A"
      }
    },
    {
      "cell_type": "markdown",
      "source": [
        "The box. tuple submodule provides read-only access for the tuple userdata type"
      ],
      "metadata": {
        "id": "DahzV3DHYoB4"
      }
    },
    {
      "cell_type": "markdown",
      "source": [
        "4. Use your image and load in notebook then, How can you find out the width and height of an\n",
        "Image object?"
      ],
      "metadata": {
        "id": "Bd8bMPJfYp0Y"
      }
    },
    {
      "cell_type": "markdown",
      "source": [
        "PIL.Image.open() is used to open the image and then .width and .height property of Image are used to get the height and width of the image."
      ],
      "metadata": {
        "id": "xrfjXJB2Yqbx"
      }
    },
    {
      "cell_type": "markdown",
      "source": [
        "5. What method would you call to get Image object for a 100×100 image, excluding the lower-left\n",
        "quarter of it?"
      ],
      "metadata": {
        "id": "gUHzttk1YwxA"
      }
    },
    {
      "cell_type": "markdown",
      "source": [
        "The paste() method"
      ],
      "metadata": {
        "id": "SbVlguwmYyLI"
      }
    },
    {
      "cell_type": "markdown",
      "source": [
        "6. After making changes to an Image object, how could you save it as an image file?"
      ],
      "metadata": {
        "id": "nzln9wmoY9cQ"
      }
    },
    {
      "cell_type": "markdown",
      "source": [
        "PIL. save() function"
      ],
      "metadata": {
        "id": "ya940NegY--I"
      }
    },
    {
      "cell_type": "markdown",
      "source": [
        "7. What module contains Pillow’s shape-drawing code?"
      ],
      "metadata": {
        "id": "mk3VImYmZAwP"
      }
    },
    {
      "cell_type": "markdown",
      "source": [
        "The 'ImageDraw' module "
      ],
      "metadata": {
        "id": "0ja_7ycbZB_I"
      }
    },
    {
      "cell_type": "markdown",
      "source": [
        "8. Image objects do not have drawing methods. What kind of object does? How do you get this kind\n",
        "of object?"
      ],
      "metadata": {
        "id": "3v5WKHy8ZEEY"
      }
    },
    {
      "cell_type": "markdown",
      "source": [
        "Images consist of a collection of pixels, and each pixel has an RGBA value for its color and its addressable by x- and y-coordinates. Pillow provides a drawing module called ImageDraw that you can use to create simple 2D graphics on your Image objects. "
      ],
      "metadata": {
        "id": "xRZpTBelZFVI"
      }
    }
  ]
}