{
  "nbformat": 4,
  "nbformat_minor": 0,
  "metadata": {
    "colab": {
      "provenance": []
    },
    "kernelspec": {
      "name": "python3",
      "display_name": "Python 3"
    },
    "language_info": {
      "name": "python"
    }
  },
  "cells": [
    {
      "cell_type": "markdown",
      "source": [
        "1.What is the result of the code, and explain?\n",
        "\n",
        "&gt;&gt;&gt; X = &#39;iNeuron&#39;\n",
        "&gt;&gt;&gt; def func():\n",
        "print(X)\n",
        "\n",
        "&gt;&gt;&gt; func()"
      ],
      "metadata": {
        "id": "e7l8pasntYFL"
      }
    },
    {
      "cell_type": "code",
      "source": [
        "X='iNeuron'\n",
        "\n",
        "def fun():\n",
        "  print(X)"
      ],
      "metadata": {
        "id": "mOEbbgqktYuM"
      },
      "execution_count": 1,
      "outputs": []
    },
    {
      "cell_type": "code",
      "source": [
        "fun()  # X is a global variable and we are calling it in the function"
      ],
      "metadata": {
        "colab": {
          "base_uri": "https://localhost:8080/"
        },
        "id": "QVo1__UoteT2",
        "outputId": "05ca691f-b803-4d84-93b4-6bd813969cea"
      },
      "execution_count": 2,
      "outputs": [
        {
          "output_type": "stream",
          "name": "stdout",
          "text": [
            "iNeuron\n"
          ]
        }
      ]
    },
    {
      "cell_type": "markdown",
      "source": [
        "2. What is the result of the code, and explain?\n",
        "\n",
        "&gt;&gt;&gt; X = &#39;iNeuron&#39;\n",
        "&gt;&gt;&gt; def func():\n",
        "X = &#39;NI!&#39;\n",
        "\n",
        "&gt;&gt;&gt; func()\n",
        "&gt;&gt;&gt; print(X)"
      ],
      "metadata": {
        "id": "ZnHvdshNtpuK"
      }
    },
    {
      "cell_type": "code",
      "source": [
        "X = 'iNeuron'"
      ],
      "metadata": {
        "id": "Fot5sPketfUD"
      },
      "execution_count": 19,
      "outputs": []
    },
    {
      "cell_type": "code",
      "source": [
        "def func():\n",
        "  X = 'NI!'"
      ],
      "metadata": {
        "id": "ppl1-apOtwL6"
      },
      "execution_count": 20,
      "outputs": []
    },
    {
      "cell_type": "code",
      "source": [
        "func() #this wont return anything, becuase we are using print or return to give any value"
      ],
      "metadata": {
        "id": "E9HCBx-Lt18a"
      },
      "execution_count": 21,
      "outputs": []
    },
    {
      "cell_type": "code",
      "source": [
        "print(X)     #this gives the global variable"
      ],
      "metadata": {
        "colab": {
          "base_uri": "https://localhost:8080/"
        },
        "id": "Fh8Cx-DMt2X6",
        "outputId": "43ee90bd-6f9c-4a55-c060-c0301d2b6415"
      },
      "execution_count": 22,
      "outputs": [
        {
          "output_type": "stream",
          "name": "stdout",
          "text": [
            "iNeuron\n"
          ]
        }
      ]
    },
    {
      "cell_type": "markdown",
      "source": [
        "3. What does this code print, and why?\n",
        "\n",
        "&gt;&gt;&gt; X = &#39;iNeuron&#39;\n",
        "&gt;&gt;&gt; def func():\n",
        "X = &#39;NI&#39;\n",
        "print(X)\n",
        "\n",
        "&gt;&gt;&gt; func()\n",
        "&gt;&gt;&gt; print(X)"
      ],
      "metadata": {
        "id": "RkrrtUvhuf2s"
      }
    },
    {
      "cell_type": "code",
      "source": [
        "X = 'iNeuron' "
      ],
      "metadata": {
        "id": "jyxyDQR-uQVa"
      },
      "execution_count": 23,
      "outputs": []
    },
    {
      "cell_type": "code",
      "source": [
        "def func(): \n",
        "  X = 'NI' \n",
        "  print(X)"
      ],
      "metadata": {
        "id": "sbD3SgxWuiZ1"
      },
      "execution_count": 24,
      "outputs": []
    },
    {
      "cell_type": "code",
      "source": [
        "func()   #here we are printing X value as defines inside the function"
      ],
      "metadata": {
        "colab": {
          "base_uri": "https://localhost:8080/"
        },
        "id": "j-soEpj3umIS",
        "outputId": "e9ef22d6-8260-4e2c-f064-8e50146da468"
      },
      "execution_count": 25,
      "outputs": [
        {
          "output_type": "stream",
          "name": "stdout",
          "text": [
            "NI\n"
          ]
        }
      ]
    },
    {
      "cell_type": "code",
      "source": [
        "print(X) #this gives the global variable"
      ],
      "metadata": {
        "colab": {
          "base_uri": "https://localhost:8080/"
        },
        "id": "pE6rF-7wum6i",
        "outputId": "76c74649-2fa8-4766-8fc5-a1730aa8a4de"
      },
      "execution_count": 26,
      "outputs": [
        {
          "output_type": "stream",
          "name": "stdout",
          "text": [
            "iNeuron\n"
          ]
        }
      ]
    },
    {
      "cell_type": "markdown",
      "source": [
        "4. What output does this code produce? Why?\n",
        "\n",
        "&gt;&gt;&gt; X = &#39;iNeuron&#39;\n",
        "&gt;&gt;&gt; def func():\n",
        "global X\n",
        "X = &#39;NI&#39;\n",
        "\n",
        "&gt;&gt;&gt; func()\n",
        "&gt;&gt;&gt; print(X)"
      ],
      "metadata": {
        "id": "6MQeyveZut1C"
      }
    },
    {
      "cell_type": "code",
      "source": [
        "X = 'iNeuron'"
      ],
      "metadata": {
        "id": "XxjlTFBBuvZT"
      },
      "execution_count": 31,
      "outputs": []
    },
    {
      "cell_type": "code",
      "source": [
        "def func():\n",
        "   global X\n",
        "   X = 'NI' #we are overwriting the values of X as 'NI' and giving it global scope"
      ],
      "metadata": {
        "id": "0tejr1e_uxBE"
      },
      "execution_count": 33,
      "outputs": []
    },
    {
      "cell_type": "code",
      "source": [
        "func() #we are not getting anything, because we dont have print or return in fun()"
      ],
      "metadata": {
        "id": "_9oR0rT4uypq"
      },
      "execution_count": 34,
      "outputs": []
    },
    {
      "cell_type": "code",
      "source": [
        "print(X)   # so when we print, instead of getting 'iNeuron', we are getting 'NI'"
      ],
      "metadata": {
        "colab": {
          "base_uri": "https://localhost:8080/"
        },
        "id": "3LCYdNH1uzpq",
        "outputId": "d04a3d32-b8a5-4275-c0b2-c10995555924"
      },
      "execution_count": 36,
      "outputs": [
        {
          "output_type": "stream",
          "name": "stdout",
          "text": [
            "NI\n"
          ]
        }
      ]
    },
    {
      "cell_type": "markdown",
      "source": [
        "5. What about this code—what’s the output, and why?\n",
        "\n",
        "&gt;&gt;&gt; X = &#39;iNeuron&#39;\n",
        "&gt;&gt;&gt; def func():\n",
        "X = &#39;NI&#39;\n",
        "def nested():\n",
        "print(X)\n",
        "nested()\n",
        "\n",
        "&gt;&gt;&gt; func()\n",
        "&gt;&gt;&gt; X"
      ],
      "metadata": {
        "id": "qXQcANMXv13B"
      }
    },
    {
      "cell_type": "code",
      "source": [
        "X = 'iNeuron' "
      ],
      "metadata": {
        "id": "3oHsTpBlvuO7"
      },
      "execution_count": 37,
      "outputs": []
    },
    {
      "cell_type": "code",
      "source": [
        "def func(): \n",
        "  X = 'NI' \n",
        "  def nested():\n",
        "     print(X) \n",
        "     nested()"
      ],
      "metadata": {
        "id": "DMdagZ-kv6ZK"
      },
      "execution_count": 38,
      "outputs": []
    },
    {
      "cell_type": "code",
      "source": [
        "func() #we are not getting anything, because we dont have print or return in fun()"
      ],
      "metadata": {
        "id": "RlRAzcpfv9pp"
      },
      "execution_count": 51,
      "outputs": []
    },
    {
      "cell_type": "code",
      "source": [
        "X #here it prints global variable, as no 'global' tag is attached while writing the function"
      ],
      "metadata": {
        "colab": {
          "base_uri": "https://localhost:8080/",
          "height": 36
        },
        "id": "9jiNjYvTv-cJ",
        "outputId": "c23f110a-efd5-42e6-a484-984a2c8cd282"
      },
      "execution_count": 41,
      "outputs": [
        {
          "output_type": "execute_result",
          "data": {
            "text/plain": [
              "'iNeuron'"
            ],
            "application/vnd.google.colaboratory.intrinsic+json": {
              "type": "string"
            }
          },
          "metadata": {},
          "execution_count": 41
        }
      ]
    },
    {
      "cell_type": "markdown",
      "source": [
        "6. How about this code: what is its output in Python 3, and explain?\n",
        "\n",
        "&gt;&gt;&gt; def func():\n",
        "X = &#39;NI&#39;\n",
        "def nested():\n",
        "nonlocal X\n",
        "X = &#39;Spam&#39;\n",
        "nested()\n",
        "print(X)\n",
        "\n",
        "&gt;&gt;&gt; func()"
      ],
      "metadata": {
        "id": "vpqouzeCwh24"
      }
    },
    {
      "cell_type": "code",
      "source": [
        "def func(): \n",
        "  X = 'NI'\n",
        "  def nested(): \n",
        "    nonlocal X \n",
        "    X = 'Spam' \n",
        "  nested() \n",
        "  print(X)"
      ],
      "metadata": {
        "id": "eROTkGsKv-mJ"
      },
      "execution_count": 56,
      "outputs": []
    },
    {
      "cell_type": "code",
      "source": [
        "func() #as we have called the nested(), it prints the values of X as spam as defined insided nested()"
      ],
      "metadata": {
        "colab": {
          "base_uri": "https://localhost:8080/"
        },
        "id": "fR7XIX3uwxUR",
        "outputId": "5338bb51-9903-4056-a492-764c8a2dab21"
      },
      "execution_count": 57,
      "outputs": [
        {
          "output_type": "stream",
          "name": "stdout",
          "text": [
            "Spam\n"
          ]
        }
      ]
    }
  ]
}