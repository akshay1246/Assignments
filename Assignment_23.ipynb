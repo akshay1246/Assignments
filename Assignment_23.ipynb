{
  "nbformat": 4,
  "nbformat_minor": 0,
  "metadata": {
    "colab": {
      "provenance": []
    },
    "kernelspec": {
      "name": "python3",
      "display_name": "Python 3"
    },
    "language_info": {
      "name": "python"
    }
  },
  "cells": [
    {
      "cell_type": "markdown",
      "source": [
        "1. What is the result of the code, and why?\n",
        "\n",
        "&gt;&gt;&gt; def func(a, b=6, c=8):\n",
        "print(a, b, c)>>>func(1, 2)"
      ],
      "metadata": {
        "id": "LlKTNSJ6WsVV"
      }
    },
    {
      "cell_type": "code",
      "source": [
        "def func(a,b=6,c=8):\n",
        "  print(a,b,c)"
      ],
      "metadata": {
        "id": "75qCuw9KWphY"
      },
      "execution_count": 1,
      "outputs": []
    },
    {
      "cell_type": "code",
      "source": [
        "func(1,2)\n",
        "#Since the values of b and c are already defined while creating the function, it will take the default values.\n",
        "# but here we have 2 values, so a becomes 1, and b value is overwitten as 2 and c is the default value - 8\n"
      ],
      "metadata": {
        "colab": {
          "base_uri": "https://localhost:8080/"
        },
        "id": "pfpFlrQdXKC4",
        "outputId": "88915305-28a4-44fd-caff-33a2161cb4f4"
      },
      "execution_count": 3,
      "outputs": [
        {
          "output_type": "stream",
          "name": "stdout",
          "text": [
            "1 2 8\n"
          ]
        }
      ]
    },
    {
      "cell_type": "markdown",
      "source": [
        "2. What is the result of this code, and why?\n",
        "&gt;&gt;&gt; def func(a, b, c=5):\n",
        "print(a, b, c)\n",
        "&gt;&gt;&gt; func(1, c=3, b=2)"
      ],
      "metadata": {
        "id": "RvZAkW9UYPPh"
      }
    },
    {
      "cell_type": "code",
      "source": [
        "def func(a,b,c=5):  #by default c value is 5\n",
        "  print(a,b,c)"
      ],
      "metadata": {
        "id": "KoY79GwtYQPT"
      },
      "execution_count": 4,
      "outputs": []
    },
    {
      "cell_type": "code",
      "source": [
        "func(1,c=3,b=2) #now we are changing the value of c to 3"
      ],
      "metadata": {
        "colab": {
          "base_uri": "https://localhost:8080/"
        },
        "id": "fQdnQKOYYW8x",
        "outputId": "9abe1cd7-ec79-4d2e-94e8-81d044058da4"
      },
      "execution_count": 5,
      "outputs": [
        {
          "output_type": "stream",
          "name": "stdout",
          "text": [
            "1 2 3\n"
          ]
        }
      ]
    },
    {
      "cell_type": "markdown",
      "source": [
        "3. How about this code: what is its result, and why?\n",
        "&gt;&gt;&gt; def func(a, *pargs):\n",
        "print(a, pargs)\n",
        "&gt;&gt;&gt; func(1, 2, 3)"
      ],
      "metadata": {
        "id": "gZ3GNRRwYj3b"
      }
    },
    {
      "cell_type": "code",
      "source": [
        "def func(a,*pargs):    #a will take single value, but *pargs will take multiple values\n",
        "  print(a, pargs)"
      ],
      "metadata": {
        "id": "HIy1xNwHYknF"
      },
      "execution_count": 6,
      "outputs": []
    },
    {
      "cell_type": "code",
      "source": [
        "func(1,2,3) # a=1 and pargs= (2,3)"
      ],
      "metadata": {
        "colab": {
          "base_uri": "https://localhost:8080/"
        },
        "id": "ZcHEc8NwYsP4",
        "outputId": "67caadb9-9911-441e-d63d-45fb61cf5489"
      },
      "execution_count": 7,
      "outputs": [
        {
          "output_type": "stream",
          "name": "stdout",
          "text": [
            "1 (2, 3)\n"
          ]
        }
      ]
    },
    {
      "cell_type": "markdown",
      "source": [
        "4. What does this code print, and why?\n",
        "&gt;&gt;&gt; def func(a, **kargs):\n",
        "print(a, kargs)\n",
        "&gt;&gt;&gt; func(a=1, c=3, b=2)"
      ],
      "metadata": {
        "id": "YnKNZsLDZJZW"
      }
    },
    {
      "cell_type": "code",
      "source": [
        "def func(a,**kargs):\n",
        "  print(a,kargs)"
      ],
      "metadata": {
        "id": "l5C28qjeZJ5N"
      },
      "execution_count": 8,
      "outputs": []
    },
    {
      "cell_type": "code",
      "source": [
        "func(a=1, c=3, b=2)    #** means keywork arguments, therefore it will take values in the form of key and value"
      ],
      "metadata": {
        "colab": {
          "base_uri": "https://localhost:8080/"
        },
        "id": "v60_-JsZZR-n",
        "outputId": "bae9cf50-ab5b-4a5f-fcd4-3e702a40405b"
      },
      "execution_count": 9,
      "outputs": [
        {
          "output_type": "stream",
          "name": "stdout",
          "text": [
            "1 {'c': 3, 'b': 2}\n"
          ]
        }
      ]
    },
    {
      "cell_type": "markdown",
      "source": [
        "5. What gets printed by this, and explain?\n",
        "&gt;&gt;&gt; def func(a, b, c=8, d=5): print(a, b, c, d)\n",
        "&gt;&gt;&gt; func(1, *(5, 6))"
      ],
      "metadata": {
        "id": "Yw4aYNLPZb9t"
      }
    },
    {
      "cell_type": "code",
      "source": [
        "def func(a, b, c=8, d=5):\n",
        "   print(a, b, c, d)"
      ],
      "metadata": {
        "id": "fE-SLfKhZcdt"
      },
      "execution_count": 10,
      "outputs": []
    },
    {
      "cell_type": "code",
      "source": [
        "func(1, *(5, 6,))     # a value is 1, since * is given for the second element, b values becomes 5 and c values becomes 6. \n",
        "# D by default is 5"
      ],
      "metadata": {
        "colab": {
          "base_uri": "https://localhost:8080/"
        },
        "id": "KbAjkQFUZfOd",
        "outputId": "17a2b939-ca4c-46a0-806e-3a3d101346d2"
      },
      "execution_count": 16,
      "outputs": [
        {
          "output_type": "stream",
          "name": "stdout",
          "text": [
            "1 5 6 5\n"
          ]
        }
      ]
    },
    {
      "cell_type": "markdown",
      "source": [
        "\n",
        "\n",
        "\n",
        "\n",
        "\n",
        "\n",
        "6. what is the result of this, and explain?\n",
        "&gt;&gt;&gt; def func(a, b, c): a = 2; b[0] = &#39;x&#39;; c[&#39;a&#39;] = &#39;y&#39;\n",
        "&gt;&gt;&gt; l=1; m=[1]; n={&#39;a&#39;:0}\n",
        "&gt;&gt;&gt; func(l, m, n)\n",
        "\n",
        "&gt;&gt;&gt; l, m, n"
      ],
      "metadata": {
        "id": "NI7nohViWqG_"
      }
    },
    {
      "cell_type": "code",
      "source": [
        "def func(a, b, c): \n",
        "  a = 2; b[0] = 'x'; c['a'] = 'y'\n",
        "#here were are not printing or returning aything through this function, but the values will changing as mentioned in the functions"
      ],
      "metadata": {
        "id": "rgKQie--aPvl"
      },
      "execution_count": 37,
      "outputs": []
    },
    {
      "cell_type": "code",
      "source": [
        "l=1; m=[1]; n={'a':0} \n",
        "# here we are assigning values to l, m and n through various data structures\n"
      ],
      "metadata": {
        "id": "doWYu3rlams5"
      },
      "execution_count": 38,
      "outputs": []
    },
    {
      "cell_type": "code",
      "source": [
        "func(l, m, n) #we have called the function"
      ],
      "metadata": {
        "id": "Yi3uUrcaapQM"
      },
      "execution_count": 39,
      "outputs": []
    },
    {
      "cell_type": "code",
      "source": [
        "(l,m,n)    #as the function is called, the values of l,m,n gets changed as mentioned in the function a"
      ],
      "metadata": {
        "colab": {
          "base_uri": "https://localhost:8080/"
        },
        "id": "GlCxTjE-apkM",
        "outputId": "4f44dff5-559b-48b8-9259-f8f012ae1ee0"
      },
      "execution_count": 40,
      "outputs": [
        {
          "output_type": "execute_result",
          "data": {
            "text/plain": [
              "(1, ['x'], {'a': 'y'})"
            ]
          },
          "metadata": {},
          "execution_count": 40
        }
      ]
    }
  ]
}