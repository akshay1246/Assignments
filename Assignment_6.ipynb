{
  "nbformat": 4,
  "nbformat_minor": 0,
  "metadata": {
    "colab": {
      "provenance": []
    },
    "kernelspec": {
      "name": "python3",
      "display_name": "Python 3"
    },
    "language_info": {
      "name": "python"
    }
  },
  "cells": [
    {
      "cell_type": "markdown",
      "source": [
        "# **1. What are escape characters, and how do you use them?**"
      ],
      "metadata": {
        "id": "mA1irZn31XiE"
      }
    },
    {
      "cell_type": "markdown",
      "source": [
        "Escape characters or sequences are illegal characters for Python and never get printed as part of the output. When backslash is used in Python programming, it allows the program to escape the next characters."
      ],
      "metadata": {
        "id": "137qGx8-1_Yg"
      }
    },
    {
      "cell_type": "markdown",
      "source": [
        "# **2. What do the escape characters n and t stand for?**"
      ],
      "metadata": {
        "id": "xvqZ5ec5286R"
      }
    },
    {
      "cell_type": "code",
      "source": [
        "txt = 'hello everyone, \\nwelcome to bengaluru'   #\\n is used to print the statement in the next line\n",
        "\n",
        "print(txt) \n"
      ],
      "metadata": {
        "colab": {
          "base_uri": "https://localhost:8080/"
        },
        "id": "3A19SNn93BUx",
        "outputId": "d90ab461-8904-4dc3-ad80-d71b0efa005a"
      },
      "execution_count": 19,
      "outputs": [
        {
          "output_type": "stream",
          "name": "stdout",
          "text": [
            "hello everyone, \n",
            "welcome to bengaluru\n"
          ]
        }
      ]
    },
    {
      "cell_type": "code",
      "source": [
        "txt = 'hello everyone, \\twelcome to bengaluru'   #\\t is used to print the statement in the next tab\n",
        "\n",
        "print(txt) "
      ],
      "metadata": {
        "colab": {
          "base_uri": "https://localhost:8080/"
        },
        "id": "IE0CjCrH3Hsh",
        "outputId": "0ca30e3a-e178-4c4e-9c76-8299bbb85558"
      },
      "execution_count": 20,
      "outputs": [
        {
          "output_type": "stream",
          "name": "stdout",
          "text": [
            "hello everyone, \twelcome to bengaluru\n"
          ]
        }
      ]
    },
    {
      "cell_type": "markdown",
      "source": [
        "# **3. What is the way to include backslash characters in a string?**"
      ],
      "metadata": {
        "id": "2T6yXCy64DLg"
      }
    },
    {
      "cell_type": "code",
      "source": [
        "a='Hello i am \\'akshay\\', i am from bengaluru' #use escape character \\\""
      ],
      "metadata": {
        "id": "FjvxrOok3_D2"
      },
      "execution_count": 50,
      "outputs": []
    },
    {
      "cell_type": "code",
      "source": [
        "a"
      ],
      "metadata": {
        "colab": {
          "base_uri": "https://localhost:8080/",
          "height": 36
        },
        "id": "YHhn-LJH4UHY",
        "outputId": "b15d8aa3-9325-46a4-953e-30eea9485dc1"
      },
      "execution_count": 51,
      "outputs": [
        {
          "output_type": "execute_result",
          "data": {
            "text/plain": [
              "\"Hello i am 'akshay', i am from bengaluru\""
            ],
            "application/vnd.google.colaboratory.intrinsic+json": {
              "type": "string"
            }
          },
          "metadata": {},
          "execution_count": 51
        }
      ]
    },
    {
      "cell_type": "markdown",
      "source": [
        "# **4. The string \"Howl's Moving Castle\" is a correct value. Why isn't the single quote character in the Howl's not escaped a problem?**"
      ],
      "metadata": {
        "id": "cYT9PxZG6Z5n"
      }
    },
    {
      "cell_type": "markdown",
      "source": [
        "The single quote in Howl's is fine because you've used double quotes to mark the beginning and end of the string."
      ],
      "metadata": {
        "id": "X-tUo5z77QgX"
      }
    },
    {
      "cell_type": "markdown",
      "source": [
        "\n",
        "# **5. How do you write a string of newlines if you don't want to use the n character?**"
      ],
      "metadata": {
        "id": "Iv1sRY-Z7ZXn"
      }
    },
    {
      "cell_type": "markdown",
      "source": [
        "Multiline strings allow you to use newlines in strings without the \\n escape character."
      ],
      "metadata": {
        "id": "k_pVTwyI-NPF"
      }
    },
    {
      "cell_type": "code",
      "source": [
        "print('Hello,', end=' ' )       #use 'end'\n",
        "print('welcome to bengaluru')"
      ],
      "metadata": {
        "colab": {
          "base_uri": "https://localhost:8080/"
        },
        "id": "7ogzed2u7dRn",
        "outputId": "86f82ac1-1d90-446a-ee3d-1cef9c8196a8"
      },
      "execution_count": 33,
      "outputs": [
        {
          "output_type": "stream",
          "name": "stdout",
          "text": [
            "Hello, welcome to bengaluru\n"
          ]
        }
      ]
    },
    {
      "cell_type": "markdown",
      "source": [
        "# 6. What are the values of the given expressions?\n",
        "# 'Hello, world'![1]\n",
        "# 'Hello, world!'[0:5]\n",
        "# 'Hello, world!'[:5]\n",
        "# 'Hello, world!'[3:] "
      ],
      "metadata": {
        "id": "joqZ9krJ8mn3"
      }
    },
    {
      "cell_type": "code",
      "source": [
        "'Hello, world!'[1]"
      ],
      "metadata": {
        "colab": {
          "base_uri": "https://localhost:8080/",
          "height": 36
        },
        "id": "z8_3QBP4871e",
        "outputId": "bbadb52b-ff27-4f54-fbb3-06fd2069b2eb"
      },
      "execution_count": 36,
      "outputs": [
        {
          "output_type": "execute_result",
          "data": {
            "text/plain": [
              "'e'"
            ],
            "application/vnd.google.colaboratory.intrinsic+json": {
              "type": "string"
            }
          },
          "metadata": {},
          "execution_count": 36
        }
      ]
    },
    {
      "cell_type": "code",
      "source": [
        "'Hello, world!'[0:5]"
      ],
      "metadata": {
        "colab": {
          "base_uri": "https://localhost:8080/",
          "height": 36
        },
        "id": "Ef1ppkDy8sU2",
        "outputId": "d583722f-5ee9-4ef4-b114-9745cb1a4a35"
      },
      "execution_count": 37,
      "outputs": [
        {
          "output_type": "execute_result",
          "data": {
            "text/plain": [
              "'Hello'"
            ],
            "application/vnd.google.colaboratory.intrinsic+json": {
              "type": "string"
            }
          },
          "metadata": {},
          "execution_count": 37
        }
      ]
    },
    {
      "cell_type": "code",
      "source": [
        "'Hello, world!'[:5]"
      ],
      "metadata": {
        "colab": {
          "base_uri": "https://localhost:8080/",
          "height": 36
        },
        "id": "vmS-kLXd9GDF",
        "outputId": "300829bc-b446-4fbf-c0d4-fdaf2a9f689f"
      },
      "execution_count": 38,
      "outputs": [
        {
          "output_type": "execute_result",
          "data": {
            "text/plain": [
              "'Hello'"
            ],
            "application/vnd.google.colaboratory.intrinsic+json": {
              "type": "string"
            }
          },
          "metadata": {},
          "execution_count": 38
        }
      ]
    },
    {
      "cell_type": "code",
      "source": [
        "'Hello, world!'[3:]"
      ],
      "metadata": {
        "colab": {
          "base_uri": "https://localhost:8080/",
          "height": 36
        },
        "id": "YPnarKSn9Hq2",
        "outputId": "6b4ebeb6-ae25-4ca6-82d8-f8706c39cc5c"
      },
      "execution_count": 39,
      "outputs": [
        {
          "output_type": "execute_result",
          "data": {
            "text/plain": [
              "'lo, world!'"
            ],
            "application/vnd.google.colaboratory.intrinsic+json": {
              "type": "string"
            }
          },
          "metadata": {},
          "execution_count": 39
        }
      ]
    },
    {
      "cell_type": "markdown",
      "source": [
        "# 7. What are the values of the following expressions?\n",
        "# 'Hello'.upper()\n",
        "# 'Hello'.upper().isupper()\n",
        "# 'Hello'.upper().lower() "
      ],
      "metadata": {
        "id": "upODKKf39KzF"
      }
    },
    {
      "cell_type": "code",
      "source": [
        "'Hello'.upper()"
      ],
      "metadata": {
        "colab": {
          "base_uri": "https://localhost:8080/",
          "height": 36
        },
        "id": "eKt5fhnH9WSr",
        "outputId": "962b596b-2732-45f9-8418-5d0d74743413"
      },
      "execution_count": 40,
      "outputs": [
        {
          "output_type": "execute_result",
          "data": {
            "text/plain": [
              "'HELLO'"
            ],
            "application/vnd.google.colaboratory.intrinsic+json": {
              "type": "string"
            }
          },
          "metadata": {},
          "execution_count": 40
        }
      ]
    },
    {
      "cell_type": "code",
      "source": [
        "'Hello'.upper().isupper()"
      ],
      "metadata": {
        "colab": {
          "base_uri": "https://localhost:8080/"
        },
        "id": "1ApMRJVE9ZFe",
        "outputId": "92ceff87-15f1-45ee-eaed-09c3a2584db2"
      },
      "execution_count": 41,
      "outputs": [
        {
          "output_type": "execute_result",
          "data": {
            "text/plain": [
              "True"
            ]
          },
          "metadata": {},
          "execution_count": 41
        }
      ]
    },
    {
      "cell_type": "code",
      "source": [
        "'Hello'.upper().lower()"
      ],
      "metadata": {
        "colab": {
          "base_uri": "https://localhost:8080/",
          "height": 36
        },
        "id": "tzzRR0zh9b5G",
        "outputId": "be9c5a04-b76d-4082-d2f3-7d9151bbca0f"
      },
      "execution_count": 42,
      "outputs": [
        {
          "output_type": "execute_result",
          "data": {
            "text/plain": [
              "'hello'"
            ],
            "application/vnd.google.colaboratory.intrinsic+json": {
              "type": "string"
            }
          },
          "metadata": {},
          "execution_count": 42
        }
      ]
    },
    {
      "cell_type": "markdown",
      "source": [
        "\n",
        "# 8. What are the values of the following expressions?\n",
        "# 'Remember, remember, the fifth of July'.split()\n",
        "# .join('There can only one').split())"
      ],
      "metadata": {
        "id": "iILrgEuw9ke9"
      }
    },
    {
      "cell_type": "code",
      "source": [
        "'Remember, remember, the fifth of November.'.split()\n"
      ],
      "metadata": {
        "colab": {
          "base_uri": "https://localhost:8080/"
        },
        "id": "9JhnEanm9weH",
        "outputId": "86d39d23-3dff-4171-daf0-04da5f93e822"
      },
      "execution_count": 57,
      "outputs": [
        {
          "output_type": "execute_result",
          "data": {
            "text/plain": [
              "['Remember,', 'remember,', 'the', 'fifth', 'of', 'November.']"
            ]
          },
          "metadata": {},
          "execution_count": 57
        }
      ]
    },
    {
      "cell_type": "code",
      "source": [
        "'-'.join('There can be only one.'.split())"
      ],
      "metadata": {
        "colab": {
          "base_uri": "https://localhost:8080/",
          "height": 36
        },
        "id": "Px1_cdTb-WH4",
        "outputId": "a009c33a-7257-4d51-db59-d3261da9ec02"
      },
      "execution_count": 53,
      "outputs": [
        {
          "output_type": "execute_result",
          "data": {
            "text/plain": [
              "'There-can-be-only-one.'"
            ],
            "application/vnd.google.colaboratory.intrinsic+json": {
              "type": "string"
            }
          },
          "metadata": {},
          "execution_count": 53
        }
      ]
    },
    {
      "cell_type": "markdown",
      "source": [
        "# 9. What are the methods for right-justifying, left-justifying, and centering a string?\n"
      ],
      "metadata": {
        "id": "QolQcEEH_S0n"
      }
    },
    {
      "cell_type": "code",
      "source": [
        "string = 'akshay'\n",
        "width=10\n",
        "fillchar=\"%\"\n",
        "\n",
        "string.rjust(width,fillchar)"
      ],
      "metadata": {
        "colab": {
          "base_uri": "https://localhost:8080/",
          "height": 36
        },
        "id": "uncITBjJ_XN2",
        "outputId": "140308db-7b9b-4d83-ea11-a7fb2b64974a"
      },
      "execution_count": 59,
      "outputs": [
        {
          "output_type": "execute_result",
          "data": {
            "text/plain": [
              "'%%%%akshay'"
            ],
            "application/vnd.google.colaboratory.intrinsic+json": {
              "type": "string"
            }
          },
          "metadata": {},
          "execution_count": 59
        }
      ]
    },
    {
      "cell_type": "code",
      "source": [
        "string = 'akshay'\n",
        "width=10\n",
        "fillchar=\"%\"\n",
        "\n",
        "string.ljust(width,fillchar)"
      ],
      "metadata": {
        "colab": {
          "base_uri": "https://localhost:8080/",
          "height": 36
        },
        "id": "dWBZedBf_xkc",
        "outputId": "f0694551-1599-4c84-e628-94da3c911a41"
      },
      "execution_count": 60,
      "outputs": [
        {
          "output_type": "execute_result",
          "data": {
            "text/plain": [
              "'akshay%%%%'"
            ],
            "application/vnd.google.colaboratory.intrinsic+json": {
              "type": "string"
            }
          },
          "metadata": {},
          "execution_count": 60
        }
      ]
    },
    {
      "cell_type": "code",
      "source": [
        "string = 'akshay'\n",
        "width=10\n",
        "fillchar=\"%\"\n",
        "\n",
        "string.center(width,fillchar)"
      ],
      "metadata": {
        "colab": {
          "base_uri": "https://localhost:8080/",
          "height": 36
        },
        "id": "K2UU8Dyv_zls",
        "outputId": "11ef04ee-0060-4f3e-a26e-be40801c3c6b"
      },
      "execution_count": 62,
      "outputs": [
        {
          "output_type": "execute_result",
          "data": {
            "text/plain": [
              "'%%akshay%%'"
            ],
            "application/vnd.google.colaboratory.intrinsic+json": {
              "type": "string"
            }
          },
          "metadata": {},
          "execution_count": 62
        }
      ]
    },
    {
      "cell_type": "markdown",
      "source": [
        "# 10. What is the best way to remove whitespace characters from the start or end?"
      ],
      "metadata": {
        "id": "nISNAuyu1Uvz"
      }
    },
    {
      "cell_type": "code",
      "source": [
        "name='akshay     '"
      ],
      "metadata": {
        "id": "RqRS2k0J_76U"
      },
      "execution_count": 64,
      "outputs": []
    },
    {
      "cell_type": "code",
      "source": [
        "name.strip()  #strip method"
      ],
      "metadata": {
        "colab": {
          "base_uri": "https://localhost:8080/",
          "height": 36
        },
        "id": "SAvNPXxjADv7",
        "outputId": "7c2609d6-1d5f-4589-cd1e-fbfb4e1a0c09"
      },
      "execution_count": 65,
      "outputs": [
        {
          "output_type": "execute_result",
          "data": {
            "text/plain": [
              "'akshay'"
            ],
            "application/vnd.google.colaboratory.intrinsic+json": {
              "type": "string"
            }
          },
          "metadata": {},
          "execution_count": 65
        }
      ]
    }
  ]
}