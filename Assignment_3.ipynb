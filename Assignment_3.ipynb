{
  "nbformat": 4,
  "nbformat_minor": 0,
  "metadata": {
    "colab": {
      "provenance": []
    },
    "kernelspec": {
      "name": "python3",
      "display_name": "Python 3"
    },
    "language_info": {
      "name": "python"
    }
  },
  "cells": [
    {
      "cell_type": "markdown",
      "source": [
        "#1. Why are functions advantageous to have in your programs?\n",
        "\n",
        "###Functions are used to limit the process of writing codes again & again. Therefore it reduces the complexity and can be called multiple times\n"
      ],
      "metadata": {
        "id": "o4IIzFiouOVc"
      }
    },
    {
      "cell_type": "markdown",
      "source": [
        "#2. When does the code in a function run: when it’s specified or when it’s called?\n",
        "###When a function is defined, the function is saved, it is called only when values are provided in the function. So function executed when its called\n"
      ],
      "metadata": {
        "id": "csyMJEhsuUaD"
      }
    },
    {
      "cell_type": "markdown",
      "source": [
        "#3. What statement creates a function?\n",
        "### def\n"
      ],
      "metadata": {
        "id": "q5hiM6iRuXL7"
      }
    },
    {
      "cell_type": "markdown",
      "source": [
        "#4. What is the difference between a function and a function call?"
      ],
      "metadata": {
        "id": "2EMIu461u-z7"
      }
    },
    {
      "cell_type": "code",
      "source": [
        "'''Function is a piece of code we write to perform any function\n",
        "Ex= def fun(a): - This is a function \n",
        "      return a\n",
        "\n",
        "fun(5) – Now the function is called. And 5 is returned as the output'''"
      ],
      "metadata": {
        "id": "Q6XFoqnlu1CV"
      },
      "execution_count": null,
      "outputs": []
    },
    {
      "cell_type": "markdown",
      "source": [
        "#5. How many global scopes are there in a Python program? How many local scopes?\n",
        "\n"
      ],
      "metadata": {
        "id": "WsBw4_Xdug-M"
      }
    },
    {
      "cell_type": "code",
      "source": [
        "'''There are generally 4 types of scopes\n",
        "\n",
        "Local -> Enclosing -> Global -> Built-in\n",
        "\n",
        "\n",
        "A=10\n",
        "\n",
        "def fun(b,c):\n",
        "\tb=10\n",
        "return b*c\n",
        "\n",
        "       \n",
        "In this example A=10 is a global scope\n",
        "Whereas b =10 is a local scope, since it is defined inside a function'''"
      ],
      "metadata": {
        "id": "kyAeq3D_ukx7"
      },
      "execution_count": null,
      "outputs": []
    },
    {
      "cell_type": "markdown",
      "source": [
        "#6. What happens to variables in a local scope when the function call returns?"
      ],
      "metadata": {
        "id": "AY-GuUX0vVHk"
      }
    },
    {
      "cell_type": "code",
      "source": [
        "b=10              # B=10 is the Global scope\n",
        "def fun(b,c):\n",
        "  b=3            # b=30 is the local scope\n",
        "  return b+c\n"
      ],
      "metadata": {
        "id": "FfULU9azvZEM"
      },
      "execution_count": 15,
      "outputs": []
    },
    {
      "cell_type": "code",
      "source": [
        "fun(23,5)  # een though we give different values for b, since its present inside the function, value of b will be considered as 3"
      ],
      "metadata": {
        "colab": {
          "base_uri": "https://localhost:8080/"
        },
        "id": "8ClTGD7gvuhE",
        "outputId": "4ce7ebc0-2e64-4ba5-8bde-04caf1387b54"
      },
      "execution_count": 16,
      "outputs": [
        {
          "output_type": "execute_result",
          "data": {
            "text/plain": [
              "8"
            ]
          },
          "metadata": {},
          "execution_count": 16
        }
      ]
    },
    {
      "cell_type": "markdown",
      "source": [
        "#7. What is the concept of a return value? Is it possible to have a return value in an expression?"
      ],
      "metadata": {
        "id": "t1pdN_rAwcqZ"
      }
    },
    {
      "cell_type": "markdown",
      "source": [
        "Return is used to return the value of a function in a format, such that operations can be performed on it.\n",
        "\n",
        "Whereas we cannot do any operations on the output given by print, because it provides the output in None type"
      ],
      "metadata": {
        "id": "hI3vI4yS0SvL"
      }
    },
    {
      "cell_type": "markdown",
      "source": [
        "# 8. If a function does not have a return statement, what is the return value of a call to that function?"
      ],
      "metadata": {
        "id": "KhC8uBNU00oU"
      }
    },
    {
      "cell_type": "code",
      "source": [
        "def new(a,b):    # it wont return anything \n",
        "  sum=a+b"
      ],
      "metadata": {
        "id": "2RFA24fcwdMr"
      },
      "execution_count": 23,
      "outputs": []
    },
    {
      "cell_type": "markdown",
      "source": [
        "#9. How do you make a function variable refer to the global variable?"
      ],
      "metadata": {
        "id": "OlhAbMMQ1Tl7"
      }
    },
    {
      "cell_type": "code",
      "source": [
        "num=10\n",
        "\n",
        "def new1(a,b):\n",
        "  a=num            #now a is assigned to num. Hence value of a becomes 10\n",
        "  return a+b"
      ],
      "metadata": {
        "id": "bMcc5FFw1FH7"
      },
      "execution_count": 26,
      "outputs": []
    },
    {
      "cell_type": "code",
      "source": [
        "new1(60,7)      # 10+7"
      ],
      "metadata": {
        "colab": {
          "base_uri": "https://localhost:8080/"
        },
        "id": "nao3D9Wj1dbj",
        "outputId": "568d123f-950f-42ca-d3aa-4bbc8bee669d"
      },
      "execution_count": 33,
      "outputs": [
        {
          "output_type": "execute_result",
          "data": {
            "text/plain": [
              "17"
            ]
          },
          "metadata": {},
          "execution_count": 33
        }
      ]
    },
    {
      "cell_type": "markdown",
      "source": [
        "#10. What is the data type of None?"
      ],
      "metadata": {
        "id": "7JxDl_8e1zOE"
      }
    },
    {
      "cell_type": "markdown",
      "source": [
        "It is datatype having no value or null value"
      ],
      "metadata": {
        "id": "kQqgAf7b1-2z"
      }
    },
    {
      "cell_type": "code",
      "source": [
        "type(None)"
      ],
      "metadata": {
        "colab": {
          "base_uri": "https://localhost:8080/"
        },
        "id": "VkOvdGQR1fID",
        "outputId": "510bedeb-d963-432d-df87-eda88ef8d42b"
      },
      "execution_count": 34,
      "outputs": [
        {
          "output_type": "execute_result",
          "data": {
            "text/plain": [
              "NoneType"
            ]
          },
          "metadata": {},
          "execution_count": 34
        }
      ]
    },
    {
      "cell_type": "markdown",
      "source": [
        "#11. What does the sentence import areallyourpetsnamederic do?"
      ],
      "metadata": {
        "id": "DhJBi_z62Ncz"
      }
    },
    {
      "cell_type": "markdown",
      "source": [
        "That import statement imports a module named areallyourpetsnamederi"
      ],
      "metadata": {
        "id": "xJztTmCX2hBT"
      }
    },
    {
      "cell_type": "markdown",
      "source": [
        "#12. If you had a bacon() feature in a spam module, what would you call it after importing spam?"
      ],
      "metadata": {
        "id": "T3zJB78n2iTL"
      }
    },
    {
      "cell_type": "markdown",
      "source": [
        "spam.bacon()"
      ],
      "metadata": {
        "id": "QO1yYHeT2pRT"
      }
    },
    {
      "cell_type": "markdown",
      "source": [
        "#13. What can you do to save a programme from crashing if it encounters an error?"
      ],
      "metadata": {
        "id": "LlbVNY_n2qaB"
      }
    },
    {
      "cell_type": "markdown",
      "source": [
        "Place the line of code that might cause an error in a try clause"
      ],
      "metadata": {
        "id": "IAhQuwEz2qTj"
      }
    },
    {
      "cell_type": "markdown",
      "source": [
        "# 14. What is the purpose of the try clause? What is the purpose of the except clause?"
      ],
      "metadata": {
        "id": "el4LoiZD26wM"
      }
    },
    {
      "cell_type": "markdown",
      "source": [
        "The code that could potentially cause an error goes in the try clause. -The code that executes if an error happens goes in the except clause."
      ],
      "metadata": {
        "id": "CQlNkjqF2_AT"
      }
    }
  ]
}