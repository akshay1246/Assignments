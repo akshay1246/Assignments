{
  "nbformat": 4,
  "nbformat_minor": 0,
  "metadata": {
    "colab": {
      "provenance": []
    },
    "kernelspec": {
      "name": "python3",
      "display_name": "Python 3"
    },
    "language_info": {
      "name": "python"
    }
  },
  "cells": [
    {
      "cell_type": "markdown",
      "source": [
        "#1.What are the two values of the Boolean data type? How do you write them?\n",
        "\n",
        "There are 2 values for Boolean\n",
        "\n",
        "True & False\n",
        "\n",
        "It should start with capital letter"
      ],
      "metadata": {
        "id": "l4Rxsz8Kxq0E"
      }
    },
    {
      "cell_type": "code",
      "source": [
        "A=True\n",
        "B=False\n",
        "print(type(A))\n",
        "print(type(B))"
      ],
      "metadata": {
        "colab": {
          "base_uri": "https://localhost:8080/"
        },
        "id": "MmHHJWxs5sHs",
        "outputId": "905fdcc5-74f5-4c72-c496-020e0bf8802a"
      },
      "execution_count": 42,
      "outputs": [
        {
          "output_type": "stream",
          "name": "stdout",
          "text": [
            "<class 'bool'>\n",
            "<class 'bool'>\n"
          ]
        }
      ]
    },
    {
      "cell_type": "markdown",
      "source": [
        "#2. What are the three different types of Boolean operators?\n",
        "\n",
        "AND\n",
        "\n",
        "OR\n",
        "\n",
        "NOT"
      ],
      "metadata": {
        "id": "B0Bjz1hvx8Wz"
      }
    },
    {
      "cell_type": "markdown",
      "source": [
        "# 3. Make a list of each Boolean operator's truth tables (i.e. every possible combination of Boolean values for the operator and what it evaluate )"
      ],
      "metadata": {
        "id": "trn_yP2syHf0"
      }
    },
    {
      "cell_type": "markdown",
      "source": [
        "#OR Condition\n",
        "Condition1 | Condition2 | Value\n",
        "\n",
        "     True        True        True\n",
        "\n",
        "     True        False       True\n",
        "\n",
        "     False       True        True\n",
        "\n",
        "     False       False       False \n",
        "\n",
        "OR condition gives true when atleast 1 condition is satisfied\n",
        "\n",
        "\n",
        "\n",
        "#AND Condition\n",
        "Condition1 | Condition2 | Value\n",
        "\n",
        "     True        True        True\n",
        "\n",
        "     True        False       False\n",
        "\n",
        "     False       True        False\n",
        "\n",
        "     False       False       False \n",
        "\n",
        "AND condition gives true when both conditions are satisfied\n",
        "\n",
        "\n",
        "#NOT Condition\n",
        " Condition   |      Value\n",
        "\n",
        "     True        False        \n",
        "\n",
        "     False        True      \n",
        "    \n",
        "\n",
        "NOT condition gives the opposite of the statement\n",
        "\n"
      ],
      "metadata": {
        "id": "q_337raeyveM"
      }
    },
    {
      "cell_type": "code",
      "source": [
        "#OR\n",
        "\n",
        "a=10\n",
        "b=5\n",
        "\n",
        "if a>5 or b<3:\n",
        "  print('Yes')  #a>5 is satisified where as b<3 is not satisfied.  \n",
        "else:\n",
        "  print('No') "
      ],
      "metadata": {
        "colab": {
          "base_uri": "https://localhost:8080/"
        },
        "id": "tDwZxkrLzYLs",
        "outputId": "0af5a8db-0ca3-4fe9-eac4-29206a40f186"
      },
      "execution_count": 5,
      "outputs": [
        {
          "output_type": "stream",
          "name": "stdout",
          "text": [
            "Yes\n"
          ]
        }
      ]
    },
    {
      "cell_type": "code",
      "source": [
        "#AND\n",
        "\n",
        "a=10\n",
        "b=5\n",
        "\n",
        "if a>5 and b<3:\n",
        "  print('Yes')\n",
        "else:\n",
        "  print('No') #a>5 is satisified where as b<3 is not satisfied.  AND requires both condition to be satisifed"
      ],
      "metadata": {
        "colab": {
          "base_uri": "https://localhost:8080/"
        },
        "id": "-dUcr1KMycIq",
        "outputId": "8e226d9d-0489-4a99-aa65-a1adb2ea69ed"
      },
      "execution_count": 7,
      "outputs": [
        {
          "output_type": "stream",
          "name": "stdout",
          "text": [
            "No\n"
          ]
        }
      ]
    },
    {
      "cell_type": "code",
      "source": [
        "#NOT\n",
        "\n",
        "a=10\n",
        "b=5\n",
        "\n",
        "if a is not b:\n",
        "  print('a and b are different') \n",
        "else:\n",
        "  print('a and b are same')"
      ],
      "metadata": {
        "colab": {
          "base_uri": "https://localhost:8080/"
        },
        "id": "PSoOyDG2z6Sk",
        "outputId": "3e0adbca-576f-4c3e-8403-8fe340739d4e"
      },
      "execution_count": 8,
      "outputs": [
        {
          "output_type": "stream",
          "name": "stdout",
          "text": [
            "a and b are different\n"
          ]
        }
      ]
    },
    {
      "cell_type": "markdown",
      "source": [
        "#4. What are the values of the following expressions?\n"
      ],
      "metadata": {
        "id": "v6cyq3bF0Qk0"
      }
    },
    {
      "cell_type": "code",
      "source": [
        "(5 > 4) and (3 == 5) \n",
        "\n",
        "#False\n"
      ],
      "metadata": {
        "colab": {
          "base_uri": "https://localhost:8080/"
        },
        "id": "Izy8zLgZ0VHL",
        "outputId": "525235f0-ad01-45b1-d071-af686083df72"
      },
      "execution_count": 9,
      "outputs": [
        {
          "output_type": "execute_result",
          "data": {
            "text/plain": [
              "False"
            ]
          },
          "metadata": {},
          "execution_count": 9
        }
      ]
    },
    {
      "cell_type": "code",
      "source": [
        "not (5 > 4)\n",
        "\n",
        "#False\n"
      ],
      "metadata": {
        "colab": {
          "base_uri": "https://localhost:8080/"
        },
        "id": "GpEPQUgd0Ya0",
        "outputId": "21d586ed-01bb-45bf-c480-2980a7f6aca4"
      },
      "execution_count": 10,
      "outputs": [
        {
          "output_type": "execute_result",
          "data": {
            "text/plain": [
              "False"
            ]
          },
          "metadata": {},
          "execution_count": 10
        }
      ]
    },
    {
      "cell_type": "code",
      "source": [
        "(5 > 4) or (3 == 5)\n",
        "\n",
        "#True\n"
      ],
      "metadata": {
        "colab": {
          "base_uri": "https://localhost:8080/"
        },
        "id": "DRQ7PKog0ZS0",
        "outputId": "88d0b88a-1bdd-4275-8c29-6d546441b5a1"
      },
      "execution_count": 11,
      "outputs": [
        {
          "output_type": "execute_result",
          "data": {
            "text/plain": [
              "True"
            ]
          },
          "metadata": {},
          "execution_count": 11
        }
      ]
    },
    {
      "cell_type": "code",
      "source": [
        "not ((5 > 4) or (3 == 5))\n",
        "\n",
        "#False"
      ],
      "metadata": {
        "colab": {
          "base_uri": "https://localhost:8080/"
        },
        "id": "H6MVCPJl0aOc",
        "outputId": "61b76518-4829-47ae-c0d9-96c853f719d8"
      },
      "execution_count": 12,
      "outputs": [
        {
          "output_type": "execute_result",
          "data": {
            "text/plain": [
              "False"
            ]
          },
          "metadata": {},
          "execution_count": 12
        }
      ]
    },
    {
      "cell_type": "code",
      "source": [
        "(True and True) and (True == False)\n",
        "#False"
      ],
      "metadata": {
        "colab": {
          "base_uri": "https://localhost:8080/"
        },
        "id": "_gqKeU7c0bFE",
        "outputId": "8f5ee2d3-b4fc-4400-cee2-5cd87c66be84"
      },
      "execution_count": 13,
      "outputs": [
        {
          "output_type": "execute_result",
          "data": {
            "text/plain": [
              "False"
            ]
          },
          "metadata": {},
          "execution_count": 13
        }
      ]
    },
    {
      "cell_type": "code",
      "source": [
        "(not False) or (not True)\n",
        "\n",
        "#True"
      ],
      "metadata": {
        "colab": {
          "base_uri": "https://localhost:8080/"
        },
        "id": "uCVv45Wg0b4k",
        "outputId": "ffedf26d-77af-49e6-b603-5f209a2ddd20"
      },
      "execution_count": 14,
      "outputs": [
        {
          "output_type": "execute_result",
          "data": {
            "text/plain": [
              "True"
            ]
          },
          "metadata": {},
          "execution_count": 14
        }
      ]
    },
    {
      "cell_type": "markdown",
      "source": [
        "#5. What are the six comparison operators?"
      ],
      "metadata": {
        "id": "nmlPpvL401YL"
      }
    },
    {
      "cell_type": "markdown",
      "source": [
        "'=' : Equal to\n",
        "\n",
        "'!=' : Not equal to\n",
        "\n",
        "'>': Greater than\n",
        "\n",
        "'<': Lesser than \n",
        "\n",
        "'>=' : Greater than or equal to\n",
        "\n",
        "'<=': Lesser than or equal to\n"
      ],
      "metadata": {
        "id": "yeJ3v8vd1OcF"
      }
    },
    {
      "cell_type": "markdown",
      "source": [
        "#6. How do you tell the difference between the equal to and assignment operators?Describe a condition and when you would use one."
      ],
      "metadata": {
        "id": "Zd5TA9x91Umi"
      }
    },
    {
      "cell_type": "code",
      "source": [
        "a=10\n",
        "b=15\n",
        "\n",
        "#Here were are assigning values to variables a and b using '='\n",
        "\n",
        "\n",
        "#now we are using 'equal' condition to check whether the variables are same or not\n",
        "if a==b:\n",
        "  print('numbers are equal')\n",
        "else:\n",
        "  print('numbers are not equal')"
      ],
      "metadata": {
        "colab": {
          "base_uri": "https://localhost:8080/"
        },
        "id": "t4WJfirE1WLz",
        "outputId": "48058000-eef9-43f5-f6dd-2ff9f805a9e1"
      },
      "execution_count": 17,
      "outputs": [
        {
          "output_type": "stream",
          "name": "stdout",
          "text": [
            "numbers are not equal\n"
          ]
        }
      ]
    },
    {
      "cell_type": "markdown",
      "source": [
        "#7. Identify the three blocks in this code: \n"
      ],
      "metadata": {
        "id": "dcTSV51Y17jj"
      }
    },
    {
      "cell_type": "code",
      "source": [
        "spam = 0\n",
        "\n",
        "if spam == 10:\n",
        "print('eggs')     #first block - indentation error\n",
        "if spam > 5:      \n",
        "print('bacon')    #second block - indentation error\n",
        "else:\n",
        "print('ham')       #third block - indentation error\n",
        "print('spam')\n",
        "print('spam')"
      ],
      "metadata": {
        "colab": {
          "base_uri": "https://localhost:8080/",
          "height": 134
        },
        "id": "FN3Y7Lxs2Jmr",
        "outputId": "75cc8658-c66b-4ddc-8c91-f151ab898e21"
      },
      "execution_count": 18,
      "outputs": [
        {
          "output_type": "error",
          "ename": "IndentationError",
          "evalue": "ignored",
          "traceback": [
            "\u001b[0;36m  File \u001b[0;32m\"<ipython-input-18-ef243303af7c>\"\u001b[0;36m, line \u001b[0;32m4\u001b[0m\n\u001b[0;31m    print('eggs')     #first block - indentation error\u001b[0m\n\u001b[0m        ^\u001b[0m\n\u001b[0;31mIndentationError\u001b[0m\u001b[0;31m:\u001b[0m expected an indented block\n"
          ]
        }
      ]
    },
    {
      "cell_type": "code",
      "source": [
        "#correct way of writing\n",
        "\n",
        "spam = 0\n",
        "\n",
        "if spam == 10:\n",
        "  print('eggs')     \n",
        "if spam > 5:   \n",
        "     print('bacon')    \n",
        "else:\n",
        "  print('ham')       \n",
        "  print('spam')\n",
        "  print('spam')"
      ],
      "metadata": {
        "colab": {
          "base_uri": "https://localhost:8080/"
        },
        "id": "pa0Zo0ay2aMr",
        "outputId": "93dda593-be42-4690-cada-4fe916e3a967"
      },
      "execution_count": 20,
      "outputs": [
        {
          "output_type": "stream",
          "name": "stdout",
          "text": [
            "ham\n",
            "spam\n",
            "spam\n"
          ]
        }
      ]
    },
    {
      "cell_type": "markdown",
      "source": [
        "#8. Write code that prints Hello if 1 is stored in spam, prints Howdy if 2 is stored in spam, and prints Greetings! if anything else is stored in spam."
      ],
      "metadata": {
        "id": "RCh178mm2qh7"
      }
    },
    {
      "cell_type": "code",
      "source": [
        "spam=int(input('Enter your number:'))\n",
        "\n",
        "\n",
        "if spam==1:\n",
        "  print('Hello')\n",
        "elif spam==2:\n",
        "  print('Howdy')\n",
        "else:\n",
        "  print('Greetings!')"
      ],
      "metadata": {
        "colab": {
          "base_uri": "https://localhost:8080/"
        },
        "id": "jbHAQHMw2s_8",
        "outputId": "4331bdc5-b64c-468e-a176-d221a03babc1"
      },
      "execution_count": 44,
      "outputs": [
        {
          "output_type": "stream",
          "name": "stdout",
          "text": [
            "Enter your number2\n",
            "Howdy\n"
          ]
        }
      ]
    },
    {
      "cell_type": "markdown",
      "source": [
        "#9.If your programme is stuck in an endless loop, what keys you’ll press?\n",
        "\n",
        "Click on the function execution cell to stop it"
      ],
      "metadata": {
        "id": "F9nYni5J3KnQ"
      }
    },
    {
      "cell_type": "markdown",
      "source": [
        "#10. How can you tell the difference between break and continue?"
      ],
      "metadata": {
        "id": "QfwsMFM331QE"
      }
    },
    {
      "cell_type": "code",
      "source": [
        "for i in range(0,5):\n",
        "  if i==3:\n",
        "    break\n",
        "  print(i) #break statment breaks the loop"
      ],
      "metadata": {
        "colab": {
          "base_uri": "https://localhost:8080/"
        },
        "id": "GzJ9AEv332Rb",
        "outputId": "7f492356-0067-423d-a49b-5cb324323bad"
      },
      "execution_count": 29,
      "outputs": [
        {
          "output_type": "stream",
          "name": "stdout",
          "text": [
            "0\n",
            "1\n",
            "2\n"
          ]
        }
      ]
    },
    {
      "cell_type": "code",
      "source": [
        "for i in range(0,5):\n",
        "  if i==3:\n",
        "    continue\n",
        "  print(i) #continue statment ignores the condition given (3 is ignored) and the loop starts again"
      ],
      "metadata": {
        "colab": {
          "base_uri": "https://localhost:8080/"
        },
        "id": "emHZBFin4fNj",
        "outputId": "65fb32e1-1ec8-4d8d-a97d-f5483bab61dc"
      },
      "execution_count": 30,
      "outputs": [
        {
          "output_type": "stream",
          "name": "stdout",
          "text": [
            "0\n",
            "1\n",
            "2\n",
            "4\n"
          ]
        }
      ]
    },
    {
      "cell_type": "markdown",
      "source": [
        "#11. In a for loop, what is the difference between range(10), range(0, 10), and range(0, 10, 1)?"
      ],
      "metadata": {
        "id": "xitYUziu4sLI"
      }
    },
    {
      "cell_type": "code",
      "source": [
        "for i in range(10):\n",
        "  print(i)                 #all are same"
      ],
      "metadata": {
        "colab": {
          "base_uri": "https://localhost:8080/"
        },
        "id": "0YAF1he34t_r",
        "outputId": "762bce5d-ff7a-4bd2-c856-c3b8a61d87f9"
      },
      "execution_count": 32,
      "outputs": [
        {
          "output_type": "stream",
          "name": "stdout",
          "text": [
            "0\n",
            "1\n",
            "2\n",
            "3\n",
            "4\n",
            "5\n",
            "6\n",
            "7\n",
            "8\n",
            "9\n"
          ]
        }
      ]
    },
    {
      "cell_type": "code",
      "source": [
        "for i in range(0,10):\n",
        "  print(i)\n"
      ],
      "metadata": {
        "colab": {
          "base_uri": "https://localhost:8080/"
        },
        "id": "H6JJWwP948o0",
        "outputId": "742d76a1-121c-4962-c714-75d84ca3c3cf"
      },
      "execution_count": 33,
      "outputs": [
        {
          "output_type": "stream",
          "name": "stdout",
          "text": [
            "0\n",
            "1\n",
            "2\n",
            "3\n",
            "4\n",
            "5\n",
            "6\n",
            "7\n",
            "8\n",
            "9\n"
          ]
        }
      ]
    },
    {
      "cell_type": "code",
      "source": [
        "for i in range(0,10,1): \n",
        "  print(i)"
      ],
      "metadata": {
        "colab": {
          "base_uri": "https://localhost:8080/"
        },
        "id": "-HlkXjH-49aK",
        "outputId": "528b9834-52c5-4b64-fb1a-2f5fd692c42c"
      },
      "execution_count": 34,
      "outputs": [
        {
          "output_type": "stream",
          "name": "stdout",
          "text": [
            "0\n",
            "1\n",
            "2\n",
            "3\n",
            "4\n",
            "5\n",
            "6\n",
            "7\n",
            "8\n",
            "9\n"
          ]
        }
      ]
    },
    {
      "cell_type": "markdown",
      "source": [
        "#12. Write a short program that prints the numbers 1 to 10 using a for loop. Then write an equivalent program that prints the numbers 1 to 10 using a while loop."
      ],
      "metadata": {
        "id": "lGMjPYlu5H6K"
      }
    },
    {
      "cell_type": "code",
      "source": [
        "for i in range(11):\n",
        "  print(i)"
      ],
      "metadata": {
        "colab": {
          "base_uri": "https://localhost:8080/"
        },
        "id": "OUZCXlOh5JIj",
        "outputId": "e60352a9-adda-4afb-8cc7-9a80cdc4513b"
      },
      "execution_count": 39,
      "outputs": [
        {
          "output_type": "stream",
          "name": "stdout",
          "text": [
            "0\n",
            "1\n",
            "2\n",
            "3\n",
            "4\n",
            "5\n",
            "6\n",
            "7\n",
            "8\n",
            "9\n",
            "10\n"
          ]
        }
      ]
    },
    {
      "cell_type": "code",
      "source": [
        "i=0\n",
        "N=10\n",
        "\n",
        "while i<=N:\n",
        "  print(i)\n",
        "  i=i+1"
      ],
      "metadata": {
        "colab": {
          "base_uri": "https://localhost:8080/"
        },
        "id": "njkijzIp5NR6",
        "outputId": "bdd6e8eb-c466-4887-d30f-fe90ec1bd2ae"
      },
      "execution_count": 40,
      "outputs": [
        {
          "output_type": "stream",
          "name": "stdout",
          "text": [
            "0\n",
            "1\n",
            "2\n",
            "3\n",
            "4\n",
            "5\n",
            "6\n",
            "7\n",
            "8\n",
            "9\n",
            "10\n"
          ]
        }
      ]
    },
    {
      "cell_type": "markdown",
      "source": [
        "\n",
        "#13. If you had a function named bacon() inside a module named spam, how would you call it after importing spam?\n",
        "\n",
        "This function can be called with spam.bacon()\n",
        "\n"
      ],
      "metadata": {
        "id": "nXGJ3Jhtxpjl"
      }
    }
  ]
}