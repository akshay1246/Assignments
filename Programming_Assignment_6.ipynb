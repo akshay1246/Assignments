{
  "nbformat": 4,
  "nbformat_minor": 0,
  "metadata": {
    "colab": {
      "provenance": []
    },
    "kernelspec": {
      "name": "python3",
      "display_name": "Python 3"
    },
    "language_info": {
      "name": "python"
    }
  },
  "cells": [
    {
      "cell_type": "markdown",
      "source": [
        "#1. Write a Python Program to Display Fibonacci Sequence Using Recursion?"
      ],
      "metadata": {
        "id": "aL9_Bmtihj2F"
      }
    },
    {
      "cell_type": "code",
      "execution_count": 17,
      "metadata": {
        "colab": {
          "base_uri": "https://localhost:8080/"
        },
        "id": "fshNrsCZhdFA",
        "outputId": "6bd4b3b8-4f8b-472b-a1e2-fa78ea4b6179"
      },
      "outputs": [
        {
          "output_type": "stream",
          "name": "stdout",
          "text": [
            "Fibonacci sequence:\n",
            "0\n",
            "1\n",
            "1\n",
            "2\n",
            "3\n",
            "5\n",
            "8\n",
            "13\n",
            "21\n",
            "34\n"
          ]
        }
      ],
      "source": [
        "def fibo(n):\n",
        "   if n <= 1:\n",
        "       return n\n",
        "   else:\n",
        "       return(fibo(n-1) + fibo(n-2))\n",
        "\n",
        "\n",
        "num=10\n",
        "if num <= 0:\n",
        "   print(\"Plese enter a positive integer\")\n",
        "else:\n",
        "   print(\"Fibonacci sequence:\")\n",
        "   for i in range(num):\n",
        "       print(fibo(i))"
      ]
    },
    {
      "cell_type": "markdown",
      "source": [
        "#2. Write a Python Program to Find Factorial of Number Using Recursion?\n"
      ],
      "metadata": {
        "id": "hJjLbflihiAf"
      }
    },
    {
      "cell_type": "code",
      "source": [
        "\n",
        "def factorial(x):\n",
        "\n",
        "    if x == 1:\n",
        "        return 1\n",
        "    else:\n",
        "   \n",
        "        return (x * factorial(x-1))\n",
        "\n",
        "\n",
        "\n",
        "num = 10\n",
        "\n",
        "result = factorial(num)\n",
        "\n",
        "print(\"The factorial of\", num, \"is\", result)"
      ],
      "metadata": {
        "colab": {
          "base_uri": "https://localhost:8080/"
        },
        "id": "jKE2uympjyA9",
        "outputId": "5965af1e-2f96-4fcd-dce1-e8712a33fdbd"
      },
      "execution_count": 20,
      "outputs": [
        {
          "output_type": "stream",
          "name": "stdout",
          "text": [
            "The factorial of 10 is 3628800\n"
          ]
        }
      ]
    },
    {
      "cell_type": "markdown",
      "source": [
        "#3. Write a Python Program to calculate your Body Mass Index?"
      ],
      "metadata": {
        "id": "F6KhjaKCkULt"
      }
    },
    {
      "cell_type": "code",
      "source": [
        "height =float(input('Please enter your height in cm:'))\n",
        "weight =float(input('Please enter your weight in kg:'))\n",
        "\n",
        "BMI= weight/ (height/100)**2\n",
        "\n",
        "print(f'Your BMI value is {BMI}')\n",
        "\n",
        "if BMI <= 18.5:  \n",
        "    print(\"You are underweight\")  \n",
        "elif BMI <= 24.9:  \n",
        "    print(\"You are healthy\")  \n",
        "elif BMI <= 29.9:  \n",
        "    print(\"You are over weight\")  \n",
        "else:  \n",
        "  print(\"You are obese\")\n",
        "  "
      ],
      "metadata": {
        "colab": {
          "base_uri": "https://localhost:8080/"
        },
        "id": "ZojPNmKgkngG",
        "outputId": "bfe22034-350d-4795-903c-f51d273108f2"
      },
      "execution_count": 26,
      "outputs": [
        {
          "output_type": "stream",
          "name": "stdout",
          "text": [
            "Please enter your height in cm:165\n",
            "Please enter your weight in kg:70\n",
            "Your BMI value is 25.71166207529844\n",
            "You are over weight\n"
          ]
        }
      ]
    },
    {
      "cell_type": "markdown",
      "source": [
        "#4. Write a Python Program to calculate the natural logarithm of any number?"
      ],
      "metadata": {
        "id": "IKL-xPh0lkmd"
      }
    },
    {
      "cell_type": "code",
      "source": [
        "import math "
      ],
      "metadata": {
        "id": "WWJNfKxBloZ9"
      },
      "execution_count": 27,
      "outputs": []
    },
    {
      "cell_type": "code",
      "source": [
        "num=int(input('Enter a integer:'))\n",
        "\n",
        "print('The natural log of', num, 'is', math.log(num))"
      ],
      "metadata": {
        "colab": {
          "base_uri": "https://localhost:8080/"
        },
        "id": "GeT3MvvPl1jl",
        "outputId": "0e9ec93c-a1b5-4568-e22e-6210e7f7d42a"
      },
      "execution_count": 31,
      "outputs": [
        {
          "output_type": "stream",
          "name": "stdout",
          "text": [
            "Enter a integer:56\n",
            "The natural log of 56 is 4.02535169073515\n"
          ]
        }
      ]
    },
    {
      "cell_type": "markdown",
      "source": [
        "#5. Write a Python Program for cube sum of first n natural numbers?"
      ],
      "metadata": {
        "id": "4fEccE36jwMs"
      }
    },
    {
      "cell_type": "code",
      "source": [
        "num=10\n",
        "sum=0\n",
        "i=0\n",
        "\n",
        "while i<=num:\n",
        "  sum=sum+(i**3)\n",
        "  i=i+1\n",
        "print(sum)"
      ],
      "metadata": {
        "colab": {
          "base_uri": "https://localhost:8080/"
        },
        "id": "uDwef7sIh9EF",
        "outputId": "1fbcff31-c40e-4c8e-9b0c-499e219529ba"
      },
      "execution_count": 48,
      "outputs": [
        {
          "output_type": "stream",
          "name": "stdout",
          "text": [
            "3025\n"
          ]
        }
      ]
    }
  ]
}