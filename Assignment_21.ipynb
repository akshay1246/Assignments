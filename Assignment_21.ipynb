{
  "cells": [
    {
      "cell_type": "markdown",
      "id": "liberal-account",
      "metadata": {
        "id": "liberal-account"
      },
      "source": [
        "1. Add the current date to the text file today.txt as a string.\n",
        "\n",
        "- Answer -\n",
        "    \n",
        ">\n",
        "\n",
        "    \n"
      ]
    },
    {
      "cell_type": "code",
      "execution_count": 4,
      "id": "385311f2",
      "metadata": {
        "id": "385311f2"
      },
      "outputs": [],
      "source": [
        "from datetime import date\n",
        "now = date.today()\n",
        "now_str = now.isoformat()\n",
        "with open('today.txt', 'wt') as output:\n",
        "    print(now_str, file=output)"
      ]
    },
    {
      "cell_type": "markdown",
      "id": "sharing-council",
      "metadata": {
        "id": "sharing-council"
      },
      "source": [
        "2.  Read the text file today.txt into the string today_string\n",
        "\n",
        "- Answer -\n",
        "    \n",
        ">\n",
        "\n",
        "    \n"
      ]
    },
    {
      "cell_type": "code",
      "execution_count": 5,
      "id": "2dbd0a81",
      "metadata": {
        "colab": {
          "base_uri": "https://localhost:8080/",
          "height": 36
        },
        "id": "2dbd0a81",
        "outputId": "e7fefb6d-545b-47de-a685-3da451fe6f09"
      },
      "outputs": [
        {
          "output_type": "execute_result",
          "data": {
            "text/plain": [
              "'2023-01-09\\n'"
            ],
            "application/vnd.google.colaboratory.intrinsic+json": {
              "type": "string"
            }
          },
          "metadata": {},
          "execution_count": 5
        }
      ],
      "source": [
        "with open('today.txt', 'rt') as input:\n",
        "    today_string = input.read()\n",
        "    \n",
        "today_string"
      ]
    },
    {
      "cell_type": "markdown",
      "id": "acute-talent",
      "metadata": {
        "id": "acute-talent"
      },
      "source": [
        "3.  Parse the date from today_string.\n",
        "\n",
        "    \n",
        "\n",
        "    \n"
      ]
    },
    {
      "cell_type": "code",
      "execution_count": 6,
      "id": "52c6cab3",
      "metadata": {
        "colab": {
          "base_uri": "https://localhost:8080/"
        },
        "id": "52c6cab3",
        "outputId": "f050205e-dc96-4fa1-85a8-dde22b3df291"
      },
      "outputs": [
        {
          "output_type": "execute_result",
          "data": {
            "text/plain": [
              "datetime.datetime(2023, 1, 9, 0, 0)"
            ]
          },
          "metadata": {},
          "execution_count": 6
        }
      ],
      "source": [
        "from datetime import datetime\n",
        "fmt = '%Y-%m-%d\\n'\n",
        "datetime.strptime(today_string, fmt)"
      ]
    },
    {
      "cell_type": "markdown",
      "id": "outdoor-setup",
      "metadata": {
        "id": "outdoor-setup"
      },
      "source": [
        "4. List the files in your current directory\n",
        "    \n"
      ]
    },
    {
      "cell_type": "code",
      "execution_count": 7,
      "id": "5f61e860",
      "metadata": {
        "colab": {
          "base_uri": "https://localhost:8080/"
        },
        "id": "5f61e860",
        "outputId": "b057790c-cbc1-4803-f60d-abc1f6bc10b7"
      },
      "outputs": [
        {
          "output_type": "execute_result",
          "data": {
            "text/plain": [
              "['.config', 'today.txt', 'sample_data']"
            ]
          },
          "metadata": {},
          "execution_count": 7
        }
      ],
      "source": [
        "import os\n",
        "os.listdir('.')"
      ]
    },
    {
      "cell_type": "markdown",
      "id": "caring-viewer",
      "metadata": {
        "id": "caring-viewer"
      },
      "source": [
        "5. Create a list of all of the files in your parent directory (minimum five files should be available).\n",
        "\n",
        "\n",
        "\n",
        "    \n"
      ]
    },
    {
      "cell_type": "code",
      "execution_count": 8,
      "id": "d51a2327",
      "metadata": {
        "colab": {
          "base_uri": "https://localhost:8080/"
        },
        "id": "d51a2327",
        "outputId": "f0442873-e723-4bca-af20-1ddd12cffdf8"
      },
      "outputs": [
        {
          "output_type": "execute_result",
          "data": {
            "text/plain": [
              "['opt',\n",
              " 'proc',\n",
              " 'etc',\n",
              " 'sys',\n",
              " 'usr',\n",
              " 'home',\n",
              " 'boot',\n",
              " 'root',\n",
              " 'srv',\n",
              " 'bin',\n",
              " 'lib64',\n",
              " 'var',\n",
              " 'lib',\n",
              " 'run',\n",
              " 'dev',\n",
              " 'mnt',\n",
              " 'sbin',\n",
              " 'media',\n",
              " 'tmp',\n",
              " 'content',\n",
              " '.dockerenv',\n",
              " 'tools',\n",
              " 'datalab',\n",
              " 'lib32',\n",
              " 'python-apt',\n",
              " 'NGC-DL-CONTAINER-LICENSE']"
            ]
          },
          "metadata": {},
          "execution_count": 8
        }
      ],
      "source": [
        "os.listdir('..')"
      ]
    },
    {
      "cell_type": "markdown",
      "id": "complimentary-cabinet",
      "metadata": {
        "id": "complimentary-cabinet"
      },
      "source": [
        "6. Use multiprocessing to create three separate processes. Make each one wait a random number of seconds between one and five, print the current time, and then exit.\n",
        "\n",
        "\n",
        "    \n"
      ]
    },
    {
      "cell_type": "code",
      "execution_count": 9,
      "id": "45070fb0",
      "metadata": {
        "colab": {
          "base_uri": "https://localhost:8080/"
        },
        "id": "45070fb0",
        "outputId": "cf68cba6-2f53-4aee-e941-f867b7f29563"
      },
      "outputs": [
        {
          "output_type": "stream",
          "name": "stdout",
          "text": [
            "python3: can't open file 'multi_process.py': [Errno 2] No such file or directory\n"
          ]
        }
      ],
      "source": [
        "!python multi_process.py"
      ]
    },
    {
      "cell_type": "markdown",
      "id": "special-graduation",
      "metadata": {
        "id": "special-graduation"
      },
      "source": [
        "7.  Create a date object of your day of birth.\n",
        "\n",
        "\n",
        "    \n"
      ]
    },
    {
      "cell_type": "code",
      "execution_count": 10,
      "id": "d013f197",
      "metadata": {
        "colab": {
          "base_uri": "https://localhost:8080/"
        },
        "id": "d013f197",
        "outputId": "e951e28b-90cc-4c56-821b-49c06ccda6e6"
      },
      "outputs": [
        {
          "output_type": "execute_result",
          "data": {
            "text/plain": [
              "datetime.date(1996, 4, 12)"
            ]
          },
          "metadata": {},
          "execution_count": 10
        }
      ],
      "source": [
        "my_day = date(1996, 4, 12)\n",
        "my_day"
      ]
    },
    {
      "cell_type": "markdown",
      "id": "conscious-adult",
      "metadata": {
        "id": "conscious-adult"
      },
      "source": [
        "8. What day of the week was your day of birth?\n",
        "\n",
        "Friday\n",
        "    \n"
      ]
    },
    {
      "cell_type": "code",
      "execution_count": 11,
      "id": "128027e4",
      "metadata": {
        "colab": {
          "base_uri": "https://localhost:8080/"
        },
        "id": "128027e4",
        "outputId": "d2971b04-b2da-4f8b-c767-68f15fc888e2"
      },
      "outputs": [
        {
          "output_type": "execute_result",
          "data": {
            "text/plain": [
              "4"
            ]
          },
          "metadata": {},
          "execution_count": 11
        }
      ],
      "source": [
        "my_day.weekday()"
      ]
    },
    {
      "cell_type": "code",
      "execution_count": 12,
      "id": "7c73532a",
      "metadata": {
        "colab": {
          "base_uri": "https://localhost:8080/"
        },
        "id": "7c73532a",
        "outputId": "48bee72f-7667-4886-f9f1-e121aa9f28d7"
      },
      "outputs": [
        {
          "output_type": "execute_result",
          "data": {
            "text/plain": [
              "5"
            ]
          },
          "metadata": {},
          "execution_count": 12
        }
      ],
      "source": [
        "my_day.isoweekday()"
      ]
    },
    {
      "cell_type": "markdown",
      "id": "dynamic-madison",
      "metadata": {
        "id": "dynamic-madison"
      },
      "source": [
        "9.  When will you be (or when were you) 10,000 days old?\n",
        "\n",
        "\n",
        "    \n"
      ]
    },
    {
      "cell_type": "code",
      "execution_count": 13,
      "id": "e1736c7a",
      "metadata": {
        "colab": {
          "base_uri": "https://localhost:8080/"
        },
        "id": "e1736c7a",
        "outputId": "ecb40625-cf98-47a6-a250-929c5f85ab2f"
      },
      "outputs": [
        {
          "output_type": "execute_result",
          "data": {
            "text/plain": [
              "datetime.date(2023, 8, 29)"
            ]
          },
          "metadata": {},
          "execution_count": 13
        }
      ],
      "source": [
        "from datetime import timedelta\n",
        "ten_thousand = my_day + timedelta(days=10000)\n",
        "ten_thousand"
      ]
    }
  ],
  "metadata": {
    "kernelspec": {
      "display_name": "Python 3",
      "language": "python",
      "name": "python3"
    },
    "language_info": {
      "codemirror_mode": {
        "name": "ipython",
        "version": 3
      },
      "file_extension": ".py",
      "mimetype": "text/x-python",
      "name": "python",
      "nbconvert_exporter": "python",
      "pygments_lexer": "ipython3",
      "version": "3.8.8"
    },
    "toc": {
      "base_numbering": 1,
      "nav_menu": {},
      "number_sections": true,
      "sideBar": true,
      "skip_h1_title": false,
      "title_cell": "Table of Contents",
      "title_sidebar": "Contents",
      "toc_cell": false,
      "toc_position": {},
      "toc_section_display": true,
      "toc_window_display": false
    },
    "colab": {
      "provenance": []
    }
  },
  "nbformat": 4,
  "nbformat_minor": 5
}