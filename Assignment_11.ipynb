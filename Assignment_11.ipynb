{
  "nbformat": 4,
  "nbformat_minor": 0,
  "metadata": {
    "colab": {
      "provenance": []
    },
    "kernelspec": {
      "name": "python3",
      "display_name": "Python 3"
    },
    "language_info": {
      "name": "python"
    }
  },
  "cells": [
    {
      "cell_type": "markdown",
      "source": [
        "1. Create an assert statement that throws an AssertionError if the variable spam is a negative\n",
        "integer."
      ],
      "metadata": {
        "id": "TfmysYBdT9p7"
      }
    },
    {
      "cell_type": "markdown",
      "source": [
        "assert spam < 0, 'The spam variable is a negative integer"
      ],
      "metadata": {
        "id": "fVEj3UNVULRA"
      }
    },
    {
      "cell_type": "markdown",
      "source": [
        "2. Write an assert statement that triggers an AssertionError if the variables eggs and bacon contain\n",
        "strings that are the same as each other, even if their cases are different (that is, &#39;hello&#39; and &#39;hello&#39; are\n",
        "considered the same, and &#39;goodbye&#39; and &#39;GOODbye&#39; are also considered the same)."
      ],
      "metadata": {
        "id": "4fJbWKmjT_tR"
      }
    },
    {
      "cell_type": "markdown",
      "source": [
        "assert eggs.lower() != bacon.lower(), 'The eggs and bacon variables are the same!' or assert eggs.upper() != bacon.upper(), 'The eggs and bacon variables are the same!'"
      ],
      "metadata": {
        "id": "uKSx7Ej8URdq"
      }
    },
    {
      "cell_type": "markdown",
      "source": [
        "3. Create an assert statement that throws an AssertionError every time."
      ],
      "metadata": {
        "id": "c9MDUwRwUXXq"
      }
    },
    {
      "cell_type": "markdown",
      "source": [
        "assert False, 'This assertion always triggers.'"
      ],
      "metadata": {
        "id": "NS3-mXLIUepB"
      }
    },
    {
      "cell_type": "markdown",
      "source": [
        "\n",
        "4. What are the two lines that must be present in your software in order to call logging.debug()?"
      ],
      "metadata": {
        "id": "ACaO6YY-UnNh"
      }
    },
    {
      "cell_type": "code",
      "source": [
        "import logging\n",
        "logging.basicConfig(level=logging.DEBUG, format=' %(asctime)s -\n",
        "%(levelname)s - %(message)s')"
      ],
      "metadata": {
        "id": "UC2W_KFnUo05"
      },
      "execution_count": null,
      "outputs": []
    },
    {
      "cell_type": "markdown",
      "source": [
        "\n",
        "5. What are the two lines that your program must have in order to have logging.debug() send a\n",
        "logging message to a file named programLog.txt?"
      ],
      "metadata": {
        "id": "xz5B61FWUg-5"
      }
    },
    {
      "cell_type": "code",
      "source": [
        "import logging\n",
        "\n",
        "logging.basicConfig(filename='programLog.txt', level=logging.DEBUG,\n",
        "\n",
        "format=' %(asctime)s - %(levelname)s - %(message)s')"
      ],
      "metadata": {
        "id": "lRCRmR7SUuOR"
      },
      "execution_count": null,
      "outputs": []
    },
    {
      "cell_type": "markdown",
      "source": [
        "6. What are the five levels of logging?"
      ],
      "metadata": {
        "id": "MoCiS8mTUupy"
      }
    },
    {
      "cell_type": "markdown",
      "source": [
        "DEBUG, INFO, WARNING, ERROR, and CRITICAL"
      ],
      "metadata": {
        "id": "mjq6vgx0UxXZ"
      }
    },
    {
      "cell_type": "markdown",
      "source": [
        "\n",
        "7. What line of code would you add to your software to disable all logging messages?"
      ],
      "metadata": {
        "id": "DHBxXPgzUzBZ"
      }
    },
    {
      "cell_type": "markdown",
      "source": [
        "logging.disable(logging.CRITICAL)"
      ],
      "metadata": {
        "id": "FYTCRe5WU2bR"
      }
    },
    {
      "cell_type": "markdown",
      "source": [
        "8.Why is using logging messages better than using print() to display the same message?"
      ],
      "metadata": {
        "id": "SsSgK3I6U3ui"
      }
    },
    {
      "cell_type": "markdown",
      "source": [
        "You can disable logging messages without removing the logging function calls. You can selectively disable lower-level logging messages. You can create logging messages. Logging messages provides a timestamp."
      ],
      "metadata": {
        "id": "C9oPIFwbU5Ux"
      }
    },
    {
      "cell_type": "markdown",
      "source": [
        "9. What are the differences between the Step Over, Step In, and Step Out buttons in the debugger?"
      ],
      "metadata": {
        "id": "ogy_5D-nU6_q"
      }
    },
    {
      "cell_type": "markdown",
      "source": [
        "The Step button will move the debugger into a function call. The Over button will quickly execute the function call without stepping into it. The Out button will quickly execute the rest of the code until it steps out of the function it currently is in."
      ],
      "metadata": {
        "id": "iuYoHQN9U9JS"
      }
    },
    {
      "cell_type": "markdown",
      "source": [
        "10.After you click Continue, when will the debugger stop ?"
      ],
      "metadata": {
        "id": "pO-GxGzHU_9C"
      }
    },
    {
      "cell_type": "markdown",
      "source": [
        "After you click Go, the debugger will stop when it has reached the end of the program or a line with a breakpoint."
      ],
      "metadata": {
        "id": "ZBJwOo0GVBU5"
      }
    },
    {
      "cell_type": "markdown",
      "source": [
        "\n",
        "\n",
        "11. What is the concept of a breakpoint?"
      ],
      "metadata": {
        "id": "ShpLNF_DT8pT"
      }
    },
    {
      "cell_type": "markdown",
      "source": [
        "A breakpoint is a setting on a line of code that causes the debugger to pause when the program execution reaches the line."
      ],
      "metadata": {
        "id": "-Tb2EFClVCBB"
      }
    }
  ]
}