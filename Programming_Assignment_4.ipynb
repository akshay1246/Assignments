{
  "nbformat": 4,
  "nbformat_minor": 0,
  "metadata": {
    "colab": {
      "provenance": []
    },
    "kernelspec": {
      "name": "python3",
      "display_name": "Python 3"
    },
    "language_info": {
      "name": "python"
    }
  },
  "cells": [
    {
      "cell_type": "markdown",
      "source": [
        "#1. Write a Python Program to Find the Factorial of a Number?\n"
      ],
      "metadata": {
        "id": "z7hIkYKQdwHv"
      }
    },
    {
      "cell_type": "code",
      "source": [
        "num=int(input('Enter a number : '))\n",
        "\n",
        "factorial=1\n",
        "\n",
        "if num==0:\n",
        "  print('Factorial of 0 is 1')\n",
        "if num<0:\n",
        "  print('Factorial does not exist for negative number')\n",
        "\n",
        "if num>1:\n",
        "  for i in range(1, num+1):\n",
        "    factorial=factorial*i\n",
        "    print(f'the factorial of {i} is {factorial}')\n",
        "\n"
      ],
      "metadata": {
        "colab": {
          "base_uri": "https://localhost:8080/"
        },
        "id": "FU2UAvfmdymE",
        "outputId": "f6625d6f-aa17-4bcc-cb03-90d2d6763548"
      },
      "execution_count": 11,
      "outputs": [
        {
          "output_type": "stream",
          "name": "stdout",
          "text": [
            "Enter a number : 4\n",
            "the factorial of 1 is 1\n",
            "the factorial of 2 is 2\n",
            "the factorial of 3 is 6\n",
            "the factorial of 4 is 24\n"
          ]
        }
      ]
    },
    {
      "cell_type": "markdown",
      "source": [
        "#2. Write a Python Program to Display the multiplication Table?"
      ],
      "metadata": {
        "id": "Fl_jc2eShws-"
      }
    },
    {
      "cell_type": "code",
      "source": [
        "for i in range(1,10):\n",
        "  print(f'10 X {i} = {10 *i}')"
      ],
      "metadata": {
        "colab": {
          "base_uri": "https://localhost:8080/"
        },
        "id": "gjS9_8KBf-ge",
        "outputId": "0c3e9a6e-2ba7-49a2-81ca-566aee532eef"
      },
      "execution_count": 13,
      "outputs": [
        {
          "output_type": "stream",
          "name": "stdout",
          "text": [
            "10 X 1 = 10\n",
            "10 X 2 = 20\n",
            "10 X 3 = 30\n",
            "10 X 4 = 40\n",
            "10 X 5 = 50\n",
            "10 X 6 = 60\n",
            "10 X 7 = 70\n",
            "10 X 8 = 80\n",
            "10 X 9 = 90\n"
          ]
        }
      ]
    },
    {
      "cell_type": "markdown",
      "source": [
        "#3. Write a Python Program to Print the Fibonacci sequence?"
      ],
      "metadata": {
        "id": "8r9GanPqiWfl"
      }
    },
    {
      "cell_type": "code",
      "source": [
        "\n",
        "nterms = int(input(\"How many terms? \"))\n",
        "\n",
        "\n",
        "n1, n2 = 0, 1\n",
        "count = 0\n",
        "\n",
        "\n",
        "if nterms <= 0:\n",
        "   print(\"Please enter a positive integer\")\n",
        "\n",
        "elif nterms == 1:\n",
        "   print(\"Fibonacci sequence upto\",nterms,\":\")\n",
        "   print(n1)\n",
        "\n",
        "else:\n",
        "   print(\"Fibonacci sequence:\")\n",
        "   while count < nterms:\n",
        "       print(n1)\n",
        "       nth = n1 + n2\n",
        "\n",
        "       n1 = n2\n",
        "       n2 = nth\n",
        "       count += 1"
      ],
      "metadata": {
        "colab": {
          "base_uri": "https://localhost:8080/"
        },
        "id": "P17B9FOliMaU",
        "outputId": "5dd1b8f1-d289-491f-e66a-e83b04181663"
      },
      "execution_count": 19,
      "outputs": [
        {
          "output_type": "stream",
          "name": "stdout",
          "text": [
            "How many terms? 10\n",
            "Fibonacci sequence:\n",
            "0\n",
            "1\n",
            "1\n",
            "2\n",
            "3\n",
            "5\n",
            "8\n",
            "13\n",
            "21\n",
            "34\n"
          ]
        }
      ]
    },
    {
      "cell_type": "markdown",
      "source": [
        "#4. Write a Python Program to Check Armstrong Number?"
      ],
      "metadata": {
        "id": "Z1m5YSFokBKc"
      }
    },
    {
      "cell_type": "code",
      "source": [
        "num=int(input('Enter a number:'))\n",
        "\n",
        "sum=0\n",
        "\n",
        "temp = num\n",
        "while temp > 0:\n",
        "   digit = temp % 10\n",
        "   sum += digit ** 3\n",
        "   temp //= 10\n",
        "\n",
        "if num == sum:\n",
        "   print(num,\"is an Armstrong number\")\n",
        "else:\n",
        "   print(num,\"is not an Armstrong number\")"
      ],
      "metadata": {
        "colab": {
          "base_uri": "https://localhost:8080/"
        },
        "id": "r0GlNNJUi9pk",
        "outputId": "235efdca-2994-4dd9-c5bb-63aeda5f42aa"
      },
      "execution_count": 40,
      "outputs": [
        {
          "output_type": "stream",
          "name": "stdout",
          "text": [
            "Enter a number:153\n",
            "153 is an Armstrong number\n"
          ]
        }
      ]
    },
    {
      "cell_type": "code",
      "source": [
        "num=int(input('Enter a number:'))\n",
        "\n",
        "\n",
        "sum=0\n",
        "\n",
        "temp = num\n",
        "while temp > 0:\n",
        "   digit = temp % 10\n",
        "   sum += digit ** 3\n",
        "   temp //= 10\n",
        "\n",
        "if num == sum:\n",
        "   print(num,\"is an Armstrong number\")\n",
        "else:\n",
        "   print(num,\"is not an Armstrong number\")"
      ],
      "metadata": {
        "colab": {
          "base_uri": "https://localhost:8080/"
        },
        "id": "MnhapH0Qo0Fs",
        "outputId": "cd5e1756-b834-4606-dfea-986d991149fe"
      },
      "execution_count": 38,
      "outputs": [
        {
          "output_type": "stream",
          "name": "stdout",
          "text": [
            "Enter a number:567\n",
            "567 is not an Armstrong number\n"
          ]
        }
      ]
    },
    {
      "cell_type": "markdown",
      "source": [
        "#5. Write a Python Program to Find Armstrong Number in an Interval?"
      ],
      "metadata": {
        "id": "vUjU7JoUpVib"
      }
    },
    {
      "cell_type": "code",
      "source": [
        "lower = 200\n",
        "upper = 500\n",
        "\n",
        "for num in range(lower, upper + 1):\n",
        "\n",
        "\n",
        "   order = len(str(num))\n",
        "    \n",
        "   sum = 0\n",
        "\n",
        "   temp = num\n",
        "   while temp > 0:\n",
        "       digit = temp % 10\n",
        "       sum += digit ** order\n",
        "       temp //= 10\n",
        "\n",
        "   if num == sum:\n",
        "       print(num)"
      ],
      "metadata": {
        "colab": {
          "base_uri": "https://localhost:8080/"
        },
        "id": "8hBSDYm5pY69",
        "outputId": "5f811579-c591-437c-9d10-7b2249db5b11"
      },
      "execution_count": 42,
      "outputs": [
        {
          "output_type": "stream",
          "name": "stdout",
          "text": [
            "370\n",
            "371\n",
            "407\n"
          ]
        }
      ]
    },
    {
      "cell_type": "markdown",
      "source": [
        "#6. Write a Python Program to Find the Sum of Natural Numbers?"
      ],
      "metadata": {
        "id": "ES9SXHvtj-yc"
      }
    },
    {
      "cell_type": "code",
      "source": [
        "num=15\n",
        "\n",
        "i=0\n",
        "sum=0\n",
        "\n",
        "while i<=num:\n",
        "  sum=sum+i\n",
        "  i=i+1\n",
        "print(sum)"
      ],
      "metadata": {
        "colab": {
          "base_uri": "https://localhost:8080/"
        },
        "id": "qfMvJOo_pkO1",
        "outputId": "0473e6bc-66c5-4fda-9da4-31c17da8c1df"
      },
      "execution_count": 45,
      "outputs": [
        {
          "output_type": "stream",
          "name": "stdout",
          "text": [
            "120\n"
          ]
        }
      ]
    },
    {
      "cell_type": "code",
      "source": [],
      "metadata": {
        "id": "XYoDoZnOp1Wv"
      },
      "execution_count": null,
      "outputs": []
    }
  ]
}