{
  "nbformat": 4,
  "nbformat_minor": 0,
  "metadata": {
    "colab": {
      "provenance": []
    },
    "kernelspec": {
      "name": "python3",
      "display_name": "Python 3"
    },
    "language_info": {
      "name": "python"
    }
  },
  "cells": [
    {
      "cell_type": "markdown",
      "source": [
        "1. What advantages do Excel spreadsheets have over CSV spreadsheets?"
      ],
      "metadata": {
        "id": "U3AqndoZXGDy"
      }
    },
    {
      "cell_type": "markdown",
      "source": [
        "While Excel (XLS and XLSX) file formats are better for storing more complex data, CSV files are supported by nearly all data upload interface"
      ],
      "metadata": {
        "id": "w9RaT6WFXFVR"
      }
    },
    {
      "cell_type": "markdown",
      "source": [
        "2.What do you pass to csv.reader() and csv.writer() to create reader and writer objects?"
      ],
      "metadata": {
        "id": "6cG5M6_uXKeQ"
      }
    },
    {
      "cell_type": "markdown",
      "source": [
        "The csv module's reader and writer objects read and write sequences"
      ],
      "metadata": {
        "id": "nsbj3y0pXN2x"
      }
    },
    {
      "cell_type": "markdown",
      "source": [
        "3. What modes do File objects for reader and writer objects need to be opened in?"
      ],
      "metadata": {
        "id": "MvGxHt3YXWhh"
      }
    },
    {
      "cell_type": "markdown",
      "source": [
        "By default, files are opened in text mode that means strings can be read or written"
      ],
      "metadata": {
        "id": "fNX0qDImXe5p"
      }
    },
    {
      "cell_type": "markdown",
      "source": [
        "4. What method takes a list argument and writes it to a CSV file?"
      ],
      "metadata": {
        "id": "wnYHaijQXjJh"
      }
    },
    {
      "cell_type": "markdown",
      "source": [
        "writerow() method of writer and DictWriter class"
      ],
      "metadata": {
        "id": "zW2tazhHXpRC"
      }
    },
    {
      "cell_type": "markdown",
      "source": [
        "5. What do the keyword arguments delimiter and line terminator do?"
      ],
      "metadata": {
        "id": "_zHnQXZkXpjJ"
      }
    },
    {
      "cell_type": "markdown",
      "source": [
        "The delimiter is the character that appears between cells on a row.This changes the delimiter and line terminator characters in your file"
      ],
      "metadata": {
        "id": "I2AGINhUXqfx"
      }
    },
    {
      "cell_type": "markdown",
      "source": [
        "6. What function takes a string of JSON data and returns a Python data structure?"
      ],
      "metadata": {
        "id": "bRdwlhyTXuXC"
      }
    },
    {
      "cell_type": "markdown",
      "source": [
        "json.loads() method."
      ],
      "metadata": {
        "id": "5WGYhctdX3Nx"
      }
    },
    {
      "cell_type": "markdown",
      "source": [
        "7. What function takes a Python data structure and returns a string of JSON data?"
      ],
      "metadata": {
        "id": "S24mEQG0X6Cx"
      }
    },
    {
      "cell_type": "markdown",
      "source": [
        "json.dumps()"
      ],
      "metadata": {
        "id": "dCFfOc_MX8Rg"
      }
    }
  ]
}