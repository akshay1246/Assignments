{
  "cells": [
    {
      "cell_type": "markdown",
      "id": "liberal-account",
      "metadata": {
        "id": "liberal-account"
      },
      "source": [
        "1. Set the variable test1 to the string 'This is a test of the emergency text system,' and save test1 to a file named test.txt.\n",
        "\n",
        "\n",
        "\n",
        "    \n"
      ]
    },
    {
      "cell_type": "code",
      "execution_count": null,
      "id": "e63cbe12",
      "metadata": {
        "id": "e63cbe12",
        "outputId": "1cd5be4f-7e15-47e1-f8a7-bddb4c7ff540"
      },
      "outputs": [
        {
          "data": {
            "text/plain": [
              "43"
            ]
          },
          "execution_count": 1,
          "metadata": {},
          "output_type": "execute_result"
        }
      ],
      "source": [
        "test1 = 'This is a test of the emergency text system'\n",
        "len(test1)"
      ]
    },
    {
      "cell_type": "code",
      "execution_count": null,
      "id": "a764bd92",
      "metadata": {
        "id": "a764bd92"
      },
      "outputs": [],
      "source": [
        "with open('test.txt', 'wt') as outfile:\n",
        "    outfile.write(test1)"
      ]
    },
    {
      "cell_type": "code",
      "execution_count": null,
      "id": "931debca",
      "metadata": {
        "id": "931debca"
      },
      "outputs": [],
      "source": [
        "outfile.close()"
      ]
    },
    {
      "cell_type": "markdown",
      "id": "sharing-council",
      "metadata": {
        "id": "sharing-council"
      },
      "source": [
        "2.  Read the contents of the file test.txt into the variable test2. Is there a difference between test 1 and test 2?\n",
        "\n",
        "\n",
        "\n",
        "    \n"
      ]
    },
    {
      "cell_type": "code",
      "execution_count": null,
      "id": "3076b874",
      "metadata": {
        "id": "3076b874",
        "outputId": "c6c72422-a2c9-47f8-f392-ea71cd1bdbf8"
      },
      "outputs": [
        {
          "data": {
            "text/plain": [
              "43"
            ]
          },
          "execution_count": 8,
          "metadata": {},
          "output_type": "execute_result"
        }
      ],
      "source": [
        "with open('test.txt', 'rt') as infile:\n",
        "    test2 = infile.read()\n",
        "len(test2)"
      ]
    },
    {
      "cell_type": "code",
      "execution_count": null,
      "id": "98dfe544",
      "metadata": {
        "id": "98dfe544",
        "outputId": "6b681a99-3f53-48a6-a15d-3252c3778c1b"
      },
      "outputs": [
        {
          "data": {
            "text/plain": [
              "True"
            ]
          },
          "execution_count": 9,
          "metadata": {},
          "output_type": "execute_result"
        }
      ],
      "source": [
        " test1 == test2"
      ]
    },
    {
      "cell_type": "markdown",
      "id": "acute-talent",
      "metadata": {
        "id": "acute-talent"
      },
      "source": [
        "3. \n",
        "    \n",
        " Create a CSV file called books.csv by using these lines: \n",
        "    \n",
        "title,author,year\n",
        "    \n",
        "The Weirdstone of Brisingamen,Alan Garner,1960\n",
        "    \n",
        "Perdido Street Station,China Miéville,2000\n",
        "    \n",
        "Thud!,Terry Pratchett,2005\n",
        "    \n",
        "The Spellman Files,Lisa Lutz,2007\n",
        "    \n",
        "Small Gods,Terry Pratchett,1992\n",
        "\n",
        "\n"
      ]
    },
    {
      "cell_type": "code",
      "execution_count": null,
      "id": "556c28dc",
      "metadata": {
        "id": "556c28dc"
      },
      "outputs": [],
      "source": [
        "text = '''title,author,year\n",
        "The Weirdstone of Brisingamen,Alan Garner,1960\n",
        "Perdido Street Station,China Miéville,2000\n",
        "Thud!,Terry Pratchett,2005\n",
        "The Spellman Files,Lisa Lutz,2007\n",
        "Small Gods,Terry Pratchett,1992\n",
        "'''\n",
        "with open('books.csv', 'wt') as outfile:\n",
        "    outfile.write(text)"
      ]
    },
    {
      "cell_type": "markdown",
      "id": "outdoor-setup",
      "metadata": {
        "id": "outdoor-setup"
      },
      "source": [
        "4.  Use the sqlite3 module to create a SQLite database called books.db, and a table called books with these fields: title (text), author (text), and year (integer).\n",
        "\n",
        "\n",
        "\n",
        "    \n"
      ]
    },
    {
      "cell_type": "code",
      "execution_count": null,
      "id": "775e9e71",
      "metadata": {
        "id": "775e9e71",
        "outputId": "262ad427-3e13-4ac6-90d5-06888d434bc8"
      },
      "outputs": [
        {
          "data": {
            "text/plain": [
              "<sqlite3.Cursor at 0x232a4da8030>"
            ]
          },
          "execution_count": 11,
          "metadata": {},
          "output_type": "execute_result"
        }
      ],
      "source": [
        "import sqlite3\n",
        "db = sqlite3.connect('books.db')\n",
        "curs = db.cursor()\n",
        "curs.execute('''create table book (title text, author text, year int)''')"
      ]
    },
    {
      "cell_type": "code",
      "execution_count": null,
      "id": "a6a29a29",
      "metadata": {
        "id": "a6a29a29"
      },
      "outputs": [],
      "source": [
        " db.commit()"
      ]
    },
    {
      "cell_type": "markdown",
      "id": "caring-viewer",
      "metadata": {
        "id": "caring-viewer"
      },
      "source": [
        "\n",
        "5. Read books.csv and insert its data into the book table.\n",
        "\n",
        "\n",
        "\n",
        "    \n"
      ]
    },
    {
      "cell_type": "code",
      "execution_count": null,
      "id": "3a77990e",
      "metadata": {
        "id": "3a77990e"
      },
      "outputs": [],
      "source": [
        "import csv\n",
        "import sqlite3\n",
        "ins_str = 'insert into book values(?, ?, ?)'\n",
        "with open('books.csv', 'rt') as infile:\n",
        "    books = csv.DictReader(infile)\n",
        "    for book in books:\n",
        "        curs.execute(ins_str, (book['title'], book['author'], book['year']))"
      ]
    },
    {
      "cell_type": "code",
      "execution_count": null,
      "id": "9b02e8c5",
      "metadata": {
        "id": "9b02e8c5"
      },
      "outputs": [],
      "source": [
        "db.commit()"
      ]
    },
    {
      "cell_type": "markdown",
      "id": "complimentary-cabinet",
      "metadata": {
        "id": "complimentary-cabinet"
      },
      "source": [
        "6.  Select and print the title column from the book table in alphabetical order.\n",
        "\n",
        "\n",
        "    \n"
      ]
    },
    {
      "cell_type": "code",
      "execution_count": null,
      "id": "de2d912b",
      "metadata": {
        "id": "de2d912b",
        "outputId": "d0878823-eb64-45bf-baf8-1fb206239db4"
      },
      "outputs": [
        {
          "name": "stdout",
          "output_type": "stream",
          "text": [
            "('Perdido Street Station',)\n",
            "('Small Gods',)\n",
            "('The Spellman Files',)\n",
            "('The Weirdstone of Brisingamen',)\n",
            "('Thud!',)\n"
          ]
        }
      ],
      "source": [
        "sql = 'select title from book order by title asc'\n",
        "for row in db.execute(sql):\n",
        "    print(row)"
      ]
    },
    {
      "cell_type": "code",
      "execution_count": null,
      "id": "963e1de8",
      "metadata": {
        "id": "963e1de8",
        "outputId": "7bcfc684-4c22-461c-9fd5-f9868b0c00ae"
      },
      "outputs": [
        {
          "name": "stdout",
          "output_type": "stream",
          "text": [
            "Perdido Street Station\n",
            "Small Gods\n",
            "The Spellman Files\n",
            "The Weirdstone of Brisingamen\n",
            "Thud!\n"
          ]
        }
      ],
      "source": [
        "#to print the title value without that tuple stuff (parentheses and comma):\n",
        "for row in db.execute(sql):\n",
        "    print(row[0])"
      ]
    },
    {
      "cell_type": "markdown",
      "id": "special-graduation",
      "metadata": {
        "id": "special-graduation"
      },
      "source": [
        "7.  From the book table, select and print all columns in the order of publication.\n",
        "\n",
        "\n",
        "    \n"
      ]
    },
    {
      "cell_type": "code",
      "execution_count": null,
      "id": "ed07c931",
      "metadata": {
        "id": "ed07c931",
        "outputId": "76c59b78-2be0-483d-a3fe-6c4c09d1f6e8"
      },
      "outputs": [
        {
          "name": "stdout",
          "output_type": "stream",
          "text": [
            "('The Weirdstone of Brisingamen', 'Alan Garner', 1960)\n",
            "('Small Gods', 'Terry Pratchett', 1992)\n",
            "('Perdido Street Station', 'China Miéville', 2000)\n",
            "('Thud!', 'Terry Pratchett', 2005)\n",
            "('The Spellman Files', 'Lisa Lutz', 2007)\n"
          ]
        }
      ],
      "source": [
        "for row in db.execute('select * from book order by year'):\n",
        "    print(row)"
      ]
    },
    {
      "cell_type": "code",
      "execution_count": null,
      "id": "10525add",
      "metadata": {
        "id": "10525add",
        "outputId": "fb10596c-8022-4374-f9bd-c1b7eb4b354c"
      },
      "outputs": [
        {
          "name": "stdout",
          "output_type": "stream",
          "text": [
            "The Weirdstone of Brisingamen, Alan Garner, 1960\n",
            "Small Gods, Terry Pratchett, 1992\n",
            "Perdido Street Station, China Miéville, 2000\n",
            "Thud!, Terry Pratchett, 2005\n",
            "The Spellman Files, Lisa Lutz, 2007\n"
          ]
        }
      ],
      "source": [
        "#To print all the fields in each row, just separate with a comma and space:\n",
        "for row in db.execute('select * from book order by year'):\n",
        "    print(*row, sep=', ')"
      ]
    },
    {
      "cell_type": "markdown",
      "id": "conscious-adult",
      "metadata": {
        "id": "conscious-adult"
      },
      "source": [
        "8. Use the sqlalchemy module to connect to the sqlite3 database books.db that you just made in exercise 6.\n",
        "\n",
        "\n",
        "\n",
        "    \n"
      ]
    },
    {
      "cell_type": "code",
      "execution_count": null,
      "id": "928e0640",
      "metadata": {
        "id": "928e0640",
        "outputId": "aad9c801-5aaf-4df6-b5eb-cd5b3b1824ca"
      },
      "outputs": [
        {
          "name": "stdout",
          "output_type": "stream",
          "text": [
            "('Perdido Street Station',)\n",
            "('Small Gods',)\n",
            "('The Spellman Files',)\n",
            "('The Weirdstone of Brisingamen',)\n",
            "('Thud!',)\n"
          ]
        }
      ],
      "source": [
        "import sqlalchemy\n",
        "conn = sqlalchemy.create_engine('sqlite:///books.db')\n",
        "sql = 'select title from book order by title asc'\n",
        "rows = conn.execute(sql)\n",
        "for row in rows:\n",
        "    print(row)"
      ]
    },
    {
      "cell_type": "markdown",
      "id": "dynamic-madison",
      "metadata": {
        "id": "dynamic-madison"
      },
      "source": [
        "9. Install the Redis server and the Python redis library (pip install redis) on your computer. Create a Redis hash called test with the fields count (1) and name ('Fester Bestertester'). Print all the fields for test.\n",
        "\n",
        "\n",
        "    \n"
      ]
    },
    {
      "cell_type": "code",
      "execution_count": null,
      "id": "1f4e4457",
      "metadata": {
        "id": "1f4e4457",
        "outputId": "1b51b8ad-dff4-422b-c747-196a73f943af"
      },
      "outputs": [
        {
          "data": {
            "text/plain": [
              "0"
            ]
          },
          "execution_count": 3,
          "metadata": {},
          "output_type": "execute_result"
        }
      ],
      "source": [
        "import redis\n",
        "conn = redis.Redis()\n",
        "conn.delete('test')"
      ]
    },
    {
      "cell_type": "code",
      "execution_count": null,
      "id": "26b92ecf",
      "metadata": {
        "id": "26b92ecf",
        "outputId": "323679cc-c451-4659-f5a7-8f45ec127a28"
      },
      "outputs": [
        {
          "name": "stderr",
          "output_type": "stream",
          "text": [
            "<ipython-input-11-b2322e814ff4>:1: DeprecationWarning: Redis.hmset() is deprecated. Use Redis.hset() instead.\n",
            "  conn.hmset('test', {'count': 1, 'name': 'Fester Bestertester'})\n"
          ]
        },
        {
          "data": {
            "text/plain": [
              "True"
            ]
          },
          "execution_count": 11,
          "metadata": {},
          "output_type": "execute_result"
        }
      ],
      "source": [
        "conn.hmset('test', {'count': 1, 'name': 'Fester Bestertester'})"
      ]
    },
    {
      "cell_type": "code",
      "execution_count": null,
      "id": "e4f12fba",
      "metadata": {
        "id": "e4f12fba",
        "outputId": "2cc8601a-c9a1-4696-f93a-daeef620dffa"
      },
      "outputs": [
        {
          "data": {
            "text/plain": [
              "{b'count': b'1', b'name': b'Fester Bestertester'}"
            ]
          },
          "execution_count": 12,
          "metadata": {},
          "output_type": "execute_result"
        }
      ],
      "source": [
        "conn.hgetall('test')"
      ]
    },
    {
      "cell_type": "markdown",
      "id": "continuing-drama",
      "metadata": {
        "id": "continuing-drama"
      },
      "source": [
        "10. Increment the count field of test and print it.\n",
        "\n",
        "\n",
        "\n",
        "    \n"
      ]
    },
    {
      "cell_type": "code",
      "execution_count": null,
      "id": "238e6202",
      "metadata": {
        "id": "238e6202",
        "outputId": "ea0725aa-d12c-4fcb-d074-81b7e893e725"
      },
      "outputs": [
        {
          "data": {
            "text/plain": [
              "4"
            ]
          },
          "execution_count": 13,
          "metadata": {},
          "output_type": "execute_result"
        }
      ],
      "source": [
        "conn.hincrby('test', 'count', 3)"
      ]
    },
    {
      "cell_type": "code",
      "execution_count": null,
      "id": "1ff986d8",
      "metadata": {
        "id": "1ff986d8",
        "outputId": "900a05b0-73d7-4ab9-c958-8c43d72189b8"
      },
      "outputs": [
        {
          "data": {
            "text/plain": [
              "b'4'"
            ]
          },
          "execution_count": 14,
          "metadata": {},
          "output_type": "execute_result"
        }
      ],
      "source": [
        "conn.hget('test', 'count')"
      ]
    }
  ],
  "metadata": {
    "kernelspec": {
      "display_name": "Python 3",
      "language": "python",
      "name": "python3"
    },
    "language_info": {
      "codemirror_mode": {
        "name": "ipython",
        "version": 3
      },
      "file_extension": ".py",
      "mimetype": "text/x-python",
      "name": "python",
      "nbconvert_exporter": "python",
      "pygments_lexer": "ipython3",
      "version": "3.8.8"
    },
    "toc": {
      "base_numbering": 1,
      "nav_menu": {},
      "number_sections": true,
      "sideBar": true,
      "skip_h1_title": false,
      "title_cell": "Table of Contents",
      "title_sidebar": "Contents",
      "toc_cell": false,
      "toc_position": {},
      "toc_section_display": true,
      "toc_window_display": false
    },
    "colab": {
      "provenance": []
    }
  },
  "nbformat": 4,
  "nbformat_minor": 5
}