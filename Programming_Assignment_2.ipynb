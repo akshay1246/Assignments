{
  "nbformat": 4,
  "nbformat_minor": 0,
  "metadata": {
    "colab": {
      "provenance": []
    },
    "kernelspec": {
      "name": "python3",
      "display_name": "Python 3"
    },
    "language_info": {
      "name": "python"
    }
  },
  "cells": [
    {
      "cell_type": "markdown",
      "source": [
        "#1.Write a Python program to convert kilometers to miles?\n",
        "\n",
        "1 Km is equal to 0.62 miles\n",
        "\n",
        "Kms = 100\n",
        "\n",
        "so 100 km becomes 100*0.62 in miles"
      ],
      "metadata": {
        "id": "t317C4L3JCby"
      }
    },
    {
      "cell_type": "code",
      "source": [
        "print('100 kms is equal to: '+ str(0.62*100) + ' miles')"
      ],
      "metadata": {
        "colab": {
          "base_uri": "https://localhost:8080/"
        },
        "id": "OypZ1iA5JIvb",
        "outputId": "58ca5a85-6c3c-48c9-8837-2dcd8ba53e75"
      },
      "execution_count": 5,
      "outputs": [
        {
          "output_type": "stream",
          "name": "stdout",
          "text": [
            "100 kms is equal to: 62.0 miles\n"
          ]
        }
      ]
    },
    {
      "cell_type": "markdown",
      "source": [
        "#2.\tWrite a Python program to convert Celsius to Fahrenheit?\n",
        "\n",
        "F = °C × (9/5) + 32\n",
        "\n",
        "so 10 degrees Celsius will become 10*(9/5)+32 degrees Fahrenheit"
      ],
      "metadata": {
        "id": "bmzWGV0tJiK5"
      }
    },
    {
      "cell_type": "code",
      "source": [
        "print('10 degrees Celsius is equal to: '+ str(10*(9/5)+32) + ' degrees Fahrenheit')\n"
      ],
      "metadata": {
        "colab": {
          "base_uri": "https://localhost:8080/"
        },
        "id": "1vK6stTFJy2I",
        "outputId": "f3044b75-977c-4a7a-edc5-74aecfc8915b"
      },
      "execution_count": 7,
      "outputs": [
        {
          "output_type": "stream",
          "name": "stdout",
          "text": [
            "10 degrees Celsius is equal to: 50.0 degrees Fahrenheit\n"
          ]
        }
      ]
    },
    {
      "cell_type": "markdown",
      "source": [
        "#3.\tWrite a Python program to display calendar?\n"
      ],
      "metadata": {
        "id": "845fKF3_K2IA"
      }
    },
    {
      "cell_type": "code",
      "source": [
        "import calendar\n",
        "\n",
        "Year= 2022 \n",
        "Month = 10    \n",
        "\n",
        "print(calendar.month(Year, Month))"
      ],
      "metadata": {
        "colab": {
          "base_uri": "https://localhost:8080/"
        },
        "id": "WWnr1Cr4JpZS",
        "outputId": "bc7e9174-131d-4a49-800c-a2334666a139"
      },
      "execution_count": 9,
      "outputs": [
        {
          "output_type": "stream",
          "name": "stdout",
          "text": [
            "    October 2022\n",
            "Mo Tu We Th Fr Sa Su\n",
            "                1  2\n",
            " 3  4  5  6  7  8  9\n",
            "10 11 12 13 14 15 16\n",
            "17 18 19 20 21 22 23\n",
            "24 25 26 27 28 29 30\n",
            "31\n",
            "\n"
          ]
        }
      ]
    },
    {
      "cell_type": "markdown",
      "source": [
        "# 4. Write a Python program to solve quadratic equation?\n",
        "\n",
        "Quadratic equatuon formula = ax2 + bx +c\n",
        "\n",
        "solution is given by= (-b ± (b ** 2 - 4 * a * c) ** 0.5) / (2 * a)\n"
      ],
      "metadata": {
        "id": "tmFB567qLiBB"
      }
    },
    {
      "cell_type": "code",
      "source": [
        "import cmath\n",
        "\n",
        "a = 1\n",
        "b = 2\n",
        "c = 3\n",
        "\n",
        "#discriminant\n",
        "d = (b**2) - (4*a*c)\n",
        "\n",
        "# find two solutions\n",
        "sol1 = (-b-cmath.sqrt(d))/(2*a)\n",
        "sol2 = (-b+cmath.sqrt(d))/(2*a)\n",
        "\n",
        "print(f'The quadration solution is given by {(sol1)} and {(sol2)}')"
      ],
      "metadata": {
        "colab": {
          "base_uri": "https://localhost:8080/"
        },
        "id": "i40JHtlxOffZ",
        "outputId": "55825682-b197-43a4-a2aa-c14f2d6b18d8"
      },
      "execution_count": 15,
      "outputs": [
        {
          "output_type": "stream",
          "name": "stdout",
          "text": [
            "The quadration solution is given by (-1-1.4142135623730951j) and (-1+1.4142135623730951j)\n"
          ]
        }
      ]
    },
    {
      "cell_type": "markdown",
      "source": [
        "#5.\tWrite a Python program to swap two variables without temp variable?"
      ],
      "metadata": {
        "id": "o5pfMpINPXJT"
      }
    },
    {
      "cell_type": "code",
      "source": [
        "a=10\n",
        "b=20\n",
        "\n",
        " \n",
        "a=5\n",
        "b=10\n",
        "\n",
        "a = a + b  \n",
        "b = a - b   \n",
        "a = a - b   \n",
        "print(\"The value of a is changed from 5 to :\",a,\"and b is changed from 10 to:\",b)\n",
        "\n"
      ],
      "metadata": {
        "colab": {
          "base_uri": "https://localhost:8080/"
        },
        "id": "Zba6VAB4IkUR",
        "outputId": "6ac3ac02-4966-4c34-803c-d8e38307270d"
      },
      "execution_count": 18,
      "outputs": [
        {
          "output_type": "stream",
          "name": "stdout",
          "text": [
            "The value of a is changed from 5 to : 10 and b is changed from 10 to: 5\n"
          ]
        }
      ]
    }
  ]
}